{
 "cells": [
  {
   "cell_type": "code",
   "execution_count": 1,
   "id": "44869a60",
   "metadata": {},
   "outputs": [],
   "source": [
    "import math\n",
    "import numpy as np\n",
    "import pandas as pd\n",
    "import scipy.stats as stats\n",
    "import matplotlib.pyplot as plt\n",
    "import seaborn as sns\n",
    "from sklearn.preprocessing import StandardScaler, MinMaxScaler\n",
    "from sklearn.cluster import KMeans, DBSCAN, AgglomerativeClustering\n",
    "from sklearn import preprocessing\n",
    "from sklearn.cluster import OPTICS\n",
    "from sklearn.metrics import silhouette_score\n",
    "from scipy.spatial.distance import pdist, squareform\n",
    "from sklearn.tree import DecisionTreeClassifier\n",
    "from sklearn.model_selection import train_test_split, cross_val_score \n",
    "from sklearn.metrics import accuracy_score, f1_score, classification_report\n",
    "from sklearn.metrics import roc_curve, auc, roc_auc_score\n",
    "from sklearn.feature_selection import VarianceThreshold\n",
    "from sklearn.decomposition import PCA\n",
    "from mpl_toolkits import mplot3d\n",
    "from matplotlib.pyplot import figure"
   ]
  },
  {
   "cell_type": "code",
   "execution_count": 2,
   "id": "1a690281",
   "metadata": {},
   "outputs": [],
   "source": [
    "train_data=pd.read_csv(\"/Users/davidepiccoli/Desktop/data mining/project 2/ravdess_features_dm2/RavdessAudioOnlyFeatures_TRAIN.csv\")\n",
    "test_data=pd.read_csv(\"/Users/davidepiccoli/Desktop/data mining/project 2/ravdess_features_dm2/RavdessAudioOnlyFeatures_TEST.csv\")"
   ]
  },
  {
   "cell_type": "code",
   "execution_count": 3,
   "id": "9f227118",
   "metadata": {},
   "outputs": [
    {
     "name": "stdout",
     "output_type": "stream",
     "text": [
      "(1828, 434) (624, 434)\n"
     ]
    }
   ],
   "source": [
    "print(train_data.shape, test_data.shape)"
   ]
  },
  {
   "cell_type": "code",
   "execution_count": 4,
   "id": "fdec8003",
   "metadata": {},
   "outputs": [
    {
     "data": {
      "text/html": [
       "<div>\n",
       "<style scoped>\n",
       "    .dataframe tbody tr th:only-of-type {\n",
       "        vertical-align: middle;\n",
       "    }\n",
       "\n",
       "    .dataframe tbody tr th {\n",
       "        vertical-align: top;\n",
       "    }\n",
       "\n",
       "    .dataframe thead th {\n",
       "        text-align: right;\n",
       "    }\n",
       "</style>\n",
       "<table border=\"1\" class=\"dataframe\">\n",
       "  <thead>\n",
       "    <tr style=\"text-align: right;\">\n",
       "      <th></th>\n",
       "      <th>actor</th>\n",
       "      <th>frame_count</th>\n",
       "      <th>sum</th>\n",
       "      <th>mean</th>\n",
       "      <th>std</th>\n",
       "      <th>min</th>\n",
       "      <th>max</th>\n",
       "      <th>q01</th>\n",
       "      <th>q05</th>\n",
       "      <th>q25</th>\n",
       "      <th>...</th>\n",
       "      <th>stft_max_w4</th>\n",
       "      <th>stft_q01_w4</th>\n",
       "      <th>stft_q05_w4</th>\n",
       "      <th>stft_q25_w4</th>\n",
       "      <th>stft_q50_w4</th>\n",
       "      <th>stft_q75_w4</th>\n",
       "      <th>stft_q95_w4</th>\n",
       "      <th>stft_q99_w4</th>\n",
       "      <th>stft_kur_w4</th>\n",
       "      <th>stft_skew_w4</th>\n",
       "    </tr>\n",
       "  </thead>\n",
       "  <tbody>\n",
       "    <tr>\n",
       "      <th>count</th>\n",
       "      <td>1828.000000</td>\n",
       "      <td>1828.000000</td>\n",
       "      <td>1828.000000</td>\n",
       "      <td>1.828000e+03</td>\n",
       "      <td>1828.000000</td>\n",
       "      <td>1828.000000</td>\n",
       "      <td>1828.000000</td>\n",
       "      <td>1828.000000</td>\n",
       "      <td>1828.000000</td>\n",
       "      <td>1828.000000</td>\n",
       "      <td>...</td>\n",
       "      <td>1828.0</td>\n",
       "      <td>1828.000000</td>\n",
       "      <td>1828.000000</td>\n",
       "      <td>1828.000000</td>\n",
       "      <td>1828.000000</td>\n",
       "      <td>1828.000000</td>\n",
       "      <td>1828.000000</td>\n",
       "      <td>1828.0</td>\n",
       "      <td>1828.000000</td>\n",
       "      <td>1828.000000</td>\n",
       "    </tr>\n",
       "    <tr>\n",
       "      <th>mean</th>\n",
       "      <td>9.295405</td>\n",
       "      <td>194588.269694</td>\n",
       "      <td>0.011480</td>\n",
       "      <td>2.631271e-08</td>\n",
       "      <td>0.020003</td>\n",
       "      <td>-0.163561</td>\n",
       "      <td>0.176284</td>\n",
       "      <td>-0.067207</td>\n",
       "      <td>-0.031204</td>\n",
       "      <td>-0.001011</td>\n",
       "      <td>...</td>\n",
       "      <td>1.0</td>\n",
       "      <td>0.120335</td>\n",
       "      <td>0.201699</td>\n",
       "      <td>0.456521</td>\n",
       "      <td>0.666192</td>\n",
       "      <td>0.842724</td>\n",
       "      <td>0.999818</td>\n",
       "      <td>1.0</td>\n",
       "      <td>-0.555631</td>\n",
       "      <td>-0.389952</td>\n",
       "    </tr>\n",
       "    <tr>\n",
       "      <th>std</th>\n",
       "      <td>5.079148</td>\n",
       "      <td>28480.301163</td>\n",
       "      <td>9.306631</td>\n",
       "      <td>4.929263e-05</td>\n",
       "      <td>0.020499</td>\n",
       "      <td>0.174879</td>\n",
       "      <td>0.193032</td>\n",
       "      <td>0.069398</td>\n",
       "      <td>0.031051</td>\n",
       "      <td>0.001624</td>\n",
       "      <td>...</td>\n",
       "      <td>0.0</td>\n",
       "      <td>0.130108</td>\n",
       "      <td>0.168295</td>\n",
       "      <td>0.167305</td>\n",
       "      <td>0.123141</td>\n",
       "      <td>0.078090</td>\n",
       "      <td>0.005041</td>\n",
       "      <td>0.0</td>\n",
       "      <td>0.776547</td>\n",
       "      <td>0.433813</td>\n",
       "    </tr>\n",
       "    <tr>\n",
       "      <th>min</th>\n",
       "      <td>1.000000</td>\n",
       "      <td>140941.000000</td>\n",
       "      <td>-151.120178</td>\n",
       "      <td>-9.435576e-04</td>\n",
       "      <td>0.000652</td>\n",
       "      <td>-0.998810</td>\n",
       "      <td>0.004669</td>\n",
       "      <td>-0.492982</td>\n",
       "      <td>-0.246616</td>\n",
       "      <td>-0.015625</td>\n",
       "      <td>...</td>\n",
       "      <td>1.0</td>\n",
       "      <td>0.000000</td>\n",
       "      <td>0.000000</td>\n",
       "      <td>0.000000</td>\n",
       "      <td>0.000000</td>\n",
       "      <td>0.007891</td>\n",
       "      <td>0.839625</td>\n",
       "      <td>1.0</td>\n",
       "      <td>-1.644320</td>\n",
       "      <td>-1.938627</td>\n",
       "    </tr>\n",
       "    <tr>\n",
       "      <th>25%</th>\n",
       "      <td>5.000000</td>\n",
       "      <td>171371.000000</td>\n",
       "      <td>-0.353432</td>\n",
       "      <td>-1.805578e-06</td>\n",
       "      <td>0.006509</td>\n",
       "      <td>-0.202370</td>\n",
       "      <td>0.053307</td>\n",
       "      <td>-0.085493</td>\n",
       "      <td>-0.040550</td>\n",
       "      <td>-0.001190</td>\n",
       "      <td>...</td>\n",
       "      <td>1.0</td>\n",
       "      <td>0.014703</td>\n",
       "      <td>0.051222</td>\n",
       "      <td>0.342588</td>\n",
       "      <td>0.609088</td>\n",
       "      <td>0.812227</td>\n",
       "      <td>1.000000</td>\n",
       "      <td>1.0</td>\n",
       "      <td>-1.007945</td>\n",
       "      <td>-0.636543</td>\n",
       "    </tr>\n",
       "    <tr>\n",
       "      <th>50%</th>\n",
       "      <td>9.000000</td>\n",
       "      <td>188989.000000</td>\n",
       "      <td>-0.036697</td>\n",
       "      <td>-2.047901e-07</td>\n",
       "      <td>0.013575</td>\n",
       "      <td>-0.100555</td>\n",
       "      <td>0.105606</td>\n",
       "      <td>-0.045059</td>\n",
       "      <td>-0.021912</td>\n",
       "      <td>-0.000397</td>\n",
       "      <td>...</td>\n",
       "      <td>1.0</td>\n",
       "      <td>0.070476</td>\n",
       "      <td>0.161748</td>\n",
       "      <td>0.475102</td>\n",
       "      <td>0.683680</td>\n",
       "      <td>0.855090</td>\n",
       "      <td>1.000000</td>\n",
       "      <td>1.0</td>\n",
       "      <td>-0.745296</td>\n",
       "      <td>-0.405489</td>\n",
       "    </tr>\n",
       "    <tr>\n",
       "      <th>75%</th>\n",
       "      <td>14.000000</td>\n",
       "      <td>214614.000000</td>\n",
       "      <td>0.199814</td>\n",
       "      <td>1.008195e-06</td>\n",
       "      <td>0.025762</td>\n",
       "      <td>-0.051682</td>\n",
       "      <td>0.219269</td>\n",
       "      <td>-0.022423</td>\n",
       "      <td>-0.010315</td>\n",
       "      <td>-0.000122</td>\n",
       "      <td>...</td>\n",
       "      <td>1.0</td>\n",
       "      <td>0.189830</td>\n",
       "      <td>0.335955</td>\n",
       "      <td>0.590281</td>\n",
       "      <td>0.747868</td>\n",
       "      <td>0.889619</td>\n",
       "      <td>1.000000</td>\n",
       "      <td>1.0</td>\n",
       "      <td>-0.316342</td>\n",
       "      <td>-0.156594</td>\n",
       "    </tr>\n",
       "    <tr>\n",
       "      <th>max</th>\n",
       "      <td>18.000000</td>\n",
       "      <td>304304.000000</td>\n",
       "      <td>240.889893</td>\n",
       "      <td>1.222810e-03</td>\n",
       "      <td>0.152168</td>\n",
       "      <td>-0.006134</td>\n",
       "      <td>0.999146</td>\n",
       "      <td>-0.002441</td>\n",
       "      <td>-0.000580</td>\n",
       "      <td>0.000000</td>\n",
       "      <td>...</td>\n",
       "      <td>1.0</td>\n",
       "      <td>0.645577</td>\n",
       "      <td>0.726413</td>\n",
       "      <td>0.834716</td>\n",
       "      <td>0.930228</td>\n",
       "      <td>0.986704</td>\n",
       "      <td>1.000000</td>\n",
       "      <td>1.0</td>\n",
       "      <td>7.127631</td>\n",
       "      <td>2.880807</td>\n",
       "    </tr>\n",
       "  </tbody>\n",
       "</table>\n",
       "<p>8 rows × 426 columns</p>\n",
       "</div>"
      ],
      "text/plain": [
       "             actor    frame_count          sum          mean          std  \\\n",
       "count  1828.000000    1828.000000  1828.000000  1.828000e+03  1828.000000   \n",
       "mean      9.295405  194588.269694     0.011480  2.631271e-08     0.020003   \n",
       "std       5.079148   28480.301163     9.306631  4.929263e-05     0.020499   \n",
       "min       1.000000  140941.000000  -151.120178 -9.435576e-04     0.000652   \n",
       "25%       5.000000  171371.000000    -0.353432 -1.805578e-06     0.006509   \n",
       "50%       9.000000  188989.000000    -0.036697 -2.047901e-07     0.013575   \n",
       "75%      14.000000  214614.000000     0.199814  1.008195e-06     0.025762   \n",
       "max      18.000000  304304.000000   240.889893  1.222810e-03     0.152168   \n",
       "\n",
       "               min          max          q01          q05          q25  ...  \\\n",
       "count  1828.000000  1828.000000  1828.000000  1828.000000  1828.000000  ...   \n",
       "mean     -0.163561     0.176284    -0.067207    -0.031204    -0.001011  ...   \n",
       "std       0.174879     0.193032     0.069398     0.031051     0.001624  ...   \n",
       "min      -0.998810     0.004669    -0.492982    -0.246616    -0.015625  ...   \n",
       "25%      -0.202370     0.053307    -0.085493    -0.040550    -0.001190  ...   \n",
       "50%      -0.100555     0.105606    -0.045059    -0.021912    -0.000397  ...   \n",
       "75%      -0.051682     0.219269    -0.022423    -0.010315    -0.000122  ...   \n",
       "max      -0.006134     0.999146    -0.002441    -0.000580     0.000000  ...   \n",
       "\n",
       "       stft_max_w4  stft_q01_w4  stft_q05_w4  stft_q25_w4  stft_q50_w4  \\\n",
       "count       1828.0  1828.000000  1828.000000  1828.000000  1828.000000   \n",
       "mean           1.0     0.120335     0.201699     0.456521     0.666192   \n",
       "std            0.0     0.130108     0.168295     0.167305     0.123141   \n",
       "min            1.0     0.000000     0.000000     0.000000     0.000000   \n",
       "25%            1.0     0.014703     0.051222     0.342588     0.609088   \n",
       "50%            1.0     0.070476     0.161748     0.475102     0.683680   \n",
       "75%            1.0     0.189830     0.335955     0.590281     0.747868   \n",
       "max            1.0     0.645577     0.726413     0.834716     0.930228   \n",
       "\n",
       "       stft_q75_w4  stft_q95_w4  stft_q99_w4  stft_kur_w4  stft_skew_w4  \n",
       "count  1828.000000  1828.000000       1828.0  1828.000000   1828.000000  \n",
       "mean      0.842724     0.999818          1.0    -0.555631     -0.389952  \n",
       "std       0.078090     0.005041          0.0     0.776547      0.433813  \n",
       "min       0.007891     0.839625          1.0    -1.644320     -1.938627  \n",
       "25%       0.812227     1.000000          1.0    -1.007945     -0.636543  \n",
       "50%       0.855090     1.000000          1.0    -0.745296     -0.405489  \n",
       "75%       0.889619     1.000000          1.0    -0.316342     -0.156594  \n",
       "max       0.986704     1.000000          1.0     7.127631      2.880807  \n",
       "\n",
       "[8 rows x 426 columns]"
      ]
     },
     "execution_count": 4,
     "metadata": {},
     "output_type": "execute_result"
    }
   ],
   "source": [
    "train_data.describe()"
   ]
  },
  {
   "cell_type": "code",
   "execution_count": 5,
   "id": "8e44418b",
   "metadata": {},
   "outputs": [
    {
     "data": {
      "text/html": [
       "<div>\n",
       "<style scoped>\n",
       "    .dataframe tbody tr th:only-of-type {\n",
       "        vertical-align: middle;\n",
       "    }\n",
       "\n",
       "    .dataframe tbody tr th {\n",
       "        vertical-align: top;\n",
       "    }\n",
       "\n",
       "    .dataframe thead th {\n",
       "        text-align: right;\n",
       "    }\n",
       "</style>\n",
       "<table border=\"1\" class=\"dataframe\">\n",
       "  <thead>\n",
       "    <tr style=\"text-align: right;\">\n",
       "      <th></th>\n",
       "      <th>modality</th>\n",
       "      <th>vocal_channel</th>\n",
       "      <th>emotion</th>\n",
       "      <th>emotional_intensity</th>\n",
       "      <th>statement</th>\n",
       "      <th>repetition</th>\n",
       "      <th>actor</th>\n",
       "      <th>sex</th>\n",
       "      <th>filename</th>\n",
       "      <th>frame_count</th>\n",
       "      <th>...</th>\n",
       "      <th>stft_max_w4</th>\n",
       "      <th>stft_q01_w4</th>\n",
       "      <th>stft_q05_w4</th>\n",
       "      <th>stft_q25_w4</th>\n",
       "      <th>stft_q50_w4</th>\n",
       "      <th>stft_q75_w4</th>\n",
       "      <th>stft_q95_w4</th>\n",
       "      <th>stft_q99_w4</th>\n",
       "      <th>stft_kur_w4</th>\n",
       "      <th>stft_skew_w4</th>\n",
       "    </tr>\n",
       "  </thead>\n",
       "  <tbody>\n",
       "    <tr>\n",
       "      <th>0</th>\n",
       "      <td>audio-only</td>\n",
       "      <td>speech</td>\n",
       "      <td>neutral</td>\n",
       "      <td>normal</td>\n",
       "      <td>Kids are talking by the door</td>\n",
       "      <td>1st</td>\n",
       "      <td>1</td>\n",
       "      <td>M</td>\n",
       "      <td>03-01-01-01-01-01-01.wav</td>\n",
       "      <td>158558</td>\n",
       "      <td>...</td>\n",
       "      <td>1.0</td>\n",
       "      <td>0.000000</td>\n",
       "      <td>0.566462</td>\n",
       "      <td>0.709962</td>\n",
       "      <td>0.799141</td>\n",
       "      <td>0.896606</td>\n",
       "      <td>1.0</td>\n",
       "      <td>1.0</td>\n",
       "      <td>6.742190</td>\n",
       "      <td>-1.706215</td>\n",
       "    </tr>\n",
       "    <tr>\n",
       "      <th>1</th>\n",
       "      <td>audio-only</td>\n",
       "      <td>speech</td>\n",
       "      <td>neutral</td>\n",
       "      <td>normal</td>\n",
       "      <td>Kids are talking by the door</td>\n",
       "      <td>2nd</td>\n",
       "      <td>1</td>\n",
       "      <td>M</td>\n",
       "      <td>03-01-01-01-01-02-01.wav</td>\n",
       "      <td>160160</td>\n",
       "      <td>...</td>\n",
       "      <td>1.0</td>\n",
       "      <td>0.368623</td>\n",
       "      <td>0.472736</td>\n",
       "      <td>0.623183</td>\n",
       "      <td>0.744908</td>\n",
       "      <td>0.874713</td>\n",
       "      <td>1.0</td>\n",
       "      <td>1.0</td>\n",
       "      <td>-0.700420</td>\n",
       "      <td>-0.201495</td>\n",
       "    </tr>\n",
       "    <tr>\n",
       "      <th>2</th>\n",
       "      <td>audio-only</td>\n",
       "      <td>speech</td>\n",
       "      <td>neutral</td>\n",
       "      <td>normal</td>\n",
       "      <td>Dogs are sitting by the door</td>\n",
       "      <td>1st</td>\n",
       "      <td>1</td>\n",
       "      <td>M</td>\n",
       "      <td>03-01-01-01-02-01-01.wav</td>\n",
       "      <td>156956</td>\n",
       "      <td>...</td>\n",
       "      <td>1.0</td>\n",
       "      <td>0.000000</td>\n",
       "      <td>0.417919</td>\n",
       "      <td>0.643636</td>\n",
       "      <td>0.774253</td>\n",
       "      <td>0.899156</td>\n",
       "      <td>1.0</td>\n",
       "      <td>1.0</td>\n",
       "      <td>1.688986</td>\n",
       "      <td>-1.024773</td>\n",
       "    </tr>\n",
       "    <tr>\n",
       "      <th>3</th>\n",
       "      <td>audio-only</td>\n",
       "      <td>speech</td>\n",
       "      <td>neutral</td>\n",
       "      <td>normal</td>\n",
       "      <td>Dogs are sitting by the door</td>\n",
       "      <td>2nd</td>\n",
       "      <td>1</td>\n",
       "      <td>M</td>\n",
       "      <td>03-01-01-01-02-02-01.wav</td>\n",
       "      <td>152152</td>\n",
       "      <td>...</td>\n",
       "      <td>1.0</td>\n",
       "      <td>0.306280</td>\n",
       "      <td>0.399641</td>\n",
       "      <td>0.606910</td>\n",
       "      <td>0.755213</td>\n",
       "      <td>0.886474</td>\n",
       "      <td>1.0</td>\n",
       "      <td>1.0</td>\n",
       "      <td>-0.594111</td>\n",
       "      <td>-0.412871</td>\n",
       "    </tr>\n",
       "    <tr>\n",
       "      <th>4</th>\n",
       "      <td>audio-only</td>\n",
       "      <td>speech</td>\n",
       "      <td>calm</td>\n",
       "      <td>normal</td>\n",
       "      <td>Kids are talking by the door</td>\n",
       "      <td>1st</td>\n",
       "      <td>1</td>\n",
       "      <td>M</td>\n",
       "      <td>03-01-02-01-01-01-01.wav</td>\n",
       "      <td>169769</td>\n",
       "      <td>...</td>\n",
       "      <td>1.0</td>\n",
       "      <td>0.248765</td>\n",
       "      <td>0.428202</td>\n",
       "      <td>0.634815</td>\n",
       "      <td>0.759914</td>\n",
       "      <td>0.878014</td>\n",
       "      <td>1.0</td>\n",
       "      <td>1.0</td>\n",
       "      <td>0.126535</td>\n",
       "      <td>-0.620782</td>\n",
       "    </tr>\n",
       "  </tbody>\n",
       "</table>\n",
       "<p>5 rows × 434 columns</p>\n",
       "</div>"
      ],
      "text/plain": [
       "     modality vocal_channel  emotion emotional_intensity  \\\n",
       "0  audio-only        speech  neutral              normal   \n",
       "1  audio-only        speech  neutral              normal   \n",
       "2  audio-only        speech  neutral              normal   \n",
       "3  audio-only        speech  neutral              normal   \n",
       "4  audio-only        speech     calm              normal   \n",
       "\n",
       "                      statement repetition  actor sex  \\\n",
       "0  Kids are talking by the door        1st      1   M   \n",
       "1  Kids are talking by the door        2nd      1   M   \n",
       "2  Dogs are sitting by the door        1st      1   M   \n",
       "3  Dogs are sitting by the door        2nd      1   M   \n",
       "4  Kids are talking by the door        1st      1   M   \n",
       "\n",
       "                   filename  frame_count  ...  stft_max_w4  stft_q01_w4  \\\n",
       "0  03-01-01-01-01-01-01.wav       158558  ...          1.0     0.000000   \n",
       "1  03-01-01-01-01-02-01.wav       160160  ...          1.0     0.368623   \n",
       "2  03-01-01-01-02-01-01.wav       156956  ...          1.0     0.000000   \n",
       "3  03-01-01-01-02-02-01.wav       152152  ...          1.0     0.306280   \n",
       "4  03-01-02-01-01-01-01.wav       169769  ...          1.0     0.248765   \n",
       "\n",
       "   stft_q05_w4  stft_q25_w4  stft_q50_w4  stft_q75_w4  stft_q95_w4  \\\n",
       "0     0.566462     0.709962     0.799141     0.896606          1.0   \n",
       "1     0.472736     0.623183     0.744908     0.874713          1.0   \n",
       "2     0.417919     0.643636     0.774253     0.899156          1.0   \n",
       "3     0.399641     0.606910     0.755213     0.886474          1.0   \n",
       "4     0.428202     0.634815     0.759914     0.878014          1.0   \n",
       "\n",
       "   stft_q99_w4  stft_kur_w4  stft_skew_w4  \n",
       "0          1.0     6.742190     -1.706215  \n",
       "1          1.0    -0.700420     -0.201495  \n",
       "2          1.0     1.688986     -1.024773  \n",
       "3          1.0    -0.594111     -0.412871  \n",
       "4          1.0     0.126535     -0.620782  \n",
       "\n",
       "[5 rows x 434 columns]"
      ]
     },
     "execution_count": 5,
     "metadata": {},
     "output_type": "execute_result"
    }
   ],
   "source": [
    "train_data.head()"
   ]
  },
  {
   "cell_type": "code",
   "execution_count": 6,
   "id": "434b7948",
   "metadata": {},
   "outputs": [
    {
     "data": {
      "text/plain": [
       "modality               0\n",
       "vocal_channel          0\n",
       "emotion                0\n",
       "emotional_intensity    0\n",
       "statement              0\n",
       "                      ..\n",
       "stft_q75_w4            0\n",
       "stft_q95_w4            0\n",
       "stft_q99_w4            0\n",
       "stft_kur_w4            0\n",
       "stft_skew_w4           0\n",
       "Length: 434, dtype: int64"
      ]
     },
     "execution_count": 6,
     "metadata": {},
     "output_type": "execute_result"
    }
   ],
   "source": [
    "train_data.isnull().sum()"
   ]
  },
  {
   "cell_type": "markdown",
   "id": "4c99aa5b",
   "metadata": {},
   "source": [
    "# we decided to drop every columns where there was only 1 value for all the row, resulting in a shrink from 434 to 382"
   ]
  },
  {
   "cell_type": "code",
   "execution_count": 7,
   "id": "96c2f138-7e97-46fa-8c98-e0229c634e15",
   "metadata": {},
   "outputs": [
    {
     "data": {
      "text/plain": [
       "2"
      ]
     },
     "execution_count": 7,
     "metadata": {},
     "output_type": "execute_result"
    }
   ],
   "source": [
    "len(train_data[\"vocal_channel\"].unique())"
   ]
  },
  {
   "cell_type": "code",
   "execution_count": 8,
   "id": "86188fb0",
   "metadata": {},
   "outputs": [],
   "source": [
    "l1=[]\n",
    "for column in train_data.columns:\n",
    "    if len(train_data[column].unique())==1:\n",
    "        l1.append(column)\n",
    "        train_data.drop(column,axis=1,inplace=True)"
   ]
  },
  {
   "cell_type": "code",
   "execution_count": 9,
   "id": "d50ca059",
   "metadata": {},
   "outputs": [
    {
     "data": {
      "text/plain": [
       "52"
      ]
     },
     "execution_count": 9,
     "metadata": {},
     "output_type": "execute_result"
    }
   ],
   "source": [
    "len(l1)"
   ]
  },
  {
   "cell_type": "code",
   "execution_count": 10,
   "id": "d6b2ab2b",
   "metadata": {},
   "outputs": [],
   "source": [
    "l2=[]\n",
    "for column in test_data.columns:\n",
    "    if len(test_data[column].unique())==1:\n",
    "        l2.append(column)\n",
    "        test_data.drop(column,axis=1,inplace=True)"
   ]
  },
  {
   "cell_type": "code",
   "execution_count": 11,
   "id": "819101eb",
   "metadata": {},
   "outputs": [
    {
     "data": {
      "text/plain": [
       "50"
      ]
     },
     "execution_count": 11,
     "metadata": {},
     "output_type": "execute_result"
    }
   ],
   "source": [
    "len(l2)"
   ]
  },
  {
   "cell_type": "code",
   "execution_count": 12,
   "id": "7229e323",
   "metadata": {},
   "outputs": [
    {
     "name": "stdout",
     "output_type": "stream",
     "text": [
      "{'zc_q75_w2', 'zc_q75_w1'}\n"
     ]
    }
   ],
   "source": [
    "print(set(l1)-set(l2))"
   ]
  },
  {
   "cell_type": "code",
   "execution_count": 13,
   "id": "56de51c4",
   "metadata": {},
   "outputs": [
    {
     "data": {
      "text/plain": [
       "(1828, 382)"
      ]
     },
     "execution_count": 13,
     "metadata": {},
     "output_type": "execute_result"
    }
   ],
   "source": [
    "train_data.shape"
   ]
  },
  {
   "cell_type": "code",
   "execution_count": 14,
   "id": "32f85c2e",
   "metadata": {},
   "outputs": [
    {
     "data": {
      "text/plain": [
       "(624, 384)"
      ]
     },
     "execution_count": 14,
     "metadata": {},
     "output_type": "execute_result"
    }
   ],
   "source": [
    "test_data.shape"
   ]
  },
  {
   "cell_type": "markdown",
   "id": "e091435f",
   "metadata": {},
   "source": [
    "# actor n°18 has only 60 rows, while every other actors, both on test and train have 104"
   ]
  },
  {
   "cell_type": "code",
   "execution_count": 15,
   "id": "f536efc5",
   "metadata": {},
   "outputs": [],
   "source": [
    "#train_data[\"actor\"].value_counts().plot(kind='bar')\n",
    "#test_data[\"actor\"].value_counts().plot(kind='bar')"
   ]
  },
  {
   "cell_type": "code",
   "execution_count": 16,
   "id": "2c188ef4",
   "metadata": {},
   "outputs": [
    {
     "name": "stdout",
     "output_type": "stream",
     "text": [
      "(1828, 375)\n"
     ]
    }
   ],
   "source": [
    "train_num=train_data.loc[:, train_data.dtypes != object]\n",
    "print(train_num.shape)"
   ]
  },
  {
   "cell_type": "code",
   "execution_count": 17,
   "id": "40f2b28b",
   "metadata": {},
   "outputs": [
    {
     "name": "stdout",
     "output_type": "stream",
     "text": [
      "actor\n",
      "frame_count\n",
      "sum\n",
      "mean\n",
      "std\n",
      "min\n",
      "max\n",
      "q01\n",
      "q05\n",
      "q25\n",
      "q50\n",
      "q75\n",
      "q95\n",
      "q99\n",
      "kur\n",
      "skew\n",
      "lag1_sum\n",
      "lag1_mean\n",
      "lag1_std\n",
      "lag1_min\n",
      "lag1_max\n",
      "lag1_q01\n",
      "lag1_q05\n",
      "lag1_q25\n",
      "lag1_q75\n",
      "lag1_q95\n",
      "lag1_q99\n",
      "lag1_kur\n",
      "lag1_skew\n",
      "zc_sum\n",
      "zc_mean\n",
      "zc_std\n",
      "zc_q95\n",
      "zc_kur\n",
      "zc_skew\n",
      "mfcc_sum\n",
      "mfcc_mean\n",
      "mfcc_std\n",
      "mfcc_min\n",
      "mfcc_max\n",
      "mfcc_q01\n",
      "mfcc_q05\n",
      "mfcc_q25\n",
      "mfcc_q50\n",
      "mfcc_q75\n",
      "mfcc_q95\n",
      "mfcc_q99\n",
      "mfcc_kur\n",
      "mfcc_skew\n",
      "sc_sum\n",
      "sc_mean\n",
      "sc_std\n",
      "sc_min\n",
      "sc_max\n",
      "sc_q01\n",
      "sc_q05\n",
      "sc_q25\n",
      "sc_q50\n",
      "sc_q75\n",
      "sc_q95\n",
      "sc_q99\n",
      "sc_kur\n",
      "sc_skew\n",
      "stft_sum\n",
      "stft_mean\n",
      "stft_std\n",
      "stft_min\n",
      "stft_q01\n",
      "stft_q05\n",
      "stft_q25\n",
      "stft_q50\n",
      "stft_q75\n",
      "stft_kur\n",
      "stft_skew\n",
      "['actor', 'frame_count', 'sum', 'mean', 'std', 'min', 'max', 'q01', 'q05', 'q25', 'q50', 'q75', 'q95', 'q99', 'kur', 'skew', 'lag1_sum', 'lag1_mean', 'lag1_std', 'lag1_min', 'lag1_max', 'lag1_q01', 'lag1_q05', 'lag1_q25', 'lag1_q75', 'lag1_q95', 'lag1_q99', 'lag1_kur', 'lag1_skew', 'zc_sum', 'zc_mean', 'zc_std', 'zc_q95', 'zc_kur', 'zc_skew', 'mfcc_sum', 'mfcc_mean', 'mfcc_std', 'mfcc_min', 'mfcc_max', 'mfcc_q01', 'mfcc_q05', 'mfcc_q25', 'mfcc_q50', 'mfcc_q75', 'mfcc_q95', 'mfcc_q99', 'mfcc_kur', 'mfcc_skew', 'sc_sum', 'sc_mean', 'sc_std', 'sc_min', 'sc_max', 'sc_q01', 'sc_q05', 'sc_q25', 'sc_q50', 'sc_q75', 'sc_q95', 'sc_q99', 'sc_kur', 'sc_skew', 'stft_sum', 'stft_mean', 'stft_std', 'stft_min', 'stft_q01', 'stft_q05', 'stft_q25', 'stft_q50', 'stft_q75', 'stft_kur', 'stft_skew']\n"
     ]
    }
   ],
   "source": [
    "l=[]\n",
    "for i in train_num.columns:\n",
    "    if i == \"length_w1\":\n",
    "        \n",
    "        break\n",
    "    print(i)\n",
    "    l.append(i)\n",
    "print(l)   "
   ]
  },
  {
   "cell_type": "code",
   "execution_count": 18,
   "id": "0088a3f2",
   "metadata": {},
   "outputs": [],
   "source": [
    "train_without_time_series=train_num.loc[:,['actor', 'frame_count', 'sum', 'mean', 'std', 'min', 'max', 'kur', 'skew', 'zc_sum',\n",
    "                         'zc_mean', 'zc_std', 'zc_kur', 'zc_skew', 'mfcc_sum', 'mfcc_mean', 'mfcc_std', 'mfcc_min',\n",
    "                         'mfcc_max', 'mfcc_kur', 'mfcc_skew', 'sc_sum', 'sc_mean', 'sc_std', 'sc_min', 'sc_max', 'sc_kur',\n",
    "                         'sc_skew', 'stft_sum', 'stft_mean', 'stft_std', 'stft_min', 'stft_kur', 'stft_skew']]\n"
   ]
  },
  {
   "cell_type": "code",
   "execution_count": 19,
   "id": "d1f8022e",
   "metadata": {},
   "outputs": [
    {
     "data": {
      "text/plain": [
       "'fig, ax = plt.subplots(figsize=(20,20))\\nsns.heatmap(abs(train_without_time_series.corr(method=\\'pearson\\'))>=0.9, vmin=1, vmax=-1, cmap=\"coolwarm\", annot=True  )'"
      ]
     },
     "execution_count": 19,
     "metadata": {},
     "output_type": "execute_result"
    }
   ],
   "source": [
    "\"\"\"fig, ax = plt.subplots(figsize=(20,20))\n",
    "sns.heatmap(abs(train_without_time_series.corr(method='pearson'))>=0.9, vmin=1, vmax=-1, cmap=\"coolwarm\", annot=True  )\"\"\""
   ]
  },
  {
   "cell_type": "code",
   "execution_count": 20,
   "id": "794ccbdc-6d08-473f-94eb-d4cf1ebf09ee",
   "metadata": {},
   "outputs": [],
   "source": [
    "train_data.drop(['stft_skew', 'mfcc_min', 'zc_mean', 'zc_kur', 'zc_skew', 'min', 'max', \"sc_sum\", \"filename\" ],axis=1,inplace=True)"
   ]
  },
  {
   "cell_type": "code",
   "execution_count": 21,
   "id": "4a45f3ed",
   "metadata": {},
   "outputs": [],
   "source": [
    "test_data.drop(['stft_skew', 'mfcc_min', 'zc_mean', 'zc_kur', 'zc_skew', 'min', 'max', \"sc_sum\", \"filename\",\"zc_q75_w1\", \"zc_q75_w2\" ],axis=1,inplace=True)"
   ]
  },
  {
   "cell_type": "code",
   "execution_count": 22,
   "id": "f944e166",
   "metadata": {},
   "outputs": [
    {
     "name": "stderr",
     "output_type": "stream",
     "text": [
      "/var/folders/jy/36zwwdh52ng42mzs1hc5r_5m0000gn/T/ipykernel_93541/1891417763.py:3: SettingWithCopyWarning: \n",
      "A value is trying to be set on a copy of a slice from a DataFrame\n",
      "\n",
      "See the caveats in the documentation: https://pandas.pydata.org/pandas-docs/stable/user_guide/indexing.html#returning-a-view-versus-a-copy\n",
      "  test_cat.drop([\"emotion\"],axis=1,inplace=True)\n"
     ]
    }
   ],
   "source": [
    "test_num=test_data.loc[:, test_data.dtypes != object]\n",
    "test_cat=test_data.loc[:, test_data.dtypes == object]\n",
    "test_cat.drop([\"emotion\"],axis=1,inplace=True)"
   ]
  },
  {
   "cell_type": "code",
   "execution_count": 23,
   "id": "1b860ff8-2fa7-4c7d-be0c-72335489a312",
   "metadata": {},
   "outputs": [
    {
     "name": "stderr",
     "output_type": "stream",
     "text": [
      "/var/folders/jy/36zwwdh52ng42mzs1hc5r_5m0000gn/T/ipykernel_93541/1150695506.py:3: SettingWithCopyWarning: \n",
      "A value is trying to be set on a copy of a slice from a DataFrame\n",
      "\n",
      "See the caveats in the documentation: https://pandas.pydata.org/pandas-docs/stable/user_guide/indexing.html#returning-a-view-versus-a-copy\n",
      "  train_cat.drop([\"emotion\"],axis=1,inplace=True)\n"
     ]
    }
   ],
   "source": [
    "train_num=train_data.loc[:, train_data.dtypes != object]\n",
    "train_cat=train_data.loc[:, train_data.dtypes == object]\n",
    "train_cat.drop([\"emotion\"],axis=1,inplace=True)"
   ]
  },
  {
   "cell_type": "code",
   "execution_count": 24,
   "id": "ff23871a-9204-4f1e-86ca-b063f2ab1047",
   "metadata": {},
   "outputs": [],
   "source": [
    "test_frames=[test_num,test_cat]\n",
    "test_final=pd.concat(test_frames,axis=1)"
   ]
  },
  {
   "cell_type": "code",
   "execution_count": 25,
   "id": "e42a2dbc-07a7-464f-85af-4f6841f932a5",
   "metadata": {},
   "outputs": [],
   "source": [
    "frames=[train_num,train_cat]\n",
    "train_final=pd.concat(frames,axis=1)"
   ]
  },
  {
   "cell_type": "code",
   "execution_count": 26,
   "id": "0830fb4e",
   "metadata": {},
   "outputs": [
    {
     "name": "stdout",
     "output_type": "stream",
     "text": [
      "<class 'pandas.core.frame.DataFrame'>\n",
      "RangeIndex: 624 entries, 0 to 623\n",
      "Data columns (total 372 columns):\n",
      " #    Column               Dtype  \n",
      "---   ------               -----  \n",
      " 0    actor                int64  \n",
      " 1    frame_count          int64  \n",
      " 2    sum                  float64\n",
      " 3    mean                 float64\n",
      " 4    std                  float64\n",
      " 5    q01                  float64\n",
      " 6    q05                  float64\n",
      " 7    q25                  float64\n",
      " 8    q50                  float64\n",
      " 9    q75                  float64\n",
      " 10   q95                  float64\n",
      " 11   q99                  float64\n",
      " 12   kur                  float64\n",
      " 13   skew                 float64\n",
      " 14   lag1_sum             float64\n",
      " 15   lag1_mean            float64\n",
      " 16   lag1_std             float64\n",
      " 17   lag1_min             float64\n",
      " 18   lag1_max             float64\n",
      " 19   lag1_q01             float64\n",
      " 20   lag1_q05             float64\n",
      " 21   lag1_q25             float64\n",
      " 22   lag1_q75             float64\n",
      " 23   lag1_q95             float64\n",
      " 24   lag1_q99             float64\n",
      " 25   lag1_kur             float64\n",
      " 26   lag1_skew            float64\n",
      " 27   zc_sum               int64  \n",
      " 28   zc_std               float64\n",
      " 29   zc_q95               float64\n",
      " 30   mfcc_sum             float64\n",
      " 31   mfcc_mean            float64\n",
      " 32   mfcc_std             float64\n",
      " 33   mfcc_max             float64\n",
      " 34   mfcc_q01             float64\n",
      " 35   mfcc_q05             float64\n",
      " 36   mfcc_q25             float64\n",
      " 37   mfcc_q50             float64\n",
      " 38   mfcc_q75             float64\n",
      " 39   mfcc_q95             float64\n",
      " 40   mfcc_q99             float64\n",
      " 41   mfcc_kur             float64\n",
      " 42   mfcc_skew            float64\n",
      " 43   sc_mean              float64\n",
      " 44   sc_std               float64\n",
      " 45   sc_min               float64\n",
      " 46   sc_max               float64\n",
      " 47   sc_q01               float64\n",
      " 48   sc_q05               float64\n",
      " 49   sc_q25               float64\n",
      " 50   sc_q50               float64\n",
      " 51   sc_q75               float64\n",
      " 52   sc_q95               float64\n",
      " 53   sc_q99               float64\n",
      " 54   sc_kur               float64\n",
      " 55   sc_skew              float64\n",
      " 56   stft_sum             float64\n",
      " 57   stft_mean            float64\n",
      " 58   stft_std             float64\n",
      " 59   stft_min             float64\n",
      " 60   stft_q01             float64\n",
      " 61   stft_q05             float64\n",
      " 62   stft_q25             float64\n",
      " 63   stft_q50             float64\n",
      " 64   stft_q75             float64\n",
      " 65   stft_kur             float64\n",
      " 66   length_w1            int64  \n",
      " 67   sum_w1               float64\n",
      " 68   mean_w1              float64\n",
      " 69   std_w1               float64\n",
      " 70   min_w1               float64\n",
      " 71   max_w1               float64\n",
      " 72   q01_w1               float64\n",
      " 73   q05_w1               float64\n",
      " 74   q25_w1               float64\n",
      " 75   q50_w1               float64\n",
      " 76   q75_w1               float64\n",
      " 77   q95_w1               float64\n",
      " 78   q99_w1               float64\n",
      " 79   kur_w1               float64\n",
      " 80   skew_w1              float64\n",
      " 81   lag1_sum_w1          float64\n",
      " 82   lag1_mean_w1         float64\n",
      " 83   lag1_std_w1          float64\n",
      " 84   lag1_min_w1          float64\n",
      " 85   lag1_max_w1          float64\n",
      " 86   lag1_q01_w1          float64\n",
      " 87   lag1_q05_w1          float64\n",
      " 88   lag1_q25_w1          float64\n",
      " 89   lag1_q75_w1          float64\n",
      " 90   lag1_q95_w1          float64\n",
      " 91   lag1_q99_w1          float64\n",
      " 92   lag1_kur_w1          float64\n",
      " 93   lag1_skew_w1         float64\n",
      " 94   zc_sum_w1            int64  \n",
      " 95   zc_mean_w1           float64\n",
      " 96   zc_std_w1            float64\n",
      " 97   zc_q95_w1            float64\n",
      " 98   zc_q99_w1            float64\n",
      " 99   zc_kur_w1            float64\n",
      " 100  zc_skew_w1           float64\n",
      " 101  mfcc_sum_w1          float64\n",
      " 102  mfcc_mean_w1         float64\n",
      " 103  mfcc_std_w1          float64\n",
      " 104  mfcc_min_w1          float64\n",
      " 105  mfcc_max_w1          float64\n",
      " 106  mfcc_q01_w1          float64\n",
      " 107  mfcc_q05_w1          float64\n",
      " 108  mfcc_q25_w1          float64\n",
      " 109  mfcc_q50_w1          float64\n",
      " 110  mfcc_q75_w1          float64\n",
      " 111  mfcc_q95_w1          float64\n",
      " 112  mfcc_q99_w1          float64\n",
      " 113  mfcc_kur_w1          float64\n",
      " 114  mfcc_skew_w1         float64\n",
      " 115  sc_sum_w1            float64\n",
      " 116  sc_mean_w1           float64\n",
      " 117  sc_std_w1            float64\n",
      " 118  sc_min_w1            float64\n",
      " 119  sc_max_w1            float64\n",
      " 120  sc_q01_w1            float64\n",
      " 121  sc_q05_w1            float64\n",
      " 122  sc_q25_w1            float64\n",
      " 123  sc_q50_w1            float64\n",
      " 124  sc_q75_w1            float64\n",
      " 125  sc_q95_w1            float64\n",
      " 126  sc_q99_w1            float64\n",
      " 127  sc_kur_w1            float64\n",
      " 128  sc_skew_w1           float64\n",
      " 129  stft_sum_w1          float64\n",
      " 130  stft_mean_w1         float64\n",
      " 131  stft_std_w1          float64\n",
      " 132  stft_min_w1          float64\n",
      " 133  stft_max_w1          float64\n",
      " 134  stft_q01_w1          float64\n",
      " 135  stft_q05_w1          float64\n",
      " 136  stft_q25_w1          float64\n",
      " 137  stft_q50_w1          float64\n",
      " 138  stft_q75_w1          float64\n",
      " 139  stft_q95_w1          float64\n",
      " 140  stft_q99_w1          float64\n",
      " 141  stft_kur_w1          float64\n",
      " 142  stft_skew_w1         float64\n",
      " 143  length_w2            int64  \n",
      " 144  sum_w2               float64\n",
      " 145  mean_w2              float64\n",
      " 146  std_w2               float64\n",
      " 147  min_w2               float64\n",
      " 148  max_w2               float64\n",
      " 149  q01_w2               float64\n",
      " 150  q05_w2               float64\n",
      " 151  q25_w2               float64\n",
      " 152  q50_w2               float64\n",
      " 153  q75_w2               float64\n",
      " 154  q95_w2               float64\n",
      " 155  q99_w2               float64\n",
      " 156  kur_w2               float64\n",
      " 157  skew_w2              float64\n",
      " 158  lag1_sum_w2          float64\n",
      " 159  lag1_mean_w2         float64\n",
      " 160  lag1_std_w2          float64\n",
      " 161  lag1_min_w2          float64\n",
      " 162  lag1_max_w2          float64\n",
      " 163  lag1_q01_w2          float64\n",
      " 164  lag1_q05_w2          float64\n",
      " 165  lag1_q25_w2          float64\n",
      " 166  lag1_q50_w2          float64\n",
      " 167  lag1_q75_w2          float64\n",
      " 168  lag1_q95_w2          float64\n",
      " 169  lag1_q99_w2          float64\n",
      " 170  lag1_kur_w2          float64\n",
      " 171  lag1_skew_w2         float64\n",
      " 172  zc_sum_w2            int64  \n",
      " 173  zc_mean_w2           float64\n",
      " 174  zc_std_w2            float64\n",
      " 175  zc_q95_w2            float64\n",
      " 176  zc_kur_w2            float64\n",
      " 177  zc_skew_w2           float64\n",
      " 178  mfcc_sum_w2          float64\n",
      " 179  mfcc_mean_w2         float64\n",
      " 180  mfcc_std_w2          float64\n",
      " 181  mfcc_min_w2          float64\n",
      " 182  mfcc_max_w2          float64\n",
      " 183  mfcc_q01_w2          float64\n",
      " 184  mfcc_q05_w2          float64\n",
      " 185  mfcc_q25_w2          float64\n",
      " 186  mfcc_q50_w2          float64\n",
      " 187  mfcc_q75_w2          float64\n",
      " 188  mfcc_q95_w2          float64\n",
      " 189  mfcc_q99_w2          float64\n",
      " 190  mfcc_kur_w2          float64\n",
      " 191  mfcc_skew_w2         float64\n",
      " 192  sc_sum_w2            float64\n",
      " 193  sc_mean_w2           float64\n",
      " 194  sc_std_w2            float64\n",
      " 195  sc_min_w2            float64\n",
      " 196  sc_max_w2            float64\n",
      " 197  sc_q01_w2            float64\n",
      " 198  sc_q05_w2            float64\n",
      " 199  sc_q25_w2            float64\n",
      " 200  sc_q50_w2            float64\n",
      " 201  sc_q75_w2            float64\n",
      " 202  sc_q95_w2            float64\n",
      " 203  sc_q99_w2            float64\n",
      " 204  sc_kur_w2            float64\n",
      " 205  sc_skew_w2           float64\n",
      " 206  stft_sum_w2          float64\n",
      " 207  stft_mean_w2         float64\n",
      " 208  stft_std_w2          float64\n",
      " 209  stft_min_w2          float64\n",
      " 210  stft_q01_w2          float64\n",
      " 211  stft_q05_w2          float64\n",
      " 212  stft_q25_w2          float64\n",
      " 213  stft_q50_w2          float64\n",
      " 214  stft_q75_w2          float64\n",
      " 215  stft_kur_w2          float64\n",
      " 216  stft_skew_w2         float64\n",
      " 217  length_w3            int64  \n",
      " 218  sum_w3               float64\n",
      " 219  mean_w3              float64\n",
      " 220  std_w3               float64\n",
      " 221  min_w3               float64\n",
      " 222  max_w3               float64\n",
      " 223  q01_w3               float64\n",
      " 224  q05_w3               float64\n",
      " 225  q25_w3               float64\n",
      " 226  q50_w3               float64\n",
      " 227  q75_w3               float64\n",
      " 228  q95_w3               float64\n",
      " 229  q99_w3               float64\n",
      " 230  kur_w3               float64\n",
      " 231  skew_w3              float64\n",
      " 232  lag1_sum_w3          float64\n",
      " 233  lag1_mean_w3         float64\n",
      " 234  lag1_std_w3          float64\n",
      " 235  lag1_min_w3          float64\n",
      " 236  lag1_max_w3          float64\n",
      " 237  lag1_q01_w3          float64\n",
      " 238  lag1_q05_w3          float64\n",
      " 239  lag1_q25_w3          float64\n",
      " 240  lag1_q50_w3          float64\n",
      " 241  lag1_q75_w3          float64\n",
      " 242  lag1_q95_w3          float64\n",
      " 243  lag1_q99_w3          float64\n",
      " 244  lag1_kur_w3          float64\n",
      " 245  lag1_skew_w3         float64\n",
      " 246  zc_sum_w3            int64  \n",
      " 247  zc_mean_w3           float64\n",
      " 248  zc_std_w3            float64\n",
      " 249  zc_q95_w3            float64\n",
      " 250  zc_kur_w3            float64\n",
      " 251  zc_skew_w3           float64\n",
      " 252  mfcc_sum_w3          float64\n",
      " 253  mfcc_mean_w3         float64\n",
      " 254  mfcc_std_w3          float64\n",
      " 255  mfcc_min_w3          float64\n",
      " 256  mfcc_max_w3          float64\n",
      " 257  mfcc_q01_w3          float64\n",
      " 258  mfcc_q05_w3          float64\n",
      " 259  mfcc_q25_w3          float64\n",
      " 260  mfcc_q50_w3          float64\n",
      " 261  mfcc_q75_w3          float64\n",
      " 262  mfcc_q95_w3          float64\n",
      " 263  mfcc_q99_w3          float64\n",
      " 264  mfcc_kur_w3          float64\n",
      " 265  mfcc_skew_w3         float64\n",
      " 266  sc_sum_w3            float64\n",
      " 267  sc_mean_w3           float64\n",
      " 268  sc_std_w3            float64\n",
      " 269  sc_min_w3            float64\n",
      " 270  sc_max_w3            float64\n",
      " 271  sc_q01_w3            float64\n",
      " 272  sc_q05_w3            float64\n",
      " 273  sc_q25_w3            float64\n",
      " 274  sc_q50_w3            float64\n",
      " 275  sc_q75_w3            float64\n",
      " 276  sc_q95_w3            float64\n",
      " 277  sc_q99_w3            float64\n",
      " 278  sc_kur_w3            float64\n",
      " 279  sc_skew_w3           float64\n",
      " 280  stft_sum_w3          float64\n",
      " 281  stft_mean_w3         float64\n",
      " 282  stft_std_w3          float64\n",
      " 283  stft_min_w3          float64\n",
      " 284  stft_q01_w3          float64\n",
      " 285  stft_q05_w3          float64\n",
      " 286  stft_q25_w3          float64\n",
      " 287  stft_q50_w3          float64\n",
      " 288  stft_q75_w3          float64\n",
      " 289  stft_kur_w3          float64\n",
      " 290  stft_skew_w3         float64\n",
      " 291  length_w4            int64  \n",
      " 292  sum_w4               float64\n",
      " 293  mean_w4              float64\n",
      " 294  std_w4               float64\n",
      " 295  min_w4               float64\n",
      " 296  max_w4               float64\n",
      " 297  q01_w4               float64\n",
      " 298  q05_w4               float64\n",
      " 299  q25_w4               float64\n",
      " 300  q50_w4               float64\n",
      " 301  q75_w4               float64\n",
      " 302  q95_w4               float64\n",
      " 303  q99_w4               float64\n",
      " 304  kur_w4               float64\n",
      " 305  skew_w4              float64\n",
      " 306  lag1_sum_w4          float64\n",
      " 307  lag1_mean_w4         float64\n",
      " 308  lag1_std_w4          float64\n",
      " 309  lag1_min_w4          float64\n",
      " 310  lag1_max_w4          float64\n",
      " 311  lag1_q01_w4          float64\n",
      " 312  lag1_q05_w4          float64\n",
      " 313  lag1_q25_w4          float64\n",
      " 314  lag1_q75_w4          float64\n",
      " 315  lag1_q95_w4          float64\n",
      " 316  lag1_q99_w4          float64\n",
      " 317  lag1_kur_w4          float64\n",
      " 318  lag1_skew_w4         float64\n",
      " 319  zc_sum_w4            int64  \n",
      " 320  zc_mean_w4           float64\n",
      " 321  zc_std_w4            float64\n",
      " 322  zc_q75_w4            float64\n",
      " 323  zc_q95_w4            float64\n",
      " 324  zc_q99_w4            float64\n",
      " 325  zc_kur_w4            float64\n",
      " 326  zc_skew_w4           float64\n",
      " 327  mfcc_sum_w4          float64\n",
      " 328  mfcc_mean_w4         float64\n",
      " 329  mfcc_std_w4          float64\n",
      " 330  mfcc_min_w4          float64\n",
      " 331  mfcc_max_w4          float64\n",
      " 332  mfcc_q01_w4          float64\n",
      " 333  mfcc_q05_w4          float64\n",
      " 334  mfcc_q25_w4          float64\n",
      " 335  mfcc_q50_w4          float64\n",
      " 336  mfcc_q75_w4          float64\n",
      " 337  mfcc_q95_w4          float64\n",
      " 338  mfcc_q99_w4          float64\n",
      " 339  mfcc_kur_w4          float64\n",
      " 340  mfcc_skew_w4         float64\n",
      " 341  sc_sum_w4            float64\n",
      " 342  sc_mean_w4           float64\n",
      " 343  sc_std_w4            float64\n",
      " 344  sc_min_w4            float64\n",
      " 345  sc_max_w4            float64\n",
      " 346  sc_q01_w4            float64\n",
      " 347  sc_q05_w4            float64\n",
      " 348  sc_q25_w4            float64\n",
      " 349  sc_q50_w4            float64\n",
      " 350  sc_q75_w4            float64\n",
      " 351  sc_q95_w4            float64\n",
      " 352  sc_q99_w4            float64\n",
      " 353  sc_kur_w4            float64\n",
      " 354  sc_skew_w4           float64\n",
      " 355  stft_sum_w4          float64\n",
      " 356  stft_mean_w4         float64\n",
      " 357  stft_std_w4          float64\n",
      " 358  stft_min_w4          float64\n",
      " 359  stft_q01_w4          float64\n",
      " 360  stft_q05_w4          float64\n",
      " 361  stft_q25_w4          float64\n",
      " 362  stft_q50_w4          float64\n",
      " 363  stft_q75_w4          float64\n",
      " 364  stft_q95_w4          float64\n",
      " 365  stft_kur_w4          float64\n",
      " 366  stft_skew_w4         float64\n",
      " 367  vocal_channel        object \n",
      " 368  emotional_intensity  object \n",
      " 369  statement            object \n",
      " 370  repetition           object \n",
      " 371  sex                  object \n",
      "dtypes: float64(356), int64(11), object(5)\n",
      "memory usage: 1.8+ MB\n"
     ]
    }
   ],
   "source": [
    "test_final.info(verbose=True)"
   ]
  },
  {
   "cell_type": "code",
   "execution_count": 27,
   "id": "0c91dbc5-f614-4baa-81f4-f8586c47f315",
   "metadata": {},
   "outputs": [
    {
     "name": "stdout",
     "output_type": "stream",
     "text": [
      "<class 'pandas.core.frame.DataFrame'>\n",
      "RangeIndex: 1828 entries, 0 to 1827\n",
      "Data columns (total 372 columns):\n",
      " #    Column               Dtype  \n",
      "---   ------               -----  \n",
      " 0    actor                int64  \n",
      " 1    frame_count          int64  \n",
      " 2    sum                  float64\n",
      " 3    mean                 float64\n",
      " 4    std                  float64\n",
      " 5    q01                  float64\n",
      " 6    q05                  float64\n",
      " 7    q25                  float64\n",
      " 8    q50                  float64\n",
      " 9    q75                  float64\n",
      " 10   q95                  float64\n",
      " 11   q99                  float64\n",
      " 12   kur                  float64\n",
      " 13   skew                 float64\n",
      " 14   lag1_sum             float64\n",
      " 15   lag1_mean            float64\n",
      " 16   lag1_std             float64\n",
      " 17   lag1_min             float64\n",
      " 18   lag1_max             float64\n",
      " 19   lag1_q01             float64\n",
      " 20   lag1_q05             float64\n",
      " 21   lag1_q25             float64\n",
      " 22   lag1_q75             float64\n",
      " 23   lag1_q95             float64\n",
      " 24   lag1_q99             float64\n",
      " 25   lag1_kur             float64\n",
      " 26   lag1_skew            float64\n",
      " 27   zc_sum               int64  \n",
      " 28   zc_std               float64\n",
      " 29   zc_q95               float64\n",
      " 30   mfcc_sum             float64\n",
      " 31   mfcc_mean            float64\n",
      " 32   mfcc_std             float64\n",
      " 33   mfcc_max             float64\n",
      " 34   mfcc_q01             float64\n",
      " 35   mfcc_q05             float64\n",
      " 36   mfcc_q25             float64\n",
      " 37   mfcc_q50             float64\n",
      " 38   mfcc_q75             float64\n",
      " 39   mfcc_q95             float64\n",
      " 40   mfcc_q99             float64\n",
      " 41   mfcc_kur             float64\n",
      " 42   mfcc_skew            float64\n",
      " 43   sc_mean              float64\n",
      " 44   sc_std               float64\n",
      " 45   sc_min               float64\n",
      " 46   sc_max               float64\n",
      " 47   sc_q01               float64\n",
      " 48   sc_q05               float64\n",
      " 49   sc_q25               float64\n",
      " 50   sc_q50               float64\n",
      " 51   sc_q75               float64\n",
      " 52   sc_q95               float64\n",
      " 53   sc_q99               float64\n",
      " 54   sc_kur               float64\n",
      " 55   sc_skew              float64\n",
      " 56   stft_sum             float64\n",
      " 57   stft_mean            float64\n",
      " 58   stft_std             float64\n",
      " 59   stft_min             float64\n",
      " 60   stft_q01             float64\n",
      " 61   stft_q05             float64\n",
      " 62   stft_q25             float64\n",
      " 63   stft_q50             float64\n",
      " 64   stft_q75             float64\n",
      " 65   stft_kur             float64\n",
      " 66   length_w1            int64  \n",
      " 67   sum_w1               float64\n",
      " 68   mean_w1              float64\n",
      " 69   std_w1               float64\n",
      " 70   min_w1               float64\n",
      " 71   max_w1               float64\n",
      " 72   q01_w1               float64\n",
      " 73   q05_w1               float64\n",
      " 74   q25_w1               float64\n",
      " 75   q50_w1               float64\n",
      " 76   q75_w1               float64\n",
      " 77   q95_w1               float64\n",
      " 78   q99_w1               float64\n",
      " 79   kur_w1               float64\n",
      " 80   skew_w1              float64\n",
      " 81   lag1_sum_w1          float64\n",
      " 82   lag1_mean_w1         float64\n",
      " 83   lag1_std_w1          float64\n",
      " 84   lag1_min_w1          float64\n",
      " 85   lag1_max_w1          float64\n",
      " 86   lag1_q01_w1          float64\n",
      " 87   lag1_q05_w1          float64\n",
      " 88   lag1_q25_w1          float64\n",
      " 89   lag1_q75_w1          float64\n",
      " 90   lag1_q95_w1          float64\n",
      " 91   lag1_q99_w1          float64\n",
      " 92   lag1_kur_w1          float64\n",
      " 93   lag1_skew_w1         float64\n",
      " 94   zc_sum_w1            int64  \n",
      " 95   zc_mean_w1           float64\n",
      " 96   zc_std_w1            float64\n",
      " 97   zc_q95_w1            float64\n",
      " 98   zc_q99_w1            float64\n",
      " 99   zc_kur_w1            float64\n",
      " 100  zc_skew_w1           float64\n",
      " 101  mfcc_sum_w1          float64\n",
      " 102  mfcc_mean_w1         float64\n",
      " 103  mfcc_std_w1          float64\n",
      " 104  mfcc_min_w1          float64\n",
      " 105  mfcc_max_w1          float64\n",
      " 106  mfcc_q01_w1          float64\n",
      " 107  mfcc_q05_w1          float64\n",
      " 108  mfcc_q25_w1          float64\n",
      " 109  mfcc_q50_w1          float64\n",
      " 110  mfcc_q75_w1          float64\n",
      " 111  mfcc_q95_w1          float64\n",
      " 112  mfcc_q99_w1          float64\n",
      " 113  mfcc_kur_w1          float64\n",
      " 114  mfcc_skew_w1         float64\n",
      " 115  sc_sum_w1            float64\n",
      " 116  sc_mean_w1           float64\n",
      " 117  sc_std_w1            float64\n",
      " 118  sc_min_w1            float64\n",
      " 119  sc_max_w1            float64\n",
      " 120  sc_q01_w1            float64\n",
      " 121  sc_q05_w1            float64\n",
      " 122  sc_q25_w1            float64\n",
      " 123  sc_q50_w1            float64\n",
      " 124  sc_q75_w1            float64\n",
      " 125  sc_q95_w1            float64\n",
      " 126  sc_q99_w1            float64\n",
      " 127  sc_kur_w1            float64\n",
      " 128  sc_skew_w1           float64\n",
      " 129  stft_sum_w1          float64\n",
      " 130  stft_mean_w1         float64\n",
      " 131  stft_std_w1          float64\n",
      " 132  stft_min_w1          float64\n",
      " 133  stft_max_w1          float64\n",
      " 134  stft_q01_w1          float64\n",
      " 135  stft_q05_w1          float64\n",
      " 136  stft_q25_w1          float64\n",
      " 137  stft_q50_w1          float64\n",
      " 138  stft_q75_w1          float64\n",
      " 139  stft_q95_w1          float64\n",
      " 140  stft_q99_w1          float64\n",
      " 141  stft_kur_w1          float64\n",
      " 142  stft_skew_w1         float64\n",
      " 143  length_w2            int64  \n",
      " 144  sum_w2               float64\n",
      " 145  mean_w2              float64\n",
      " 146  std_w2               float64\n",
      " 147  min_w2               float64\n",
      " 148  max_w2               float64\n",
      " 149  q01_w2               float64\n",
      " 150  q05_w2               float64\n",
      " 151  q25_w2               float64\n",
      " 152  q50_w2               float64\n",
      " 153  q75_w2               float64\n",
      " 154  q95_w2               float64\n",
      " 155  q99_w2               float64\n",
      " 156  kur_w2               float64\n",
      " 157  skew_w2              float64\n",
      " 158  lag1_sum_w2          float64\n",
      " 159  lag1_mean_w2         float64\n",
      " 160  lag1_std_w2          float64\n",
      " 161  lag1_min_w2          float64\n",
      " 162  lag1_max_w2          float64\n",
      " 163  lag1_q01_w2          float64\n",
      " 164  lag1_q05_w2          float64\n",
      " 165  lag1_q25_w2          float64\n",
      " 166  lag1_q50_w2          float64\n",
      " 167  lag1_q75_w2          float64\n",
      " 168  lag1_q95_w2          float64\n",
      " 169  lag1_q99_w2          float64\n",
      " 170  lag1_kur_w2          float64\n",
      " 171  lag1_skew_w2         float64\n",
      " 172  zc_sum_w2            int64  \n",
      " 173  zc_mean_w2           float64\n",
      " 174  zc_std_w2            float64\n",
      " 175  zc_q95_w2            float64\n",
      " 176  zc_kur_w2            float64\n",
      " 177  zc_skew_w2           float64\n",
      " 178  mfcc_sum_w2          float64\n",
      " 179  mfcc_mean_w2         float64\n",
      " 180  mfcc_std_w2          float64\n",
      " 181  mfcc_min_w2          float64\n",
      " 182  mfcc_max_w2          float64\n",
      " 183  mfcc_q01_w2          float64\n",
      " 184  mfcc_q05_w2          float64\n",
      " 185  mfcc_q25_w2          float64\n",
      " 186  mfcc_q50_w2          float64\n",
      " 187  mfcc_q75_w2          float64\n",
      " 188  mfcc_q95_w2          float64\n",
      " 189  mfcc_q99_w2          float64\n",
      " 190  mfcc_kur_w2          float64\n",
      " 191  mfcc_skew_w2         float64\n",
      " 192  sc_sum_w2            float64\n",
      " 193  sc_mean_w2           float64\n",
      " 194  sc_std_w2            float64\n",
      " 195  sc_min_w2            float64\n",
      " 196  sc_max_w2            float64\n",
      " 197  sc_q01_w2            float64\n",
      " 198  sc_q05_w2            float64\n",
      " 199  sc_q25_w2            float64\n",
      " 200  sc_q50_w2            float64\n",
      " 201  sc_q75_w2            float64\n",
      " 202  sc_q95_w2            float64\n",
      " 203  sc_q99_w2            float64\n",
      " 204  sc_kur_w2            float64\n",
      " 205  sc_skew_w2           float64\n",
      " 206  stft_sum_w2          float64\n",
      " 207  stft_mean_w2         float64\n",
      " 208  stft_std_w2          float64\n",
      " 209  stft_min_w2          float64\n",
      " 210  stft_q01_w2          float64\n",
      " 211  stft_q05_w2          float64\n",
      " 212  stft_q25_w2          float64\n",
      " 213  stft_q50_w2          float64\n",
      " 214  stft_q75_w2          float64\n",
      " 215  stft_kur_w2          float64\n",
      " 216  stft_skew_w2         float64\n",
      " 217  length_w3            int64  \n",
      " 218  sum_w3               float64\n",
      " 219  mean_w3              float64\n",
      " 220  std_w3               float64\n",
      " 221  min_w3               float64\n",
      " 222  max_w3               float64\n",
      " 223  q01_w3               float64\n",
      " 224  q05_w3               float64\n",
      " 225  q25_w3               float64\n",
      " 226  q50_w3               float64\n",
      " 227  q75_w3               float64\n",
      " 228  q95_w3               float64\n",
      " 229  q99_w3               float64\n",
      " 230  kur_w3               float64\n",
      " 231  skew_w3              float64\n",
      " 232  lag1_sum_w3          float64\n",
      " 233  lag1_mean_w3         float64\n",
      " 234  lag1_std_w3          float64\n",
      " 235  lag1_min_w3          float64\n",
      " 236  lag1_max_w3          float64\n",
      " 237  lag1_q01_w3          float64\n",
      " 238  lag1_q05_w3          float64\n",
      " 239  lag1_q25_w3          float64\n",
      " 240  lag1_q50_w3          float64\n",
      " 241  lag1_q75_w3          float64\n",
      " 242  lag1_q95_w3          float64\n",
      " 243  lag1_q99_w3          float64\n",
      " 244  lag1_kur_w3          float64\n",
      " 245  lag1_skew_w3         float64\n",
      " 246  zc_sum_w3            int64  \n",
      " 247  zc_mean_w3           float64\n",
      " 248  zc_std_w3            float64\n",
      " 249  zc_q95_w3            float64\n",
      " 250  zc_kur_w3            float64\n",
      " 251  zc_skew_w3           float64\n",
      " 252  mfcc_sum_w3          float64\n",
      " 253  mfcc_mean_w3         float64\n",
      " 254  mfcc_std_w3          float64\n",
      " 255  mfcc_min_w3          float64\n",
      " 256  mfcc_max_w3          float64\n",
      " 257  mfcc_q01_w3          float64\n",
      " 258  mfcc_q05_w3          float64\n",
      " 259  mfcc_q25_w3          float64\n",
      " 260  mfcc_q50_w3          float64\n",
      " 261  mfcc_q75_w3          float64\n",
      " 262  mfcc_q95_w3          float64\n",
      " 263  mfcc_q99_w3          float64\n",
      " 264  mfcc_kur_w3          float64\n",
      " 265  mfcc_skew_w3         float64\n",
      " 266  sc_sum_w3            float64\n",
      " 267  sc_mean_w3           float64\n",
      " 268  sc_std_w3            float64\n",
      " 269  sc_min_w3            float64\n",
      " 270  sc_max_w3            float64\n",
      " 271  sc_q01_w3            float64\n",
      " 272  sc_q05_w3            float64\n",
      " 273  sc_q25_w3            float64\n",
      " 274  sc_q50_w3            float64\n",
      " 275  sc_q75_w3            float64\n",
      " 276  sc_q95_w3            float64\n",
      " 277  sc_q99_w3            float64\n",
      " 278  sc_kur_w3            float64\n",
      " 279  sc_skew_w3           float64\n",
      " 280  stft_sum_w3          float64\n",
      " 281  stft_mean_w3         float64\n",
      " 282  stft_std_w3          float64\n",
      " 283  stft_min_w3          float64\n",
      " 284  stft_q01_w3          float64\n",
      " 285  stft_q05_w3          float64\n",
      " 286  stft_q25_w3          float64\n",
      " 287  stft_q50_w3          float64\n",
      " 288  stft_q75_w3          float64\n",
      " 289  stft_kur_w3          float64\n",
      " 290  stft_skew_w3         float64\n",
      " 291  length_w4            int64  \n",
      " 292  sum_w4               float64\n",
      " 293  mean_w4              float64\n",
      " 294  std_w4               float64\n",
      " 295  min_w4               float64\n",
      " 296  max_w4               float64\n",
      " 297  q01_w4               float64\n",
      " 298  q05_w4               float64\n",
      " 299  q25_w4               float64\n",
      " 300  q50_w4               float64\n",
      " 301  q75_w4               float64\n",
      " 302  q95_w4               float64\n",
      " 303  q99_w4               float64\n",
      " 304  kur_w4               float64\n",
      " 305  skew_w4              float64\n",
      " 306  lag1_sum_w4          float64\n",
      " 307  lag1_mean_w4         float64\n",
      " 308  lag1_std_w4          float64\n",
      " 309  lag1_min_w4          float64\n",
      " 310  lag1_max_w4          float64\n",
      " 311  lag1_q01_w4          float64\n",
      " 312  lag1_q05_w4          float64\n",
      " 313  lag1_q25_w4          float64\n",
      " 314  lag1_q75_w4          float64\n",
      " 315  lag1_q95_w4          float64\n",
      " 316  lag1_q99_w4          float64\n",
      " 317  lag1_kur_w4          float64\n",
      " 318  lag1_skew_w4         float64\n",
      " 319  zc_sum_w4            int64  \n",
      " 320  zc_mean_w4           float64\n",
      " 321  zc_std_w4            float64\n",
      " 322  zc_q75_w4            float64\n",
      " 323  zc_q95_w4            float64\n",
      " 324  zc_q99_w4            float64\n",
      " 325  zc_kur_w4            float64\n",
      " 326  zc_skew_w4           float64\n",
      " 327  mfcc_sum_w4          float64\n",
      " 328  mfcc_mean_w4         float64\n",
      " 329  mfcc_std_w4          float64\n",
      " 330  mfcc_min_w4          float64\n",
      " 331  mfcc_max_w4          float64\n",
      " 332  mfcc_q01_w4          float64\n",
      " 333  mfcc_q05_w4          float64\n",
      " 334  mfcc_q25_w4          float64\n",
      " 335  mfcc_q50_w4          float64\n",
      " 336  mfcc_q75_w4          float64\n",
      " 337  mfcc_q95_w4          float64\n",
      " 338  mfcc_q99_w4          float64\n",
      " 339  mfcc_kur_w4          float64\n",
      " 340  mfcc_skew_w4         float64\n",
      " 341  sc_sum_w4            float64\n",
      " 342  sc_mean_w4           float64\n",
      " 343  sc_std_w4            float64\n",
      " 344  sc_min_w4            float64\n",
      " 345  sc_max_w4            float64\n",
      " 346  sc_q01_w4            float64\n",
      " 347  sc_q05_w4            float64\n",
      " 348  sc_q25_w4            float64\n",
      " 349  sc_q50_w4            float64\n",
      " 350  sc_q75_w4            float64\n",
      " 351  sc_q95_w4            float64\n",
      " 352  sc_q99_w4            float64\n",
      " 353  sc_kur_w4            float64\n",
      " 354  sc_skew_w4           float64\n",
      " 355  stft_sum_w4          float64\n",
      " 356  stft_mean_w4         float64\n",
      " 357  stft_std_w4          float64\n",
      " 358  stft_min_w4          float64\n",
      " 359  stft_q01_w4          float64\n",
      " 360  stft_q05_w4          float64\n",
      " 361  stft_q25_w4          float64\n",
      " 362  stft_q50_w4          float64\n",
      " 363  stft_q75_w4          float64\n",
      " 364  stft_q95_w4          float64\n",
      " 365  stft_kur_w4          float64\n",
      " 366  stft_skew_w4         float64\n",
      " 367  vocal_channel        object \n",
      " 368  emotional_intensity  object \n",
      " 369  statement            object \n",
      " 370  repetition           object \n",
      " 371  sex                  object \n",
      "dtypes: float64(356), int64(11), object(5)\n",
      "memory usage: 5.2+ MB\n"
     ]
    }
   ],
   "source": [
    "train_final.info(verbose=True)"
   ]
  },
  {
   "cell_type": "markdown",
   "id": "436e936b-2859-42a8-b1ad-06df8bbed767",
   "metadata": {},
   "source": [
    "## dimensionality reduction"
   ]
  },
  {
   "cell_type": "code",
   "execution_count": 28,
   "id": "189b17dd-83fb-406c-8c72-0b640d9c6c65",
   "metadata": {},
   "outputs": [],
   "source": [
    "y = np.array(train_data['emotion'])"
   ]
  },
  {
   "cell_type": "code",
   "execution_count": 29,
   "id": "07bd7523-1f50-4600-be50-d9bbd8c01cff",
   "metadata": {},
   "outputs": [],
   "source": [
    "le = preprocessing.LabelEncoder()\n",
    "for column_name in train_final.columns:\n",
    "    if train_final[column_name].dtype == object:\n",
    "        train_final[column_name] = le.fit_transform(train_final[column_name])\n",
    "    else:\n",
    "        pass"
   ]
  },
  {
   "cell_type": "code",
   "execution_count": 30,
   "id": "33d74c9e-39ce-4c16-a40a-f4304f829fc6",
   "metadata": {},
   "outputs": [],
   "source": [
    "X_train, X_test, y_train, y_test = train_test_split(train_num, y, test_size=0.3, \n",
    "                                                    random_state=100, stratify=y)"
   ]
  },
  {
   "cell_type": "code",
   "execution_count": 31,
   "id": "f5d9fdaf-938f-485e-9ec3-10859c62c3c0",
   "metadata": {},
   "outputs": [
    {
     "data": {
      "text/plain": [
       "(1279, 367)"
      ]
     },
     "execution_count": 31,
     "metadata": {},
     "output_type": "execute_result"
    }
   ],
   "source": [
    "X_train.shape"
   ]
  },
  {
   "cell_type": "code",
   "execution_count": 32,
   "id": "dbde8db3-ef16-4220-88fe-15ad6a7d9e27",
   "metadata": {},
   "outputs": [
    {
     "name": "stdout",
     "output_type": "stream",
     "text": [
      "Accuracy 0.37158469945355194\n",
      "F1-score [0.48167539 0.49411765 0.2247191  0.28395062 0.33707865 0.42857143\n",
      " 0.30872483 0.32      ]\n",
      "              precision    recall  f1-score   support\n",
      "\n",
      "       angry      0.430     0.548     0.482        84\n",
      "        calm      0.488     0.500     0.494        84\n",
      "     disgust      0.222     0.227     0.225        44\n",
      "     fearful      0.295     0.274     0.284        84\n",
      "       happy      0.319     0.357     0.337        84\n",
      "     neutral      0.429     0.429     0.429        42\n",
      "         sad      0.354     0.274     0.309        84\n",
      "   surprised      0.375     0.279     0.320        43\n",
      "\n",
      "    accuracy                          0.372       549\n",
      "   macro avg      0.364     0.361     0.360       549\n",
      "weighted avg      0.369     0.372     0.367       549\n",
      "\n"
     ]
    }
   ],
   "source": [
    "clf = DecisionTreeClassifier(min_samples_leaf=3, random_state=42)\n",
    "clf.fit(X_train, y_train)\n",
    "\n",
    "y_pred = clf.predict(X_test)\n",
    "\n",
    "print('Accuracy %s' % accuracy_score(y_test, y_pred))\n",
    "print('F1-score %s' % f1_score(y_test, y_pred, average=None))\n",
    "print(classification_report(y_test, y_pred, digits=3))"
   ]
  },
  {
   "cell_type": "code",
   "execution_count": 33,
   "id": "5812f924-622a-4253-8580-3152624501d4",
   "metadata": {},
   "outputs": [],
   "source": [
    "#plt.hist((np.var(X_train, axis=0))[np.var(X_train, axis=0 ) < 9.37927341e-09  ])\n",
    "#print(np.var(train_good_norm, axis=0)[np.var(train_good_norm, axis=0) > 4.32296153e+09 ])\n",
    "#plt.yscale('log')\n",
    "#plt.show()"
   ]
  },
  {
   "cell_type": "code",
   "execution_count": 34,
   "id": "81323153-439b-470d-83aa-b9687a86c256",
   "metadata": {},
   "outputs": [
    {
     "name": "stdout",
     "output_type": "stream",
     "text": [
      "806761498.0036353\n"
     ]
    }
   ],
   "source": [
    "pd.set_option('display.max_rows', 500)\n",
    "print(np.var(X_train[\"frame_count\"], axis=0))\n"
   ]
  },
  {
   "cell_type": "markdown",
   "id": "7367fc60-cb82-4402-9912-e80e1c4633db",
   "metadata": {},
   "source": [
    "## find a good threshold such that the accuracy is optimized here"
   ]
  },
  {
   "cell_type": "code",
   "execution_count": 35,
   "id": "a1bfb36d-160b-463b-a4d3-53ecce6a62fc",
   "metadata": {},
   "outputs": [],
   "source": [
    "#plt.hist(np.var(X_train, axis=0)[np.var(X_train, axis=0 ) < 900000  ])\n",
    "#plt.yscale('log')\n",
    "#plt.show()\n",
    "#list(np.var(X_train, axis=0)[np.var(X_train, axis=0) > 200000])\n",
    "\n"
   ]
  },
  {
   "cell_type": "code",
   "execution_count": 36,
   "id": "57792177-221f-4088-bddc-601629260f2b",
   "metadata": {},
   "outputs": [
    {
     "data": {
      "text/plain": [
       "(1279, 174)"
      ]
     },
     "execution_count": 36,
     "metadata": {},
     "output_type": "execute_result"
    }
   ],
   "source": [
    "sel = VarianceThreshold(threshold=0.474204595)\n",
    "X_train_sel = sel.fit_transform(X_train)\n",
    "\n",
    "X_train_sel.shape"
   ]
  },
  {
   "cell_type": "code",
   "execution_count": 37,
   "id": "810f7584-7cdd-47ef-a521-d3840575f408",
   "metadata": {},
   "outputs": [
    {
     "name": "stdout",
     "output_type": "stream",
     "text": [
      "Accuracy 0.42987249544626593\n",
      "F1-score [0.52747253 0.50887574 0.27160494 0.42285714 0.35928144 0.41558442\n",
      " 0.35365854 0.53012048]\n",
      "              precision    recall  f1-score   support\n",
      "\n",
      "       angry      0.490     0.571     0.527        84\n",
      "        calm      0.506     0.512     0.509        84\n",
      "     disgust      0.297     0.250     0.272        44\n",
      "     fearful      0.407     0.440     0.423        84\n",
      "       happy      0.361     0.357     0.359        84\n",
      "     neutral      0.457     0.381     0.416        42\n",
      "         sad      0.362     0.345     0.354        84\n",
      "   surprised      0.550     0.512     0.530        43\n",
      "\n",
      "    accuracy                          0.430       549\n",
      "   macro avg      0.429     0.421     0.424       549\n",
      "weighted avg      0.427     0.430     0.427       549\n",
      "\n"
     ]
    }
   ],
   "source": [
    "X_test_sel = sel.transform(X_test)\n",
    "\n",
    "clf = DecisionTreeClassifier(min_samples_leaf=3, random_state=42)\n",
    "clf.fit(X_train_sel, y_train)\n",
    "\n",
    "y_pred = clf.predict(X_test_sel)\n",
    "\n",
    "print('Accuracy %s' % accuracy_score(y_test, y_pred))\n",
    "print('F1-score %s' % f1_score(y_test, y_pred, average=None))\n",
    "print(classification_report(y_test, y_pred, digits=3))"
   ]
  },
  {
   "cell_type": "code",
   "execution_count": 38,
   "id": "fb93b9f2-e020-4694-8e97-f45df072138f",
   "metadata": {},
   "outputs": [
    {
     "data": {
      "text/plain": [
       "\"list_of_thresholds=[2.31055954e-17, 9.48409190e-02, 1.89681838e-01, 2.84522757e-01,\\n        3.79363676e-01, 4.74204595e-01, 5.69045514e-01, 6.63886433e-01,\\n        7.58727352e-01, 8.53568271e-01, 9.48409190e-01]\\n\\naccuracy_scores=[]\\n\\nfor threshold in list_of_thresholds:\\n    sel = VarianceThreshold(threshold=threshold)\\n    X_train_sel = sel.fit_transform(X_train)\\n    X_test_sel = sel.transform(X_test)\\n\\n    clf = DecisionTreeClassifier(min_samples_leaf=3, random_state=42)\\n    clf.fit(X_train_sel, y_train)\\n\\n    y_pred = clf.predict(X_test_sel)\\n    \\n    print('Accuracy %s' % accuracy_score(y_test, y_pred), threshold)\\n    \\n    z=accuracy_score(y_test, y_pred)\\n    \\n    accuracy_scores.append(z)\\n    \\nsns.lineplot(x=list_of_thresholds, y=accuracy_scores, marker='o')\\nplt.ylabel('accuracy')\\nplt.xlabel('threshold')\\nplt.show()\""
      ]
     },
     "execution_count": 38,
     "metadata": {},
     "output_type": "execute_result"
    }
   ],
   "source": [
    "\"\"\"list_of_thresholds=[2.31055954e-17, 9.48409190e-02, 1.89681838e-01, 2.84522757e-01,\n",
    "        3.79363676e-01, 4.74204595e-01, 5.69045514e-01, 6.63886433e-01,\n",
    "        7.58727352e-01, 8.53568271e-01, 9.48409190e-01]\n",
    "\n",
    "accuracy_scores=[]\n",
    "\n",
    "for threshold in list_of_thresholds:\n",
    "    sel = VarianceThreshold(threshold=threshold)\n",
    "    X_train_sel = sel.fit_transform(X_train)\n",
    "    X_test_sel = sel.transform(X_test)\n",
    "\n",
    "    clf = DecisionTreeClassifier(min_samples_leaf=3, random_state=42)\n",
    "    clf.fit(X_train_sel, y_train)\n",
    "\n",
    "    y_pred = clf.predict(X_test_sel)\n",
    "    \n",
    "    print('Accuracy %s' % accuracy_score(y_test, y_pred), threshold)\n",
    "    \n",
    "    z=accuracy_score(y_test, y_pred)\n",
    "    \n",
    "    accuracy_scores.append(z)\n",
    "    \n",
    "sns.lineplot(x=list_of_thresholds, y=accuracy_scores, marker='o')\n",
    "plt.ylabel('accuracy')\n",
    "plt.xlabel('threshold')\n",
    "plt.show()\"\"\"\n",
    "    \n",
    "    "
   ]
  },
  {
   "cell_type": "code",
   "execution_count": 39,
   "id": "836d4cff-9c35-4874-aabb-aefb86d00964",
   "metadata": {},
   "outputs": [
    {
     "name": "stdout",
     "output_type": "stream",
     "text": [
      "['actor', 'frame_count', 'sum', 'kur', 'lag1_kur', 'zc_sum', 'mfcc_sum', 'mfcc_mean', 'mfcc_std', 'mfcc_max', 'mfcc_q01', 'mfcc_q05', 'mfcc_q25', 'mfcc_q50', 'mfcc_q75', 'mfcc_q95', 'mfcc_q99', 'mfcc_kur', 'sc_mean', 'sc_std', 'sc_min', 'sc_max', 'sc_q01', 'sc_q05', 'sc_q25', 'sc_q50', 'sc_q75', 'sc_q95', 'sc_q99', 'stft_sum', 'length_w1', 'sum_w1', 'kur_w1', 'skew_w1', 'lag1_kur_w1', 'lag1_skew_w1', 'zc_sum_w1', 'zc_kur_w1', 'zc_skew_w1', 'mfcc_sum_w1', 'mfcc_mean_w1', 'mfcc_std_w1', 'mfcc_min_w1', 'mfcc_max_w1', 'mfcc_q01_w1', 'mfcc_q05_w1', 'mfcc_q25_w1', 'mfcc_q50_w1', 'mfcc_q75_w1', 'mfcc_q95_w1', 'mfcc_q99_w1', 'mfcc_kur_w1', 'sc_sum_w1', 'sc_mean_w1', 'sc_std_w1', 'sc_min_w1', 'sc_max_w1', 'sc_q01_w1', 'sc_q05_w1', 'sc_q25_w1', 'sc_q50_w1', 'sc_q75_w1', 'sc_q95_w1', 'sc_q99_w1', 'sc_kur_w1', 'sc_skew_w1', 'stft_sum_w1', 'stft_kur_w1', 'stft_skew_w1', 'length_w2', 'sum_w2', 'kur_w2', 'lag1_kur_w2', 'zc_sum_w2', 'zc_kur_w2', 'mfcc_sum_w2', 'mfcc_mean_w2', 'mfcc_std_w2', 'mfcc_min_w2', 'mfcc_max_w2', 'mfcc_q01_w2', 'mfcc_q05_w2', 'mfcc_q25_w2', 'mfcc_q50_w2', 'mfcc_q75_w2', 'mfcc_q95_w2', 'mfcc_q99_w2', 'mfcc_kur_w2', 'sc_sum_w2', 'sc_mean_w2', 'sc_std_w2', 'sc_min_w2', 'sc_max_w2', 'sc_q01_w2', 'sc_q05_w2', 'sc_q25_w2', 'sc_q50_w2', 'sc_q75_w2', 'sc_q95_w2', 'sc_q99_w2', 'sc_kur_w2', 'stft_sum_w2', 'length_w3', 'sum_w3', 'kur_w3', 'lag1_kur_w3', 'zc_sum_w3', 'zc_kur_w3', 'zc_skew_w3', 'mfcc_sum_w3', 'mfcc_mean_w3', 'mfcc_std_w3', 'mfcc_min_w3', 'mfcc_max_w3', 'mfcc_q01_w3', 'mfcc_q05_w3', 'mfcc_q25_w3', 'mfcc_q50_w3', 'mfcc_q75_w3', 'mfcc_q95_w3', 'mfcc_q99_w3', 'mfcc_kur_w3', 'sc_sum_w3', 'sc_mean_w3', 'sc_std_w3', 'sc_min_w3', 'sc_max_w3', 'sc_q01_w3', 'sc_q05_w3', 'sc_q25_w3', 'sc_q50_w3', 'sc_q75_w3', 'sc_q95_w3', 'sc_q99_w3', 'sc_kur_w3', 'sc_skew_w3', 'stft_sum_w3', 'length_w4', 'sum_w4', 'kur_w4', 'skew_w4', 'lag1_kur_w4', 'lag1_skew_w4', 'zc_sum_w4', 'zc_kur_w4', 'zc_skew_w4', 'mfcc_sum_w4', 'mfcc_mean_w4', 'mfcc_std_w4', 'mfcc_min_w4', 'mfcc_max_w4', 'mfcc_q01_w4', 'mfcc_q05_w4', 'mfcc_q25_w4', 'mfcc_q50_w4', 'mfcc_q75_w4', 'mfcc_q95_w4', 'mfcc_q99_w4', 'sc_sum_w4', 'sc_mean_w4', 'sc_std_w4', 'sc_min_w4', 'sc_max_w4', 'sc_q01_w4', 'sc_q05_w4', 'sc_q25_w4', 'sc_q50_w4', 'sc_q75_w4', 'sc_q95_w4', 'sc_q99_w4', 'sc_kur_w4', 'sc_skew_w4', 'stft_sum_w4', 'stft_kur_w4']\n"
     ]
    }
   ],
   "source": [
    "sel_columns=[]\n",
    "\n",
    "for column in X_train:\n",
    "    if X_train[column].var()> 0.474204595:\n",
    "        sel_columns.append(column)\n",
    "\n",
    "print(sel_columns)"
   ]
  },
  {
   "cell_type": "code",
   "execution_count": 40,
   "id": "ed7bd985-6bb2-4834-a5ec-df56828fab91",
   "metadata": {},
   "outputs": [],
   "source": [
    "train_data_num=train_data.loc[:, train_data.dtypes != object]\n",
    "\n",
    "sel = VarianceThreshold(threshold=0.474204595)\n",
    "train_sel = sel.fit_transform(train_data_num)\n",
    "train_sel = pd.DataFrame(train_sel, columns=sel_columns)"
   ]
  },
  {
   "cell_type": "code",
   "execution_count": 41,
   "id": "6de808bb-7a01-417c-82f3-2168daa7e484",
   "metadata": {},
   "outputs": [
    {
     "data": {
      "text/plain": [
       "(1828, 174)"
      ]
     },
     "execution_count": 41,
     "metadata": {},
     "output_type": "execute_result"
    }
   ],
   "source": [
    "train_sel.shape"
   ]
  },
  {
   "cell_type": "code",
   "execution_count": 42,
   "id": "81c003e6-d2a0-49ff-bcbf-fee67db4f590",
   "metadata": {},
   "outputs": [],
   "source": [
    "test_sel = test_data[sel_columns]"
   ]
  },
  {
   "cell_type": "code",
   "execution_count": 43,
   "id": "2b2e54ca-8077-4194-ac30-d690ab8e1834",
   "metadata": {},
   "outputs": [
    {
     "data": {
      "text/html": [
       "<div>\n",
       "<style scoped>\n",
       "    .dataframe tbody tr th:only-of-type {\n",
       "        vertical-align: middle;\n",
       "    }\n",
       "\n",
       "    .dataframe tbody tr th {\n",
       "        vertical-align: top;\n",
       "    }\n",
       "\n",
       "    .dataframe thead th {\n",
       "        text-align: right;\n",
       "    }\n",
       "</style>\n",
       "<table border=\"1\" class=\"dataframe\">\n",
       "  <thead>\n",
       "    <tr style=\"text-align: right;\">\n",
       "      <th></th>\n",
       "      <th>actor</th>\n",
       "      <th>frame_count</th>\n",
       "      <th>sum</th>\n",
       "      <th>kur</th>\n",
       "      <th>lag1_kur</th>\n",
       "      <th>zc_sum</th>\n",
       "      <th>mfcc_sum</th>\n",
       "      <th>mfcc_mean</th>\n",
       "      <th>mfcc_std</th>\n",
       "      <th>mfcc_max</th>\n",
       "      <th>...</th>\n",
       "      <th>sc_q05_w4</th>\n",
       "      <th>sc_q25_w4</th>\n",
       "      <th>sc_q50_w4</th>\n",
       "      <th>sc_q75_w4</th>\n",
       "      <th>sc_q95_w4</th>\n",
       "      <th>sc_q99_w4</th>\n",
       "      <th>sc_kur_w4</th>\n",
       "      <th>sc_skew_w4</th>\n",
       "      <th>stft_sum_w4</th>\n",
       "      <th>stft_kur_w4</th>\n",
       "    </tr>\n",
       "  </thead>\n",
       "  <tbody>\n",
       "    <tr>\n",
       "      <th>0</th>\n",
       "      <td>19</td>\n",
       "      <td>161762</td>\n",
       "      <td>0.475616</td>\n",
       "      <td>11.392131</td>\n",
       "      <td>27.908376</td>\n",
       "      <td>6914</td>\n",
       "      <td>-185091.597475</td>\n",
       "      <td>-29.286645</td>\n",
       "      <td>172.090423</td>\n",
       "      <td>238.067483</td>\n",
       "      <td>...</td>\n",
       "      <td>5972.243167</td>\n",
       "      <td>8195.778271</td>\n",
       "      <td>9121.554218</td>\n",
       "      <td>10041.725010</td>\n",
       "      <td>11120.746102</td>\n",
       "      <td>11704.526728</td>\n",
       "      <td>-0.389589</td>\n",
       "      <td>-0.476916</td>\n",
       "      <td>727.157574</td>\n",
       "      <td>-0.260279</td>\n",
       "    </tr>\n",
       "    <tr>\n",
       "      <th>1</th>\n",
       "      <td>19</td>\n",
       "      <td>155355</td>\n",
       "      <td>0.120148</td>\n",
       "      <td>13.621589</td>\n",
       "      <td>42.184398</td>\n",
       "      <td>6932</td>\n",
       "      <td>-177839.591263</td>\n",
       "      <td>-29.249933</td>\n",
       "      <td>171.375407</td>\n",
       "      <td>228.448708</td>\n",
       "      <td>...</td>\n",
       "      <td>5908.247494</td>\n",
       "      <td>7170.967974</td>\n",
       "      <td>9561.173331</td>\n",
       "      <td>11186.861414</td>\n",
       "      <td>11582.523798</td>\n",
       "      <td>11856.402666</td>\n",
       "      <td>-1.261399</td>\n",
       "      <td>-0.396969</td>\n",
       "      <td>637.658102</td>\n",
       "      <td>-0.428900</td>\n",
       "    </tr>\n",
       "    <tr>\n",
       "      <th>2</th>\n",
       "      <td>19</td>\n",
       "      <td>160160</td>\n",
       "      <td>-0.599304</td>\n",
       "      <td>7.678162</td>\n",
       "      <td>59.173624</td>\n",
       "      <td>9418</td>\n",
       "      <td>-181697.868716</td>\n",
       "      <td>-29.025219</td>\n",
       "      <td>170.958988</td>\n",
       "      <td>227.401299</td>\n",
       "      <td>...</td>\n",
       "      <td>6298.587809</td>\n",
       "      <td>7466.224410</td>\n",
       "      <td>9177.280207</td>\n",
       "      <td>9794.040046</td>\n",
       "      <td>11227.823275</td>\n",
       "      <td>11965.987675</td>\n",
       "      <td>-0.548618</td>\n",
       "      <td>-0.212367</td>\n",
       "      <td>672.592436</td>\n",
       "      <td>0.626916</td>\n",
       "    </tr>\n",
       "    <tr>\n",
       "      <th>3</th>\n",
       "      <td>19</td>\n",
       "      <td>158558</td>\n",
       "      <td>-0.080383</td>\n",
       "      <td>14.511231</td>\n",
       "      <td>43.718458</td>\n",
       "      <td>8686</td>\n",
       "      <td>-183699.720428</td>\n",
       "      <td>-29.628987</td>\n",
       "      <td>168.719126</td>\n",
       "      <td>224.906515</td>\n",
       "      <td>...</td>\n",
       "      <td>7212.387125</td>\n",
       "      <td>7969.218641</td>\n",
       "      <td>8762.907534</td>\n",
       "      <td>9882.683892</td>\n",
       "      <td>10745.314501</td>\n",
       "      <td>11495.219384</td>\n",
       "      <td>-0.966908</td>\n",
       "      <td>0.173125</td>\n",
       "      <td>704.158385</td>\n",
       "      <td>-0.825144</td>\n",
       "    </tr>\n",
       "    <tr>\n",
       "      <th>4</th>\n",
       "      <td>19</td>\n",
       "      <td>176176</td>\n",
       "      <td>0.152222</td>\n",
       "      <td>8.944732</td>\n",
       "      <td>139.907840</td>\n",
       "      <td>9674</td>\n",
       "      <td>-204624.188622</td>\n",
       "      <td>-29.655680</td>\n",
       "      <td>179.013415</td>\n",
       "      <td>204.603472</td>\n",
       "      <td>...</td>\n",
       "      <td>3936.366435</td>\n",
       "      <td>8493.923917</td>\n",
       "      <td>9926.499570</td>\n",
       "      <td>10780.217065</td>\n",
       "      <td>11572.842210</td>\n",
       "      <td>11777.983822</td>\n",
       "      <td>2.327035</td>\n",
       "      <td>-1.593457</td>\n",
       "      <td>780.167518</td>\n",
       "      <td>-0.536669</td>\n",
       "    </tr>\n",
       "    <tr>\n",
       "      <th>...</th>\n",
       "      <td>...</td>\n",
       "      <td>...</td>\n",
       "      <td>...</td>\n",
       "      <td>...</td>\n",
       "      <td>...</td>\n",
       "      <td>...</td>\n",
       "      <td>...</td>\n",
       "      <td>...</td>\n",
       "      <td>...</td>\n",
       "      <td>...</td>\n",
       "      <td>...</td>\n",
       "      <td>...</td>\n",
       "      <td>...</td>\n",
       "      <td>...</td>\n",
       "      <td>...</td>\n",
       "      <td>...</td>\n",
       "      <td>...</td>\n",
       "      <td>...</td>\n",
       "      <td>...</td>\n",
       "      <td>...</td>\n",
       "      <td>...</td>\n",
       "    </tr>\n",
       "    <tr>\n",
       "      <th>619</th>\n",
       "      <td>24</td>\n",
       "      <td>219419</td>\n",
       "      <td>0.423157</td>\n",
       "      <td>6.520678</td>\n",
       "      <td>80.379368</td>\n",
       "      <td>15787</td>\n",
       "      <td>-264009.939482</td>\n",
       "      <td>-30.770389</td>\n",
       "      <td>131.174261</td>\n",
       "      <td>181.801757</td>\n",
       "      <td>...</td>\n",
       "      <td>2426.159633</td>\n",
       "      <td>7124.124853</td>\n",
       "      <td>9465.933074</td>\n",
       "      <td>9825.431365</td>\n",
       "      <td>10034.042184</td>\n",
       "      <td>10145.507697</td>\n",
       "      <td>-0.230367</td>\n",
       "      <td>-1.213402</td>\n",
       "      <td>791.637319</td>\n",
       "      <td>-0.495689</td>\n",
       "    </tr>\n",
       "    <tr>\n",
       "      <th>620</th>\n",
       "      <td>24</td>\n",
       "      <td>217817</td>\n",
       "      <td>-1.375854</td>\n",
       "      <td>14.590263</td>\n",
       "      <td>40.644555</td>\n",
       "      <td>17053</td>\n",
       "      <td>-245411.449442</td>\n",
       "      <td>-28.804161</td>\n",
       "      <td>116.716024</td>\n",
       "      <td>186.612589</td>\n",
       "      <td>...</td>\n",
       "      <td>2503.120563</td>\n",
       "      <td>4776.274447</td>\n",
       "      <td>5662.021516</td>\n",
       "      <td>6717.846923</td>\n",
       "      <td>9569.567182</td>\n",
       "      <td>10099.677098</td>\n",
       "      <td>-0.207094</td>\n",
       "      <td>0.289277</td>\n",
       "      <td>688.266594</td>\n",
       "      <td>-0.877851</td>\n",
       "    </tr>\n",
       "    <tr>\n",
       "      <th>621</th>\n",
       "      <td>24</td>\n",
       "      <td>206606</td>\n",
       "      <td>0.573761</td>\n",
       "      <td>6.947965</td>\n",
       "      <td>30.113873</td>\n",
       "      <td>15855</td>\n",
       "      <td>-225213.091603</td>\n",
       "      <td>-27.872907</td>\n",
       "      <td>118.957076</td>\n",
       "      <td>175.597276</td>\n",
       "      <td>...</td>\n",
       "      <td>2519.017778</td>\n",
       "      <td>5151.407589</td>\n",
       "      <td>6873.031650</td>\n",
       "      <td>7647.269820</td>\n",
       "      <td>9177.984373</td>\n",
       "      <td>9627.394302</td>\n",
       "      <td>-0.550877</td>\n",
       "      <td>-0.536569</td>\n",
       "      <td>619.688792</td>\n",
       "      <td>-0.997740</td>\n",
       "    </tr>\n",
       "    <tr>\n",
       "      <th>622</th>\n",
       "      <td>24</td>\n",
       "      <td>203404</td>\n",
       "      <td>0.792572</td>\n",
       "      <td>6.107496</td>\n",
       "      <td>38.211619</td>\n",
       "      <td>17077</td>\n",
       "      <td>-211833.281301</td>\n",
       "      <td>-26.612221</td>\n",
       "      <td>114.252079</td>\n",
       "      <td>178.413828</td>\n",
       "      <td>...</td>\n",
       "      <td>2459.783919</td>\n",
       "      <td>5306.555431</td>\n",
       "      <td>6433.235498</td>\n",
       "      <td>8246.142830</td>\n",
       "      <td>9243.660055</td>\n",
       "      <td>9564.758914</td>\n",
       "      <td>-0.646994</td>\n",
       "      <td>-0.421549</td>\n",
       "      <td>714.314900</td>\n",
       "      <td>-0.670500</td>\n",
       "    </tr>\n",
       "    <tr>\n",
       "      <th>623</th>\n",
       "      <td>24</td>\n",
       "      <td>213013</td>\n",
       "      <td>0.355530</td>\n",
       "      <td>7.179805</td>\n",
       "      <td>23.609656</td>\n",
       "      <td>18477</td>\n",
       "      <td>-230264.382933</td>\n",
       "      <td>-27.609638</td>\n",
       "      <td>112.912761</td>\n",
       "      <td>175.514072</td>\n",
       "      <td>...</td>\n",
       "      <td>2882.912727</td>\n",
       "      <td>6084.628091</td>\n",
       "      <td>8724.756435</td>\n",
       "      <td>9349.331172</td>\n",
       "      <td>9961.628930</td>\n",
       "      <td>10331.511169</td>\n",
       "      <td>-0.724733</td>\n",
       "      <td>-0.922053</td>\n",
       "      <td>764.619208</td>\n",
       "      <td>-0.538011</td>\n",
       "    </tr>\n",
       "  </tbody>\n",
       "</table>\n",
       "<p>624 rows × 174 columns</p>\n",
       "</div>"
      ],
      "text/plain": [
       "     actor  frame_count       sum        kur    lag1_kur  zc_sum  \\\n",
       "0       19       161762  0.475616  11.392131   27.908376    6914   \n",
       "1       19       155355  0.120148  13.621589   42.184398    6932   \n",
       "2       19       160160 -0.599304   7.678162   59.173624    9418   \n",
       "3       19       158558 -0.080383  14.511231   43.718458    8686   \n",
       "4       19       176176  0.152222   8.944732  139.907840    9674   \n",
       "..     ...          ...       ...        ...         ...     ...   \n",
       "619     24       219419  0.423157   6.520678   80.379368   15787   \n",
       "620     24       217817 -1.375854  14.590263   40.644555   17053   \n",
       "621     24       206606  0.573761   6.947965   30.113873   15855   \n",
       "622     24       203404  0.792572   6.107496   38.211619   17077   \n",
       "623     24       213013  0.355530   7.179805   23.609656   18477   \n",
       "\n",
       "          mfcc_sum  mfcc_mean    mfcc_std    mfcc_max  ...    sc_q05_w4  \\\n",
       "0   -185091.597475 -29.286645  172.090423  238.067483  ...  5972.243167   \n",
       "1   -177839.591263 -29.249933  171.375407  228.448708  ...  5908.247494   \n",
       "2   -181697.868716 -29.025219  170.958988  227.401299  ...  6298.587809   \n",
       "3   -183699.720428 -29.628987  168.719126  224.906515  ...  7212.387125   \n",
       "4   -204624.188622 -29.655680  179.013415  204.603472  ...  3936.366435   \n",
       "..             ...        ...         ...         ...  ...          ...   \n",
       "619 -264009.939482 -30.770389  131.174261  181.801757  ...  2426.159633   \n",
       "620 -245411.449442 -28.804161  116.716024  186.612589  ...  2503.120563   \n",
       "621 -225213.091603 -27.872907  118.957076  175.597276  ...  2519.017778   \n",
       "622 -211833.281301 -26.612221  114.252079  178.413828  ...  2459.783919   \n",
       "623 -230264.382933 -27.609638  112.912761  175.514072  ...  2882.912727   \n",
       "\n",
       "       sc_q25_w4    sc_q50_w4     sc_q75_w4     sc_q95_w4     sc_q99_w4  \\\n",
       "0    8195.778271  9121.554218  10041.725010  11120.746102  11704.526728   \n",
       "1    7170.967974  9561.173331  11186.861414  11582.523798  11856.402666   \n",
       "2    7466.224410  9177.280207   9794.040046  11227.823275  11965.987675   \n",
       "3    7969.218641  8762.907534   9882.683892  10745.314501  11495.219384   \n",
       "4    8493.923917  9926.499570  10780.217065  11572.842210  11777.983822   \n",
       "..           ...          ...           ...           ...           ...   \n",
       "619  7124.124853  9465.933074   9825.431365  10034.042184  10145.507697   \n",
       "620  4776.274447  5662.021516   6717.846923   9569.567182  10099.677098   \n",
       "621  5151.407589  6873.031650   7647.269820   9177.984373   9627.394302   \n",
       "622  5306.555431  6433.235498   8246.142830   9243.660055   9564.758914   \n",
       "623  6084.628091  8724.756435   9349.331172   9961.628930  10331.511169   \n",
       "\n",
       "     sc_kur_w4  sc_skew_w4  stft_sum_w4  stft_kur_w4  \n",
       "0    -0.389589   -0.476916   727.157574    -0.260279  \n",
       "1    -1.261399   -0.396969   637.658102    -0.428900  \n",
       "2    -0.548618   -0.212367   672.592436     0.626916  \n",
       "3    -0.966908    0.173125   704.158385    -0.825144  \n",
       "4     2.327035   -1.593457   780.167518    -0.536669  \n",
       "..         ...         ...          ...          ...  \n",
       "619  -0.230367   -1.213402   791.637319    -0.495689  \n",
       "620  -0.207094    0.289277   688.266594    -0.877851  \n",
       "621  -0.550877   -0.536569   619.688792    -0.997740  \n",
       "622  -0.646994   -0.421549   714.314900    -0.670500  \n",
       "623  -0.724733   -0.922053   764.619208    -0.538011  \n",
       "\n",
       "[624 rows x 174 columns]"
      ]
     },
     "execution_count": 43,
     "metadata": {},
     "output_type": "execute_result"
    }
   ],
   "source": [
    "test_sel"
   ]
  },
  {
   "cell_type": "code",
   "execution_count": 44,
   "id": "ba263f5f-b32b-494b-9e7c-86eb981953cd",
   "metadata": {},
   "outputs": [
    {
     "data": {
      "text/html": [
       "<div>\n",
       "<style scoped>\n",
       "    .dataframe tbody tr th:only-of-type {\n",
       "        vertical-align: middle;\n",
       "    }\n",
       "\n",
       "    .dataframe tbody tr th {\n",
       "        vertical-align: top;\n",
       "    }\n",
       "\n",
       "    .dataframe thead th {\n",
       "        text-align: right;\n",
       "    }\n",
       "</style>\n",
       "<table border=\"1\" class=\"dataframe\">\n",
       "  <thead>\n",
       "    <tr style=\"text-align: right;\">\n",
       "      <th></th>\n",
       "      <th>actor</th>\n",
       "      <th>frame_count</th>\n",
       "      <th>sum</th>\n",
       "      <th>kur</th>\n",
       "      <th>lag1_kur</th>\n",
       "      <th>zc_sum</th>\n",
       "      <th>mfcc_sum</th>\n",
       "      <th>mfcc_mean</th>\n",
       "      <th>mfcc_std</th>\n",
       "      <th>mfcc_max</th>\n",
       "      <th>...</th>\n",
       "      <th>sc_q05_w4</th>\n",
       "      <th>sc_q25_w4</th>\n",
       "      <th>sc_q50_w4</th>\n",
       "      <th>sc_q75_w4</th>\n",
       "      <th>sc_q95_w4</th>\n",
       "      <th>sc_q99_w4</th>\n",
       "      <th>sc_kur_w4</th>\n",
       "      <th>sc_skew_w4</th>\n",
       "      <th>stft_sum_w4</th>\n",
       "      <th>stft_kur_w4</th>\n",
       "    </tr>\n",
       "  </thead>\n",
       "  <tbody>\n",
       "    <tr>\n",
       "      <th>0</th>\n",
       "      <td>1.0</td>\n",
       "      <td>158558.0</td>\n",
       "      <td>0.145081</td>\n",
       "      <td>15.028520</td>\n",
       "      <td>51.787204</td>\n",
       "      <td>8015.0</td>\n",
       "      <td>-197329.278906</td>\n",
       "      <td>-31.827303</td>\n",
       "      <td>165.355352</td>\n",
       "      <td>236.703871</td>\n",
       "      <td>...</td>\n",
       "      <td>8928.597851</td>\n",
       "      <td>10439.979745</td>\n",
       "      <td>10988.558485</td>\n",
       "      <td>11538.700552</td>\n",
       "      <td>12001.173890</td>\n",
       "      <td>12055.440843</td>\n",
       "      <td>25.150642</td>\n",
       "      <td>-4.175609</td>\n",
       "      <td>740.409892</td>\n",
       "      <td>6.742190</td>\n",
       "    </tr>\n",
       "    <tr>\n",
       "      <th>1</th>\n",
       "      <td>1.0</td>\n",
       "      <td>160160.0</td>\n",
       "      <td>0.114319</td>\n",
       "      <td>16.488415</td>\n",
       "      <td>42.127435</td>\n",
       "      <td>8491.0</td>\n",
       "      <td>-196963.570413</td>\n",
       "      <td>-31.463829</td>\n",
       "      <td>163.853142</td>\n",
       "      <td>218.363733</td>\n",
       "      <td>...</td>\n",
       "      <td>7328.169993</td>\n",
       "      <td>9721.736881</td>\n",
       "      <td>11278.935139</td>\n",
       "      <td>11806.006801</td>\n",
       "      <td>12000.329080</td>\n",
       "      <td>12030.975508</td>\n",
       "      <td>-0.096686</td>\n",
       "      <td>-1.100390</td>\n",
       "      <td>705.975006</td>\n",
       "      <td>-0.700420</td>\n",
       "    </tr>\n",
       "    <tr>\n",
       "      <th>2</th>\n",
       "      <td>1.0</td>\n",
       "      <td>156956.0</td>\n",
       "      <td>0.149963</td>\n",
       "      <td>17.035218</td>\n",
       "      <td>54.529269</td>\n",
       "      <td>7384.0</td>\n",
       "      <td>-193866.638041</td>\n",
       "      <td>-31.574371</td>\n",
       "      <td>163.238841</td>\n",
       "      <td>229.029214</td>\n",
       "      <td>...</td>\n",
       "      <td>8117.809961</td>\n",
       "      <td>9711.644575</td>\n",
       "      <td>10827.840288</td>\n",
       "      <td>11775.554003</td>\n",
       "      <td>12050.192845</td>\n",
       "      <td>12110.642050</td>\n",
       "      <td>16.082550</td>\n",
       "      <td>-3.120218</td>\n",
       "      <td>694.365924</td>\n",
       "      <td>1.688986</td>\n",
       "    </tr>\n",
       "    <tr>\n",
       "      <th>3</th>\n",
       "      <td>1.0</td>\n",
       "      <td>152152.0</td>\n",
       "      <td>0.139618</td>\n",
       "      <td>21.824521</td>\n",
       "      <td>53.008445</td>\n",
       "      <td>8237.0</td>\n",
       "      <td>-184150.973286</td>\n",
       "      <td>-30.897814</td>\n",
       "      <td>162.217347</td>\n",
       "      <td>216.240664</td>\n",
       "      <td>...</td>\n",
       "      <td>6943.991628</td>\n",
       "      <td>8998.702287</td>\n",
       "      <td>10469.485907</td>\n",
       "      <td>11101.756609</td>\n",
       "      <td>11585.803219</td>\n",
       "      <td>11866.485679</td>\n",
       "      <td>-0.332682</td>\n",
       "      <td>-0.880988</td>\n",
       "      <td>663.205667</td>\n",
       "      <td>-0.594111</td>\n",
       "    </tr>\n",
       "    <tr>\n",
       "      <th>4</th>\n",
       "      <td>1.0</td>\n",
       "      <td>169769.0</td>\n",
       "      <td>0.137665</td>\n",
       "      <td>13.236022</td>\n",
       "      <td>44.373537</td>\n",
       "      <td>7839.0</td>\n",
       "      <td>-218952.728640</td>\n",
       "      <td>-32.974809</td>\n",
       "      <td>172.859991</td>\n",
       "      <td>230.432203</td>\n",
       "      <td>...</td>\n",
       "      <td>7045.094766</td>\n",
       "      <td>9178.275961</td>\n",
       "      <td>10995.412094</td>\n",
       "      <td>11527.428532</td>\n",
       "      <td>11991.767348</td>\n",
       "      <td>12098.967760</td>\n",
       "      <td>0.054656</td>\n",
       "      <td>-1.071109</td>\n",
       "      <td>741.412796</td>\n",
       "      <td>0.126535</td>\n",
       "    </tr>\n",
       "    <tr>\n",
       "      <th>...</th>\n",
       "      <td>...</td>\n",
       "      <td>...</td>\n",
       "      <td>...</td>\n",
       "      <td>...</td>\n",
       "      <td>...</td>\n",
       "      <td>...</td>\n",
       "      <td>...</td>\n",
       "      <td>...</td>\n",
       "      <td>...</td>\n",
       "      <td>...</td>\n",
       "      <td>...</td>\n",
       "      <td>...</td>\n",
       "      <td>...</td>\n",
       "      <td>...</td>\n",
       "      <td>...</td>\n",
       "      <td>...</td>\n",
       "      <td>...</td>\n",
       "      <td>...</td>\n",
       "      <td>...</td>\n",
       "      <td>...</td>\n",
       "      <td>...</td>\n",
       "    </tr>\n",
       "    <tr>\n",
       "      <th>1823</th>\n",
       "      <td>18.0</td>\n",
       "      <td>168168.0</td>\n",
       "      <td>-0.154480</td>\n",
       "      <td>6.504521</td>\n",
       "      <td>41.185338</td>\n",
       "      <td>8349.0</td>\n",
       "      <td>-227313.337694</td>\n",
       "      <td>-34.546100</td>\n",
       "      <td>159.099528</td>\n",
       "      <td>184.163537</td>\n",
       "      <td>...</td>\n",
       "      <td>0.000000</td>\n",
       "      <td>8504.050807</td>\n",
       "      <td>10398.483268</td>\n",
       "      <td>11981.322435</td>\n",
       "      <td>12000.000000</td>\n",
       "      <td>12001.776389</td>\n",
       "      <td>0.904699</td>\n",
       "      <td>-1.472070</td>\n",
       "      <td>660.790616</td>\n",
       "      <td>0.262900</td>\n",
       "    </tr>\n",
       "    <tr>\n",
       "      <th>1824</th>\n",
       "      <td>18.0</td>\n",
       "      <td>174575.0</td>\n",
       "      <td>-0.139679</td>\n",
       "      <td>9.706586</td>\n",
       "      <td>65.761796</td>\n",
       "      <td>10439.0</td>\n",
       "      <td>-212587.010178</td>\n",
       "      <td>-31.171116</td>\n",
       "      <td>143.246956</td>\n",
       "      <td>159.600309</td>\n",
       "      <td>...</td>\n",
       "      <td>0.000000</td>\n",
       "      <td>7511.014887</td>\n",
       "      <td>9096.162496</td>\n",
       "      <td>11983.643068</td>\n",
       "      <td>12005.137708</td>\n",
       "      <td>12121.501758</td>\n",
       "      <td>0.947101</td>\n",
       "      <td>-1.301303</td>\n",
       "      <td>634.120979</td>\n",
       "      <td>-0.857759</td>\n",
       "    </tr>\n",
       "    <tr>\n",
       "      <th>1825</th>\n",
       "      <td>18.0</td>\n",
       "      <td>169770.0</td>\n",
       "      <td>-0.210968</td>\n",
       "      <td>5.874582</td>\n",
       "      <td>57.209661</td>\n",
       "      <td>7439.0</td>\n",
       "      <td>-213371.196654</td>\n",
       "      <td>-32.134216</td>\n",
       "      <td>143.883952</td>\n",
       "      <td>161.279633</td>\n",
       "      <td>...</td>\n",
       "      <td>5496.940032</td>\n",
       "      <td>7559.625245</td>\n",
       "      <td>9989.188322</td>\n",
       "      <td>11390.153616</td>\n",
       "      <td>12006.516678</td>\n",
       "      <td>12189.000574</td>\n",
       "      <td>2.505409</td>\n",
       "      <td>-1.472613</td>\n",
       "      <td>631.801688</td>\n",
       "      <td>-0.656632</td>\n",
       "    </tr>\n",
       "    <tr>\n",
       "      <th>1826</th>\n",
       "      <td>18.0</td>\n",
       "      <td>185786.0</td>\n",
       "      <td>-0.085876</td>\n",
       "      <td>4.482247</td>\n",
       "      <td>35.742894</td>\n",
       "      <td>12605.0</td>\n",
       "      <td>-228990.432092</td>\n",
       "      <td>-31.541382</td>\n",
       "      <td>138.269051</td>\n",
       "      <td>162.661713</td>\n",
       "      <td>...</td>\n",
       "      <td>0.000000</td>\n",
       "      <td>7603.873380</td>\n",
       "      <td>9677.603883</td>\n",
       "      <td>11149.816263</td>\n",
       "      <td>12000.000000</td>\n",
       "      <td>12015.176166</td>\n",
       "      <td>-0.020476</td>\n",
       "      <td>-1.160818</td>\n",
       "      <td>680.117724</td>\n",
       "      <td>-0.499022</td>\n",
       "    </tr>\n",
       "    <tr>\n",
       "      <th>1827</th>\n",
       "      <td>18.0</td>\n",
       "      <td>174574.0</td>\n",
       "      <td>-0.195312</td>\n",
       "      <td>4.534792</td>\n",
       "      <td>46.023531</td>\n",
       "      <td>10961.0</td>\n",
       "      <td>-212031.267508</td>\n",
       "      <td>-31.089629</td>\n",
       "      <td>142.022767</td>\n",
       "      <td>154.041391</td>\n",
       "      <td>...</td>\n",
       "      <td>5110.140749</td>\n",
       "      <td>6566.209110</td>\n",
       "      <td>8781.776101</td>\n",
       "      <td>11437.991911</td>\n",
       "      <td>11999.987245</td>\n",
       "      <td>12000.000000</td>\n",
       "      <td>-0.369996</td>\n",
       "      <td>-0.454012</td>\n",
       "      <td>641.287028</td>\n",
       "      <td>-0.962943</td>\n",
       "    </tr>\n",
       "  </tbody>\n",
       "</table>\n",
       "<p>1828 rows × 174 columns</p>\n",
       "</div>"
      ],
      "text/plain": [
       "      actor  frame_count       sum        kur   lag1_kur   zc_sum  \\\n",
       "0       1.0     158558.0  0.145081  15.028520  51.787204   8015.0   \n",
       "1       1.0     160160.0  0.114319  16.488415  42.127435   8491.0   \n",
       "2       1.0     156956.0  0.149963  17.035218  54.529269   7384.0   \n",
       "3       1.0     152152.0  0.139618  21.824521  53.008445   8237.0   \n",
       "4       1.0     169769.0  0.137665  13.236022  44.373537   7839.0   \n",
       "...     ...          ...       ...        ...        ...      ...   \n",
       "1823   18.0     168168.0 -0.154480   6.504521  41.185338   8349.0   \n",
       "1824   18.0     174575.0 -0.139679   9.706586  65.761796  10439.0   \n",
       "1825   18.0     169770.0 -0.210968   5.874582  57.209661   7439.0   \n",
       "1826   18.0     185786.0 -0.085876   4.482247  35.742894  12605.0   \n",
       "1827   18.0     174574.0 -0.195312   4.534792  46.023531  10961.0   \n",
       "\n",
       "           mfcc_sum  mfcc_mean    mfcc_std    mfcc_max  ...    sc_q05_w4  \\\n",
       "0    -197329.278906 -31.827303  165.355352  236.703871  ...  8928.597851   \n",
       "1    -196963.570413 -31.463829  163.853142  218.363733  ...  7328.169993   \n",
       "2    -193866.638041 -31.574371  163.238841  229.029214  ...  8117.809961   \n",
       "3    -184150.973286 -30.897814  162.217347  216.240664  ...  6943.991628   \n",
       "4    -218952.728640 -32.974809  172.859991  230.432203  ...  7045.094766   \n",
       "...             ...        ...         ...         ...  ...          ...   \n",
       "1823 -227313.337694 -34.546100  159.099528  184.163537  ...     0.000000   \n",
       "1824 -212587.010178 -31.171116  143.246956  159.600309  ...     0.000000   \n",
       "1825 -213371.196654 -32.134216  143.883952  161.279633  ...  5496.940032   \n",
       "1826 -228990.432092 -31.541382  138.269051  162.661713  ...     0.000000   \n",
       "1827 -212031.267508 -31.089629  142.022767  154.041391  ...  5110.140749   \n",
       "\n",
       "         sc_q25_w4     sc_q50_w4     sc_q75_w4     sc_q95_w4     sc_q99_w4  \\\n",
       "0     10439.979745  10988.558485  11538.700552  12001.173890  12055.440843   \n",
       "1      9721.736881  11278.935139  11806.006801  12000.329080  12030.975508   \n",
       "2      9711.644575  10827.840288  11775.554003  12050.192845  12110.642050   \n",
       "3      8998.702287  10469.485907  11101.756609  11585.803219  11866.485679   \n",
       "4      9178.275961  10995.412094  11527.428532  11991.767348  12098.967760   \n",
       "...            ...           ...           ...           ...           ...   \n",
       "1823   8504.050807  10398.483268  11981.322435  12000.000000  12001.776389   \n",
       "1824   7511.014887   9096.162496  11983.643068  12005.137708  12121.501758   \n",
       "1825   7559.625245   9989.188322  11390.153616  12006.516678  12189.000574   \n",
       "1826   7603.873380   9677.603883  11149.816263  12000.000000  12015.176166   \n",
       "1827   6566.209110   8781.776101  11437.991911  11999.987245  12000.000000   \n",
       "\n",
       "      sc_kur_w4  sc_skew_w4  stft_sum_w4  stft_kur_w4  \n",
       "0     25.150642   -4.175609   740.409892     6.742190  \n",
       "1     -0.096686   -1.100390   705.975006    -0.700420  \n",
       "2     16.082550   -3.120218   694.365924     1.688986  \n",
       "3     -0.332682   -0.880988   663.205667    -0.594111  \n",
       "4      0.054656   -1.071109   741.412796     0.126535  \n",
       "...         ...         ...          ...          ...  \n",
       "1823   0.904699   -1.472070   660.790616     0.262900  \n",
       "1824   0.947101   -1.301303   634.120979    -0.857759  \n",
       "1825   2.505409   -1.472613   631.801688    -0.656632  \n",
       "1826  -0.020476   -1.160818   680.117724    -0.499022  \n",
       "1827  -0.369996   -0.454012   641.287028    -0.962943  \n",
       "\n",
       "[1828 rows x 174 columns]"
      ]
     },
     "execution_count": 44,
     "metadata": {},
     "output_type": "execute_result"
    }
   ],
   "source": [
    "train_sel"
   ]
  },
  {
   "cell_type": "code",
   "execution_count": 45,
   "id": "7b52a191-e109-471b-b739-8016e7fb5f3a",
   "metadata": {},
   "outputs": [
    {
     "data": {
      "text/html": [
       "<div>\n",
       "<style scoped>\n",
       "    .dataframe tbody tr th:only-of-type {\n",
       "        vertical-align: middle;\n",
       "    }\n",
       "\n",
       "    .dataframe tbody tr th {\n",
       "        vertical-align: top;\n",
       "    }\n",
       "\n",
       "    .dataframe thead th {\n",
       "        text-align: right;\n",
       "    }\n",
       "</style>\n",
       "<table border=\"1\" class=\"dataframe\">\n",
       "  <thead>\n",
       "    <tr style=\"text-align: right;\">\n",
       "      <th></th>\n",
       "      <th>actor</th>\n",
       "      <th>frame_count</th>\n",
       "      <th>sum</th>\n",
       "      <th>kur</th>\n",
       "      <th>lag1_kur</th>\n",
       "      <th>zc_sum</th>\n",
       "      <th>mfcc_sum</th>\n",
       "      <th>mfcc_mean</th>\n",
       "      <th>mfcc_std</th>\n",
       "      <th>mfcc_max</th>\n",
       "      <th>...</th>\n",
       "      <th>sc_q05_w4</th>\n",
       "      <th>sc_q25_w4</th>\n",
       "      <th>sc_q50_w4</th>\n",
       "      <th>sc_q75_w4</th>\n",
       "      <th>sc_q95_w4</th>\n",
       "      <th>sc_q99_w4</th>\n",
       "      <th>sc_kur_w4</th>\n",
       "      <th>sc_skew_w4</th>\n",
       "      <th>stft_sum_w4</th>\n",
       "      <th>stft_kur_w4</th>\n",
       "    </tr>\n",
       "  </thead>\n",
       "  <tbody>\n",
       "    <tr>\n",
       "      <th>0</th>\n",
       "      <td>19</td>\n",
       "      <td>161762</td>\n",
       "      <td>0.475616</td>\n",
       "      <td>11.392131</td>\n",
       "      <td>27.908376</td>\n",
       "      <td>6914</td>\n",
       "      <td>-185091.597475</td>\n",
       "      <td>-29.286645</td>\n",
       "      <td>172.090423</td>\n",
       "      <td>238.067483</td>\n",
       "      <td>...</td>\n",
       "      <td>5972.243167</td>\n",
       "      <td>8195.778271</td>\n",
       "      <td>9121.554218</td>\n",
       "      <td>10041.725010</td>\n",
       "      <td>11120.746102</td>\n",
       "      <td>11704.526728</td>\n",
       "      <td>-0.389589</td>\n",
       "      <td>-0.476916</td>\n",
       "      <td>727.157574</td>\n",
       "      <td>-0.260279</td>\n",
       "    </tr>\n",
       "    <tr>\n",
       "      <th>1</th>\n",
       "      <td>19</td>\n",
       "      <td>155355</td>\n",
       "      <td>0.120148</td>\n",
       "      <td>13.621589</td>\n",
       "      <td>42.184398</td>\n",
       "      <td>6932</td>\n",
       "      <td>-177839.591263</td>\n",
       "      <td>-29.249933</td>\n",
       "      <td>171.375407</td>\n",
       "      <td>228.448708</td>\n",
       "      <td>...</td>\n",
       "      <td>5908.247494</td>\n",
       "      <td>7170.967974</td>\n",
       "      <td>9561.173331</td>\n",
       "      <td>11186.861414</td>\n",
       "      <td>11582.523798</td>\n",
       "      <td>11856.402666</td>\n",
       "      <td>-1.261399</td>\n",
       "      <td>-0.396969</td>\n",
       "      <td>637.658102</td>\n",
       "      <td>-0.428900</td>\n",
       "    </tr>\n",
       "    <tr>\n",
       "      <th>2</th>\n",
       "      <td>19</td>\n",
       "      <td>160160</td>\n",
       "      <td>-0.599304</td>\n",
       "      <td>7.678162</td>\n",
       "      <td>59.173624</td>\n",
       "      <td>9418</td>\n",
       "      <td>-181697.868716</td>\n",
       "      <td>-29.025219</td>\n",
       "      <td>170.958988</td>\n",
       "      <td>227.401299</td>\n",
       "      <td>...</td>\n",
       "      <td>6298.587809</td>\n",
       "      <td>7466.224410</td>\n",
       "      <td>9177.280207</td>\n",
       "      <td>9794.040046</td>\n",
       "      <td>11227.823275</td>\n",
       "      <td>11965.987675</td>\n",
       "      <td>-0.548618</td>\n",
       "      <td>-0.212367</td>\n",
       "      <td>672.592436</td>\n",
       "      <td>0.626916</td>\n",
       "    </tr>\n",
       "    <tr>\n",
       "      <th>3</th>\n",
       "      <td>19</td>\n",
       "      <td>158558</td>\n",
       "      <td>-0.080383</td>\n",
       "      <td>14.511231</td>\n",
       "      <td>43.718458</td>\n",
       "      <td>8686</td>\n",
       "      <td>-183699.720428</td>\n",
       "      <td>-29.628987</td>\n",
       "      <td>168.719126</td>\n",
       "      <td>224.906515</td>\n",
       "      <td>...</td>\n",
       "      <td>7212.387125</td>\n",
       "      <td>7969.218641</td>\n",
       "      <td>8762.907534</td>\n",
       "      <td>9882.683892</td>\n",
       "      <td>10745.314501</td>\n",
       "      <td>11495.219384</td>\n",
       "      <td>-0.966908</td>\n",
       "      <td>0.173125</td>\n",
       "      <td>704.158385</td>\n",
       "      <td>-0.825144</td>\n",
       "    </tr>\n",
       "    <tr>\n",
       "      <th>4</th>\n",
       "      <td>19</td>\n",
       "      <td>176176</td>\n",
       "      <td>0.152222</td>\n",
       "      <td>8.944732</td>\n",
       "      <td>139.907840</td>\n",
       "      <td>9674</td>\n",
       "      <td>-204624.188622</td>\n",
       "      <td>-29.655680</td>\n",
       "      <td>179.013415</td>\n",
       "      <td>204.603472</td>\n",
       "      <td>...</td>\n",
       "      <td>3936.366435</td>\n",
       "      <td>8493.923917</td>\n",
       "      <td>9926.499570</td>\n",
       "      <td>10780.217065</td>\n",
       "      <td>11572.842210</td>\n",
       "      <td>11777.983822</td>\n",
       "      <td>2.327035</td>\n",
       "      <td>-1.593457</td>\n",
       "      <td>780.167518</td>\n",
       "      <td>-0.536669</td>\n",
       "    </tr>\n",
       "    <tr>\n",
       "      <th>...</th>\n",
       "      <td>...</td>\n",
       "      <td>...</td>\n",
       "      <td>...</td>\n",
       "      <td>...</td>\n",
       "      <td>...</td>\n",
       "      <td>...</td>\n",
       "      <td>...</td>\n",
       "      <td>...</td>\n",
       "      <td>...</td>\n",
       "      <td>...</td>\n",
       "      <td>...</td>\n",
       "      <td>...</td>\n",
       "      <td>...</td>\n",
       "      <td>...</td>\n",
       "      <td>...</td>\n",
       "      <td>...</td>\n",
       "      <td>...</td>\n",
       "      <td>...</td>\n",
       "      <td>...</td>\n",
       "      <td>...</td>\n",
       "      <td>...</td>\n",
       "    </tr>\n",
       "    <tr>\n",
       "      <th>619</th>\n",
       "      <td>24</td>\n",
       "      <td>219419</td>\n",
       "      <td>0.423157</td>\n",
       "      <td>6.520678</td>\n",
       "      <td>80.379368</td>\n",
       "      <td>15787</td>\n",
       "      <td>-264009.939482</td>\n",
       "      <td>-30.770389</td>\n",
       "      <td>131.174261</td>\n",
       "      <td>181.801757</td>\n",
       "      <td>...</td>\n",
       "      <td>2426.159633</td>\n",
       "      <td>7124.124853</td>\n",
       "      <td>9465.933074</td>\n",
       "      <td>9825.431365</td>\n",
       "      <td>10034.042184</td>\n",
       "      <td>10145.507697</td>\n",
       "      <td>-0.230367</td>\n",
       "      <td>-1.213402</td>\n",
       "      <td>791.637319</td>\n",
       "      <td>-0.495689</td>\n",
       "    </tr>\n",
       "    <tr>\n",
       "      <th>620</th>\n",
       "      <td>24</td>\n",
       "      <td>217817</td>\n",
       "      <td>-1.375854</td>\n",
       "      <td>14.590263</td>\n",
       "      <td>40.644555</td>\n",
       "      <td>17053</td>\n",
       "      <td>-245411.449442</td>\n",
       "      <td>-28.804161</td>\n",
       "      <td>116.716024</td>\n",
       "      <td>186.612589</td>\n",
       "      <td>...</td>\n",
       "      <td>2503.120563</td>\n",
       "      <td>4776.274447</td>\n",
       "      <td>5662.021516</td>\n",
       "      <td>6717.846923</td>\n",
       "      <td>9569.567182</td>\n",
       "      <td>10099.677098</td>\n",
       "      <td>-0.207094</td>\n",
       "      <td>0.289277</td>\n",
       "      <td>688.266594</td>\n",
       "      <td>-0.877851</td>\n",
       "    </tr>\n",
       "    <tr>\n",
       "      <th>621</th>\n",
       "      <td>24</td>\n",
       "      <td>206606</td>\n",
       "      <td>0.573761</td>\n",
       "      <td>6.947965</td>\n",
       "      <td>30.113873</td>\n",
       "      <td>15855</td>\n",
       "      <td>-225213.091603</td>\n",
       "      <td>-27.872907</td>\n",
       "      <td>118.957076</td>\n",
       "      <td>175.597276</td>\n",
       "      <td>...</td>\n",
       "      <td>2519.017778</td>\n",
       "      <td>5151.407589</td>\n",
       "      <td>6873.031650</td>\n",
       "      <td>7647.269820</td>\n",
       "      <td>9177.984373</td>\n",
       "      <td>9627.394302</td>\n",
       "      <td>-0.550877</td>\n",
       "      <td>-0.536569</td>\n",
       "      <td>619.688792</td>\n",
       "      <td>-0.997740</td>\n",
       "    </tr>\n",
       "    <tr>\n",
       "      <th>622</th>\n",
       "      <td>24</td>\n",
       "      <td>203404</td>\n",
       "      <td>0.792572</td>\n",
       "      <td>6.107496</td>\n",
       "      <td>38.211619</td>\n",
       "      <td>17077</td>\n",
       "      <td>-211833.281301</td>\n",
       "      <td>-26.612221</td>\n",
       "      <td>114.252079</td>\n",
       "      <td>178.413828</td>\n",
       "      <td>...</td>\n",
       "      <td>2459.783919</td>\n",
       "      <td>5306.555431</td>\n",
       "      <td>6433.235498</td>\n",
       "      <td>8246.142830</td>\n",
       "      <td>9243.660055</td>\n",
       "      <td>9564.758914</td>\n",
       "      <td>-0.646994</td>\n",
       "      <td>-0.421549</td>\n",
       "      <td>714.314900</td>\n",
       "      <td>-0.670500</td>\n",
       "    </tr>\n",
       "    <tr>\n",
       "      <th>623</th>\n",
       "      <td>24</td>\n",
       "      <td>213013</td>\n",
       "      <td>0.355530</td>\n",
       "      <td>7.179805</td>\n",
       "      <td>23.609656</td>\n",
       "      <td>18477</td>\n",
       "      <td>-230264.382933</td>\n",
       "      <td>-27.609638</td>\n",
       "      <td>112.912761</td>\n",
       "      <td>175.514072</td>\n",
       "      <td>...</td>\n",
       "      <td>2882.912727</td>\n",
       "      <td>6084.628091</td>\n",
       "      <td>8724.756435</td>\n",
       "      <td>9349.331172</td>\n",
       "      <td>9961.628930</td>\n",
       "      <td>10331.511169</td>\n",
       "      <td>-0.724733</td>\n",
       "      <td>-0.922053</td>\n",
       "      <td>764.619208</td>\n",
       "      <td>-0.538011</td>\n",
       "    </tr>\n",
       "  </tbody>\n",
       "</table>\n",
       "<p>624 rows × 174 columns</p>\n",
       "</div>"
      ],
      "text/plain": [
       "     actor  frame_count       sum        kur    lag1_kur  zc_sum  \\\n",
       "0       19       161762  0.475616  11.392131   27.908376    6914   \n",
       "1       19       155355  0.120148  13.621589   42.184398    6932   \n",
       "2       19       160160 -0.599304   7.678162   59.173624    9418   \n",
       "3       19       158558 -0.080383  14.511231   43.718458    8686   \n",
       "4       19       176176  0.152222   8.944732  139.907840    9674   \n",
       "..     ...          ...       ...        ...         ...     ...   \n",
       "619     24       219419  0.423157   6.520678   80.379368   15787   \n",
       "620     24       217817 -1.375854  14.590263   40.644555   17053   \n",
       "621     24       206606  0.573761   6.947965   30.113873   15855   \n",
       "622     24       203404  0.792572   6.107496   38.211619   17077   \n",
       "623     24       213013  0.355530   7.179805   23.609656   18477   \n",
       "\n",
       "          mfcc_sum  mfcc_mean    mfcc_std    mfcc_max  ...    sc_q05_w4  \\\n",
       "0   -185091.597475 -29.286645  172.090423  238.067483  ...  5972.243167   \n",
       "1   -177839.591263 -29.249933  171.375407  228.448708  ...  5908.247494   \n",
       "2   -181697.868716 -29.025219  170.958988  227.401299  ...  6298.587809   \n",
       "3   -183699.720428 -29.628987  168.719126  224.906515  ...  7212.387125   \n",
       "4   -204624.188622 -29.655680  179.013415  204.603472  ...  3936.366435   \n",
       "..             ...        ...         ...         ...  ...          ...   \n",
       "619 -264009.939482 -30.770389  131.174261  181.801757  ...  2426.159633   \n",
       "620 -245411.449442 -28.804161  116.716024  186.612589  ...  2503.120563   \n",
       "621 -225213.091603 -27.872907  118.957076  175.597276  ...  2519.017778   \n",
       "622 -211833.281301 -26.612221  114.252079  178.413828  ...  2459.783919   \n",
       "623 -230264.382933 -27.609638  112.912761  175.514072  ...  2882.912727   \n",
       "\n",
       "       sc_q25_w4    sc_q50_w4     sc_q75_w4     sc_q95_w4     sc_q99_w4  \\\n",
       "0    8195.778271  9121.554218  10041.725010  11120.746102  11704.526728   \n",
       "1    7170.967974  9561.173331  11186.861414  11582.523798  11856.402666   \n",
       "2    7466.224410  9177.280207   9794.040046  11227.823275  11965.987675   \n",
       "3    7969.218641  8762.907534   9882.683892  10745.314501  11495.219384   \n",
       "4    8493.923917  9926.499570  10780.217065  11572.842210  11777.983822   \n",
       "..           ...          ...           ...           ...           ...   \n",
       "619  7124.124853  9465.933074   9825.431365  10034.042184  10145.507697   \n",
       "620  4776.274447  5662.021516   6717.846923   9569.567182  10099.677098   \n",
       "621  5151.407589  6873.031650   7647.269820   9177.984373   9627.394302   \n",
       "622  5306.555431  6433.235498   8246.142830   9243.660055   9564.758914   \n",
       "623  6084.628091  8724.756435   9349.331172   9961.628930  10331.511169   \n",
       "\n",
       "     sc_kur_w4  sc_skew_w4  stft_sum_w4  stft_kur_w4  \n",
       "0    -0.389589   -0.476916   727.157574    -0.260279  \n",
       "1    -1.261399   -0.396969   637.658102    -0.428900  \n",
       "2    -0.548618   -0.212367   672.592436     0.626916  \n",
       "3    -0.966908    0.173125   704.158385    -0.825144  \n",
       "4     2.327035   -1.593457   780.167518    -0.536669  \n",
       "..         ...         ...          ...          ...  \n",
       "619  -0.230367   -1.213402   791.637319    -0.495689  \n",
       "620  -0.207094    0.289277   688.266594    -0.877851  \n",
       "621  -0.550877   -0.536569   619.688792    -0.997740  \n",
       "622  -0.646994   -0.421549   714.314900    -0.670500  \n",
       "623  -0.724733   -0.922053   764.619208    -0.538011  \n",
       "\n",
       "[624 rows x 174 columns]"
      ]
     },
     "execution_count": 45,
     "metadata": {},
     "output_type": "execute_result"
    }
   ],
   "source": [
    "test_sel"
   ]
  },
  {
   "cell_type": "markdown",
   "id": "c7ab0d5d-b351-42cc-8913-a7854d1296b3",
   "metadata": {},
   "source": [
    "## PCA"
   ]
  },
  {
   "cell_type": "code",
   "execution_count": 46,
   "id": "5fb05919-1646-403c-b162-971320e1b14f",
   "metadata": {},
   "outputs": [],
   "source": [
    "scaler = MinMaxScaler()\n",
    "train_final_norm = scaler.fit_transform(train_final)\n",
    "train_final_norm=pd.DataFrame(train_final_norm, columns=train_final.columns)"
   ]
  },
  {
   "cell_type": "code",
   "execution_count": 47,
   "id": "dc5bbe84-4d08-4a3a-86f2-8976f1e75eac",
   "metadata": {},
   "outputs": [],
   "source": [
    "X_train, X_test, y_train, y_test = train_test_split(train_final_norm, y, test_size=0.3, \n",
    "                                                    random_state=100, stratify=y)"
   ]
  },
  {
   "cell_type": "code",
   "execution_count": 48,
   "id": "3c3eba91-3a11-4902-8ea9-cc114c9846e3",
   "metadata": {},
   "outputs": [],
   "source": [
    "pca = PCA(n_components=2)\n",
    "pca.fit(X_train)\n",
    "X_train_pca = pca.transform(X_train)"
   ]
  },
  {
   "cell_type": "code",
   "execution_count": 49,
   "id": "9e7eb902-6cb5-4e30-9411-aa0031f81ef3",
   "metadata": {},
   "outputs": [
    {
     "data": {
      "text/plain": [
       "(1279, 2)"
      ]
     },
     "execution_count": 49,
     "metadata": {},
     "output_type": "execute_result"
    }
   ],
   "source": [
    "X_train_pca.shape"
   ]
  },
  {
   "cell_type": "code",
   "execution_count": 50,
   "id": "5cbafaba-9394-4984-845b-cb25803d5bc5",
   "metadata": {},
   "outputs": [],
   "source": [
    "y_train_ohe=le.fit_transform(y_train)"
   ]
  },
  {
   "cell_type": "code",
   "execution_count": 51,
   "id": "c6d0609c-e625-4088-ae5f-366056c7e27b",
   "metadata": {},
   "outputs": [
    {
     "name": "stdout",
     "output_type": "stream",
     "text": [
      "[0 3 1 ... 6 6 1]\n"
     ]
    }
   ],
   "source": [
    "print(y_train_ohe)"
   ]
  },
  {
   "cell_type": "code",
   "execution_count": 52,
   "id": "4d51d248-4d94-4346-a559-07a16018e958",
   "metadata": {},
   "outputs": [
    {
     "data": {
      "image/png": "[encoded data removed]",
      "text/plain": [
       "<Figure size 432x288 with 1 Axes>"
      ]
     },
     "metadata": {
      "needs_background": "light"
     },
     "output_type": "display_data"
    }
   ],
   "source": [
    "plt.scatter(X_train_pca[:, 0], X_train_pca[:, 1], c=y_train_ohe, \n",
    "            cmap=plt.cm.prism, edgecolor='k', alpha=0.7)\n",
    "plt.show()"
   ]
  },
  {
   "cell_type": "code",
   "execution_count": 53,
   "id": "8fd6dddd-03dc-495b-b779-991eaa7cbe8d",
   "metadata": {},
   "outputs": [
    {
     "name": "stdout",
     "output_type": "stream",
     "text": [
      "Accuracy 0.17486338797814208\n",
      "F1-score [0.30434783 0.13186813 0.12345679 0.16969697 0.1871345  0.08955224\n",
      " 0.12790698 0.18421053]\n",
      "              precision    recall  f1-score   support\n",
      "\n",
      "       angry       0.28      0.33      0.30        84\n",
      "        calm       0.12      0.14      0.13        84\n",
      "     disgust       0.14      0.11      0.12        44\n",
      "     fearful       0.17      0.17      0.17        84\n",
      "       happy       0.18      0.19      0.19        84\n",
      "     neutral       0.12      0.07      0.09        42\n",
      "         sad       0.12      0.13      0.13        84\n",
      "   surprised       0.21      0.16      0.18        43\n",
      "\n",
      "    accuracy                           0.17       549\n",
      "   macro avg       0.17      0.16      0.16       549\n",
      "weighted avg       0.17      0.17      0.17       549\n",
      "\n"
     ]
    }
   ],
   "source": [
    "X_test_pca = pca.transform(X_test)\n",
    "\n",
    "clf = DecisionTreeClassifier(min_samples_leaf=3, random_state=42)\n",
    "clf.fit(X_train_pca, y_train)\n",
    "\n",
    "y_pred = clf.predict(X_test_pca)\n",
    "\n",
    "print('Accuracy %s' % accuracy_score(y_test, y_pred))\n",
    "print('F1-score %s' % f1_score(y_test, y_pred, average=None))\n",
    "print(classification_report(y_test, y_pred))"
   ]
  },
  {
   "cell_type": "code",
   "execution_count": 54,
   "id": "dd12f7f0-7a4e-447b-ae75-1f5052f83432",
   "metadata": {},
   "outputs": [
    {
     "data": {
      "text/plain": [
       "'plt.plot(PCA(n_components=10).fit(train_final).explained_variance_ratio_, lw=3, color=\\'r\\', ms=2)\\nplt.title(\"PCA\")\\nplt.ylabel(\"Fraction of Variance\")\\nplt.show()'"
      ]
     },
     "execution_count": 54,
     "metadata": {},
     "output_type": "execute_result"
    }
   ],
   "source": [
    "\"\"\"plt.plot(PCA(n_components=10).fit(train_final).explained_variance_ratio_, lw=3, color='r', ms=2)\n",
    "plt.title(\"PCA\")\n",
    "plt.ylabel(\"Fraction of Variance\")\n",
    "plt.show()\"\"\""
   ]
  },
  {
   "cell_type": "code",
   "execution_count": 55,
   "id": "05312c67-2daa-4732-a228-51063bed9ba4",
   "metadata": {},
   "outputs": [],
   "source": [
    "pca = PCA(n_components=3)\n",
    "pca.fit(X_train)\n",
    "X_train_pca = pca.transform(X_train)"
   ]
  },
  {
   "cell_type": "code",
   "execution_count": 56,
   "id": "d4e25b78-a516-42c6-9328-b70ce2b8aac0",
   "metadata": {},
   "outputs": [
    {
     "name": "stdout",
     "output_type": "stream",
     "text": [
      "Accuracy 0.2659380692167577\n",
      "F1-score [0.42328042 0.32954545 0.20689655 0.23312883 0.17391304 0.19277108\n",
      " 0.20512821 0.26506024]\n",
      "              precision    recall  f1-score   support\n",
      "\n",
      "       angry       0.38      0.48      0.42        84\n",
      "        calm       0.32      0.35      0.33        84\n",
      "     disgust       0.21      0.20      0.21        44\n",
      "     fearful       0.24      0.23      0.23        84\n",
      "       happy       0.18      0.17      0.17        84\n",
      "     neutral       0.20      0.19      0.19        42\n",
      "         sad       0.22      0.19      0.21        84\n",
      "   surprised       0.28      0.26      0.27        43\n",
      "\n",
      "    accuracy                           0.27       549\n",
      "   macro avg       0.25      0.26      0.25       549\n",
      "weighted avg       0.26      0.27      0.26       549\n",
      "\n"
     ]
    }
   ],
   "source": [
    "X_test_pca = pca.transform(X_test)\n",
    "\n",
    "clf = DecisionTreeClassifier(min_samples_leaf=3, random_state=42)\n",
    "clf.fit(X_train_pca, y_train)\n",
    "\n",
    "y_pred = clf.predict(X_test_pca)\n",
    "\n",
    "print('Accuracy %s' % accuracy_score(y_test, y_pred))\n",
    "print('F1-score %s' % f1_score(y_test, y_pred, average=None))\n",
    "print(classification_report(y_test, y_pred))"
   ]
  },
  {
   "cell_type": "code",
   "execution_count": 57,
   "id": "ea5f913c-36b7-485d-88f7-e9dd7ed417d4",
   "metadata": {},
   "outputs": [
    {
     "data": {
      "text/plain": [
       "<Figure size 432x288 with 0 Axes>"
      ]
     },
     "metadata": {},
     "output_type": "display_data"
    },
    {
     "data": {
      "image/png": "[encoded data removed]",
      "text/plain": [
       "<Figure size 576x432 with 1 Axes>"
      ]
     },
     "metadata": {
      "needs_background": "light"
     },
     "output_type": "display_data"
    }
   ],
   "source": [
    "fig = plt.figure()\n",
    "figure(figsize=(8, 6))\n",
    "ax = plt.axes(projection='3d')\n",
    "\n",
    "zdata = X_train_pca[:, 0]\n",
    "xdata = X_train_pca[:, 1]\n",
    "ydata = X_train_pca[:, 2]\n",
    "ax.scatter3D(xdata, ydata, zdata, c=y_train_ohe, cmap=plt.cm.prism, edgecolor='k', alpha=0.7);"
   ]
  },
  {
   "cell_type": "markdown",
   "id": "dcd581d1-2438-43c6-b49f-145a10c69f4f",
   "metadata": {},
   "source": [
    "## OUTLIER DETECTION"
   ]
  },
  {
   "cell_type": "code",
   "execution_count": 58,
   "id": "0ac1a5d2-ada0-46d3-92b9-a73f4f92c04a",
   "metadata": {},
   "outputs": [],
   "source": [
    "df = train_sel\n",
    "X = df.values\n",
    "y = np.array(train_data['emotion'])"
   ]
  },
  {
   "cell_type": "code",
   "execution_count": 59,
   "id": "82b1c9c6-4c8b-43c7-adce-0674f37191e8",
   "metadata": {},
   "outputs": [],
   "source": [
    "scl = StandardScaler()\n",
    "X = scl.fit_transform(X)\n",
    "X=pd.DataFrame(X, columns= train_sel.columns)"
   ]
  },
  {
   "cell_type": "code",
   "execution_count": 60,
   "id": "83abbdbe-80e0-403f-977a-4222da6c52d3",
   "metadata": {},
   "outputs": [
    {
     "data": {
      "text/plain": [
       "(1828, 174)"
      ]
     },
     "execution_count": 60,
     "metadata": {},
     "output_type": "execute_result"
    }
   ],
   "source": [
    "X.shape"
   ]
  },
  {
   "cell_type": "code",
   "execution_count": 61,
   "id": "0672f80b-54e1-42fb-bb7c-a85deb4b5967",
   "metadata": {},
   "outputs": [],
   "source": [
    "train_sel_norm = scaler.fit_transform(train_sel)\n",
    "train_sel_norm=pd.DataFrame(train_sel_norm, columns=train_sel.columns)"
   ]
  },
  {
   "cell_type": "markdown",
   "id": "ae4efa59-d2c8-4940-99ab-9e9d960f0677",
   "metadata": {},
   "source": [
    "## HBOS"
   ]
  },
  {
   "cell_type": "code",
   "execution_count": 62,
   "id": "d691ca44-9f7d-42c4-9007-fbec1252c8a6",
   "metadata": {},
   "outputs": [
    {
     "name": "stdout",
     "output_type": "stream",
     "text": [
      "Requirement already satisfied: pyod in /opt/anaconda3/lib/python3.9/site-packages (1.0.9)\n",
      "Requirement already satisfied: matplotlib in /opt/anaconda3/lib/python3.9/site-packages (from pyod) (3.5.1)\n",
      "Requirement already satisfied: numpy>=1.19 in /opt/anaconda3/lib/python3.9/site-packages (from pyod) (1.21.5)\n",
      "Requirement already satisfied: joblib in /opt/anaconda3/lib/python3.9/site-packages (from pyod) (1.1.0)\n",
      "Requirement already satisfied: scipy>=1.5.1 in /opt/anaconda3/lib/python3.9/site-packages (from pyod) (1.7.3)\n",
      "Requirement already satisfied: six in /opt/anaconda3/lib/python3.9/site-packages (from pyod) (1.16.0)\n",
      "Requirement already satisfied: numba>=0.51 in /opt/anaconda3/lib/python3.9/site-packages (from pyod) (0.55.1)\n",
      "Requirement already satisfied: scikit-learn>=0.20.0 in /opt/anaconda3/lib/python3.9/site-packages (from pyod) (1.0.2)\n",
      "Requirement already satisfied: llvmlite<0.39,>=0.38.0rc1 in /opt/anaconda3/lib/python3.9/site-packages (from numba>=0.51->pyod) (0.38.0)\n",
      "Requirement already satisfied: setuptools in /opt/anaconda3/lib/python3.9/site-packages (from numba>=0.51->pyod) (61.2.0)\n",
      "Requirement already satisfied: threadpoolctl>=2.0.0 in /opt/anaconda3/lib/python3.9/site-packages (from scikit-learn>=0.20.0->pyod) (2.2.0)\n",
      "Requirement already satisfied: kiwisolver>=1.0.1 in /opt/anaconda3/lib/python3.9/site-packages (from matplotlib->pyod) (1.3.2)\n",
      "Requirement already satisfied: cycler>=0.10 in /opt/anaconda3/lib/python3.9/site-packages (from matplotlib->pyod) (0.11.0)\n",
      "Requirement already satisfied: pillow>=6.2.0 in /opt/anaconda3/lib/python3.9/site-packages (from matplotlib->pyod) (9.0.1)\n",
      "Requirement already satisfied: python-dateutil>=2.7 in /opt/anaconda3/lib/python3.9/site-packages (from matplotlib->pyod) (2.8.2)\n",
      "Requirement already satisfied: packaging>=20.0 in /opt/anaconda3/lib/python3.9/site-packages (from matplotlib->pyod) (21.3)\n",
      "Requirement already satisfied: pyparsing>=2.2.1 in /opt/anaconda3/lib/python3.9/site-packages (from matplotlib->pyod) (3.0.4)\n",
      "Requirement already satisfied: fonttools>=4.22.0 in /opt/anaconda3/lib/python3.9/site-packages (from matplotlib->pyod) (4.25.0)\n",
      "Note: you may need to restart the kernel to use updated packages.\n"
     ]
    }
   ],
   "source": [
    "pip install pyod"
   ]
  },
  {
   "cell_type": "code",
   "execution_count": 63,
   "id": "b4ee9bf2-93dc-455e-8d4c-0058524e0de5",
   "metadata": {},
   "outputs": [],
   "source": [
    "from pyod.models.hbos import HBOS"
   ]
  },
  {
   "cell_type": "code",
   "execution_count": 64,
   "id": "cdc00ace-b4ef-4614-81a6-6d1f89f1488c",
   "metadata": {},
   "outputs": [
    {
     "data": {
      "text/plain": [
       "HBOS(alpha=0.1, contamination=0.1, n_bins=10, tol=0.5)"
      ]
     },
     "execution_count": 64,
     "metadata": {},
     "output_type": "execute_result"
    }
   ],
   "source": [
    "clf = HBOS()\n",
    "clf.fit(X)"
   ]
  },
  {
   "cell_type": "code",
   "execution_count": 65,
   "id": "547996da-7ea8-4ef3-88e6-8fbe2bc82bca",
   "metadata": {},
   "outputs": [
    {
     "data": {
      "text/plain": [
       "(array([0, 1]), array([1645,  183]))"
      ]
     },
     "execution_count": 65,
     "metadata": {},
     "output_type": "execute_result"
    }
   ],
   "source": [
    "outliers = clf.predict(X)\n",
    "np.unique(outliers, return_counts=True)"
   ]
  },
  {
   "cell_type": "code",
   "execution_count": 66,
   "id": "6c048880-29f4-46b4-a1f6-23b50d58484c",
   "metadata": {},
   "outputs": [
    {
     "data": {
      "text/plain": [
       "\"plt.hist(clf.decision_scores_, bins=20)\\nplt.axvline(np.min(clf.decision_scores_[np.where(outliers==1)]), c='k')\\nplt.show()\""
      ]
     },
     "execution_count": 66,
     "metadata": {},
     "output_type": "execute_result"
    }
   ],
   "source": [
    "\"\"\"plt.hist(clf.decision_scores_, bins=20)\n",
    "plt.axvline(np.min(clf.decision_scores_[np.where(outliers==1)]), c='k')\n",
    "plt.show()\"\"\""
   ]
  },
  {
   "cell_type": "code",
   "execution_count": 67,
   "id": "fd966875-1f85-4b2c-b609-822d5b62ffdf",
   "metadata": {},
   "outputs": [
    {
     "name": "stdout",
     "output_type": "stream",
     "text": [
      "[328.59612372370805, 319.3218306894363, 317.56459249342834, 316.162286883781, 314.5654633244597, 314.21946054279954, 313.80005932957005, 309.22913361021335, 306.7649202957465, 306.623704090778, 304.9441272806049, 304.89768628220077, 302.72340197329686, 302.6749502802496, 302.53127085138124, 301.6762822229034, 301.2145526774565, 301.0523035692378]\n"
     ]
    }
   ],
   "source": [
    "dec_score= clf.decision_scores_\n",
    "dec_score_l= list(dec_score)\n",
    "dec_score_l.sort(reverse=True)\n",
    "print(dec_score_l[:18])"
   ]
  },
  {
   "cell_type": "code",
   "execution_count": 68,
   "id": "71ddbce9-2324-4164-aebd-8554906c8d38",
   "metadata": {},
   "outputs": [
    {
     "name": "stdout",
     "output_type": "stream",
     "text": [
      "[328.59612372370805, 319.3218306894363, 317.56459249342834, 316.162286883781, 314.5654633244597, 314.21946054279954, 313.80005932957005, 309.22913361021335, 306.7649202957465, 306.623704090778, 304.9441272806049, 304.89768628220077, 302.72340197329686, 302.6749502802496, 302.53127085138124, 301.6762822229034, 301.2145526774565, 301.0523035692378, 300.031571689133, 298.9755675674963, 297.91648640192557, 297.2997034948607, 297.1494280569284, 295.8481587197523, 295.8457522974676, 295.2282825635551, 294.891530778028, 294.00289573051697, 293.81065652361303, 293.79715393696233, 293.5623992574813, 292.99198977427216, 292.3773474739485, 292.1346468410769, 292.05573983380486, 292.0398850308111, 292.0181048222138, 291.9092931347588, 291.78023346067926, 291.60857341565526, 291.4727283673519, 290.95011882035425, 290.8476111936602, 290.512813390593, 289.41183756205334, 289.2026038336419, 288.711574159722, 288.5722295329166, 288.1487688846843, 288.04830066080774, 286.90142725482997, 286.82437405861293, 286.81988674545823, 286.739027266384, 286.64739499939475, 286.6309541700082, 286.03151887916863, 285.8818455795011, 285.39982174583315, 285.389378393947, 284.87702938934217, 284.87596253456223, 284.86999981819594, 284.41047729943875, 284.0329184147299, 283.5914661876084, 283.5237549084321, 283.4756566234182, 282.5554165115252, 282.52297689928344, 281.9383972435791, 281.8927597397135, 281.6374963763014, 281.28402281575904, 280.3421878880858, 280.17681839107365, 280.12039018019607, 280.04505760095867, 280.0013340241665, 279.93147565926904, 279.53693517921624, 279.1762094262075, 278.9542607413226, 278.68793874453286, 278.6294527153631, 277.9250145803693, 277.8822486435981, 277.8789757999862, 277.66977756161873, 277.03700839798034, 277.0309068673802, 277.023254907869, 276.9637846477955, 276.9407546910487, 276.57081940783235, 276.1986775183793, 276.192556599255, 275.75357543992754, 275.6340586357001, 275.57793974470263, 275.4980139379985, 275.4911465375099, 275.3407586138328, 275.27391395592383, 275.00639787238896, 274.9735354199347]\n"
     ]
    }
   ],
   "source": [
    "print(dec_score_l[:106])"
   ]
  },
  {
   "cell_type": "code",
   "execution_count": 69,
   "id": "1667f24c-e5a7-45cd-bbf6-623aad01c292",
   "metadata": {},
   "outputs": [],
   "source": [
    "index_list1 =[]\n",
    "dec_score= clf.decision_scores_\n",
    "dec_score_l= list(dec_score)\n",
    "for e in dec_score_l:\n",
    "    if e>  274.9735354199347:\n",
    "        ind=dec_score_l.index(e)\n",
    "        index_list1.append(ind)\n"
   ]
  },
  {
   "cell_type": "code",
   "execution_count": 70,
   "id": "37a73f2c-f161-4bdc-9634-46f344cfca03",
   "metadata": {},
   "outputs": [
    {
     "name": "stdout",
     "output_type": "stream",
     "text": [
      "[0, 8, 32, 34, 35, 40, 41, 42, 92, 93, 94, 95, 240, 241, 243, 248, 249, 250, 251, 256, 257, 285, 287, 292, 300, 302, 303, 308, 309, 311, 346, 352, 382, 421, 425, 460, 481, 484, 485, 486, 536, 539, 553, 554, 555, 560, 561, 562, 563, 589, 613, 614, 656, 657, 658, 659, 832, 852, 853, 864, 903, 1005, 1075, 1083, 1177, 1283, 1352, 1357, 1358, 1360, 1361, 1367, 1390, 1480, 1481, 1505, 1681, 1688, 1700, 1701, 1702, 1703, 1704, 1705, 1706, 1707, 1714, 1721, 1729, 1738, 1744, 1745, 1748, 1750, 1752, 1756, 1757, 1758, 1759, 1761, 1762, 1765, 1800, 1801, 1819]\n"
     ]
    }
   ],
   "source": [
    "print(index_list1)"
   ]
  },
  {
   "cell_type": "code",
   "execution_count": 71,
   "id": "c9912f99-786e-41e7-94ae-d72a5d26e51b",
   "metadata": {},
   "outputs": [],
   "source": [
    "pca = PCA(n_components=2)\n",
    "pca.fit(train_sel_norm)\n",
    "X_train_pca = pca.transform(train_sel_norm)"
   ]
  },
  {
   "cell_type": "code",
   "execution_count": 72,
   "id": "d18229ce-9f6b-4892-839b-a6be3d62ab37",
   "metadata": {},
   "outputs": [
    {
     "data": {
      "text/plain": [
       "\"plt.scatter(X_train_pca[:, 0], X_train_pca[:, 1], c=outliers,\\n            cmap=plt.cm.prism, edgecolor='k', alpha=0.7)\\nplt.show()\""
      ]
     },
     "execution_count": 72,
     "metadata": {},
     "output_type": "execute_result"
    }
   ],
   "source": [
    "\"\"\"plt.scatter(X_train_pca[:, 0], X_train_pca[:, 1], c=outliers,\n",
    "            cmap=plt.cm.prism, edgecolor='k', alpha=0.7)\n",
    "plt.show()\"\"\""
   ]
  },
  {
   "cell_type": "code",
   "execution_count": 73,
   "id": "21e5fec3-0301-4773-9d1a-703ca7e6d97c",
   "metadata": {},
   "outputs": [],
   "source": [
    "pca = PCA(n_components=3)\n",
    "pca.fit(train_sel_norm)\n",
    "X_train_pca = pca.transform(train_sel_norm)"
   ]
  },
  {
   "cell_type": "code",
   "execution_count": 74,
   "id": "82f0a696-98d8-43b7-a34a-4bfb3952215d",
   "metadata": {},
   "outputs": [
    {
     "data": {
      "text/plain": [
       "<Figure size 432x288 with 0 Axes>"
      ]
     },
     "metadata": {},
     "output_type": "display_data"
    },
    {
     "data": {
      "image/png": "[encoded data removed]",
      "text/plain": [
       "<Figure size 576x432 with 1 Axes>"
      ]
     },
     "metadata": {
      "needs_background": "light"
     },
     "output_type": "display_data"
    }
   ],
   "source": [
    "fig = plt.figure()\n",
    "figure(figsize=(8, 6))\n",
    "ax = plt.axes(projection='3d')\n",
    "\n",
    "zdata = X_train_pca[:, 0]\n",
    "xdata = X_train_pca[:, 1]\n",
    "ydata = X_train_pca[:, 2]\n",
    "ax.scatter3D(xdata, ydata, zdata, c=outliers, cmap=plt.cm.prism, edgecolor='k', alpha=0.7);"
   ]
  },
  {
   "cell_type": "markdown",
   "id": "4a0c4938-d62f-4207-aec7-71220818fbd7",
   "metadata": {},
   "source": [
    "## LOF"
   ]
  },
  {
   "cell_type": "code",
   "execution_count": 75,
   "id": "21225f68-96cb-459c-acc9-4cdd7eefb8d7",
   "metadata": {},
   "outputs": [],
   "source": [
    "from pyod.models.lof import LOF"
   ]
  },
  {
   "cell_type": "code",
   "execution_count": 76,
   "id": "ad5d4bee-8e57-41ec-8417-43d41ded5c83",
   "metadata": {},
   "outputs": [
    {
     "data": {
      "text/plain": [
       "LOF(algorithm='auto', contamination=0.1, leaf_size=30, metric='minkowski',\n",
       "  metric_params=None, n_jobs=1, n_neighbors=20, novelty=True, p=2)"
      ]
     },
     "execution_count": 76,
     "metadata": {},
     "output_type": "execute_result"
    }
   ],
   "source": [
    "clf = LOF()\n",
    "clf.fit(X)"
   ]
  },
  {
   "cell_type": "code",
   "execution_count": 77,
   "id": "da01ce60-fb93-4651-960c-862d633604a7",
   "metadata": {},
   "outputs": [
    {
     "data": {
      "text/plain": [
       "(array([0, 1]), array([1660,  168]))"
      ]
     },
     "execution_count": 77,
     "metadata": {},
     "output_type": "execute_result"
    }
   ],
   "source": [
    "outliers = clf.predict(X)\n",
    "np.unique(outliers, return_counts=True)"
   ]
  },
  {
   "cell_type": "code",
   "execution_count": 78,
   "id": "0ad306c1-8f14-4ee9-96d6-456d23f2240b",
   "metadata": {},
   "outputs": [
    {
     "data": {
      "text/plain": [
       "\"plt.hist(clf.decision_scores_, bins=20)\\nplt.axvline(np.min(clf.decision_scores_[np.where(outliers==1)]), c='k')\\nplt.show()\""
      ]
     },
     "execution_count": 78,
     "metadata": {},
     "output_type": "execute_result"
    }
   ],
   "source": [
    "\"\"\"plt.hist(clf.decision_scores_, bins=20)\n",
    "plt.axvline(np.min(clf.decision_scores_[np.where(outliers==1)]), c='k')\n",
    "plt.show()\"\"\""
   ]
  },
  {
   "cell_type": "code",
   "execution_count": 79,
   "id": "cbd86eef-20b7-4fb0-b9f7-3f5e3fdfcc36",
   "metadata": {},
   "outputs": [
    {
     "name": "stdout",
     "output_type": "stream",
     "text": [
      "[2.939933021997724, 2.676978323047991, 2.644217216264477, 2.5759369761888267, 2.515046444599238, 2.5043080510990943, 2.5034917604164844, 2.445295113624907, 2.4406013195128686, 2.2414405674096787, 2.2179047785512407, 2.1924338843231057, 2.0783729503637387, 2.0683648962847947, 2.0148921365104693, 2.0140301184020695, 1.991460210297917, 1.9520598239797327]\n"
     ]
    }
   ],
   "source": [
    "dec_score= clf.decision_scores_\n",
    "dec_score_l= list(dec_score)\n",
    "dec_score_l.sort(reverse=True)\n",
    "print(dec_score_l[:18])"
   ]
  },
  {
   "cell_type": "code",
   "execution_count": 80,
   "id": "dfe76d6a-b608-4336-b5f5-65f27b2a0ee0",
   "metadata": {},
   "outputs": [
    {
     "name": "stdout",
     "output_type": "stream",
     "text": [
      "[2.939933021997724, 2.676978323047991, 2.644217216264477, 2.5759369761888267, 2.515046444599238, 2.5043080510990943, 2.5034917604164844, 2.445295113624907, 2.4406013195128686, 2.2414405674096787, 2.2179047785512407, 2.1924338843231057, 2.0783729503637387, 2.0683648962847947, 2.0148921365104693, 2.0140301184020695, 1.991460210297917, 1.9520598239797327, 1.8484711636269513, 1.8271003801156387, 1.7724664714850227, 1.772261538595627, 1.7704815829798481, 1.7639747313581609, 1.7535056375206068, 1.730218276245587, 1.7149970715063911, 1.6876078939097567, 1.674539409799845, 1.668149931346314, 1.6559521581560834, 1.6512849554417066, 1.614319678208912, 1.6037994934316384, 1.5881632433445225, 1.5834816182186973, 1.5717747584035477, 1.5713938806524022, 1.5699256761767693, 1.5695797939860014, 1.562050536420538, 1.537245911109348, 1.5368639261408723, 1.5304600850335786, 1.52657928398199, 1.5206797600708923, 1.509913886028767, 1.5043573611693655, 1.4995294360496711, 1.4941027155528843, 1.4929642220985706, 1.490939619282584, 1.4875662014714748, 1.4867759422695188, 1.4856407347722638, 1.4677692430245677, 1.4633554455460447, 1.4627247777002128, 1.4597838136474608, 1.459585198133622, 1.45824518762049, 1.4566290311927856, 1.4561200532755725, 1.4356821985116919, 1.432919286306584, 1.4324411927076839, 1.4215979689691047, 1.4079943342008854, 1.4040192963767963, 1.4017967930534794, 1.400786987258982, 1.3997251921744893, 1.3982106977388644, 1.395969955473797, 1.3954420408960833, 1.391492689282233, 1.3889465176211648, 1.3852609963358369, 1.3847885419792645, 1.3788722383001346, 1.377341689243814, 1.376584278157074, 1.3752329111116786, 1.37400360840569, 1.370603187115248, 1.3617675316798432, 1.347728138722601, 1.33760275494444, 1.3369655099322924, 1.33645144092162, 1.3355523596451602, 1.3333744455729766, 1.3332566935110335, 1.331980625313735, 1.3313357467528315, 1.3294319030682982, 1.3285613122469864, 1.3268028268136676, 1.3252336146790262, 1.3248837003157015, 1.3245766765503157, 1.3241312309399231, 1.3236499571698013, 1.3209972962597483, 1.3197292215645815, 1.3192662279426912]\n"
     ]
    }
   ],
   "source": [
    "print(dec_score_l[:106])"
   ]
  },
  {
   "cell_type": "code",
   "execution_count": 81,
   "id": "451ea6f1-d75d-4aa3-b87c-e7fc081a543e",
   "metadata": {},
   "outputs": [],
   "source": [
    "index_list2 =[]\n",
    "dec_score= clf.decision_scores_\n",
    "dec_score_l= list(dec_score)\n",
    "for e in dec_score_l:\n",
    "    if e> 1.3192662279426912:\n",
    "        ind=dec_score_l.index(e)\n",
    "        index_list2.append(ind)"
   ]
  },
  {
   "cell_type": "code",
   "execution_count": 82,
   "id": "74f2e84e-645b-4000-acf0-73f0855075bf",
   "metadata": {},
   "outputs": [
    {
     "name": "stdout",
     "output_type": "stream",
     "text": [
      "[0, 2, 8, 53, 59, 124, 148, 156, 223, 229, 314, 315, 324, 332, 352, 361, 382, 425, 460, 461, 484, 546, 589, 633, 636, 651, 656, 698, 741, 771, 820, 826, 832, 840, 841, 844, 852, 853, 855, 856, 869, 878, 971, 979, 1047, 1058, 1083, 1160, 1206, 1228, 1259, 1281, 1295, 1296, 1301, 1352, 1358, 1360, 1363, 1367, 1398, 1406, 1409, 1411, 1421, 1480, 1481, 1483, 1485, 1492, 1496, 1497, 1503, 1504, 1507, 1512, 1513, 1540, 1552, 1556, 1580, 1583, 1597, 1604, 1612, 1688, 1702, 1703, 1704, 1707, 1709, 1717, 1719, 1738, 1757, 1758, 1765, 1766, 1796, 1800, 1801, 1815, 1816, 1817, 1818]\n"
     ]
    }
   ],
   "source": [
    "print(index_list2)"
   ]
  },
  {
   "cell_type": "code",
   "execution_count": 83,
   "id": "f47f5f9d-e5bc-4302-b9df-c1ac3683a9ac",
   "metadata": {},
   "outputs": [],
   "source": [
    "pca = PCA(n_components=2)\n",
    "pca.fit(train_sel_norm)\n",
    "X_train_pca = pca.transform(train_sel_norm)"
   ]
  },
  {
   "cell_type": "code",
   "execution_count": 84,
   "id": "a966b012-3f17-4261-8c84-344e58c34bfd",
   "metadata": {},
   "outputs": [
    {
     "data": {
      "text/plain": [
       "\"plt.scatter(X_train_pca[:, 0], X_train_pca[:, 1], c=outliers,\\n            cmap=plt.cm.prism, edgecolor='k', alpha=0.7)\\nplt.show()\""
      ]
     },
     "execution_count": 84,
     "metadata": {},
     "output_type": "execute_result"
    }
   ],
   "source": [
    "\"\"\"plt.scatter(X_train_pca[:, 0], X_train_pca[:, 1], c=outliers,\n",
    "            cmap=plt.cm.prism, edgecolor='k', alpha=0.7)\n",
    "plt.show()\"\"\""
   ]
  },
  {
   "cell_type": "code",
   "execution_count": 85,
   "id": "1e73115f-ca84-4046-8bc2-fffd2967d80f",
   "metadata": {},
   "outputs": [],
   "source": [
    "pca = PCA(n_components=3)\n",
    "pca.fit(train_sel_norm)\n",
    "X_train_pca = pca.transform(train_sel_norm)"
   ]
  },
  {
   "cell_type": "code",
   "execution_count": 86,
   "id": "fe81ed20-2ea9-4179-87ff-6192e611dc53",
   "metadata": {},
   "outputs": [
    {
     "data": {
      "text/plain": [
       "<Figure size 432x288 with 0 Axes>"
      ]
     },
     "metadata": {},
     "output_type": "display_data"
    },
    {
     "data": {
      "image/png": "[encoded data removed]",
      "text/plain": [
       "<Figure size 576x432 with 1 Axes>"
      ]
     },
     "metadata": {
      "needs_background": "light"
     },
     "output_type": "display_data"
    }
   ],
   "source": [
    "fig = plt.figure()\n",
    "figure(figsize=(8, 6))\n",
    "ax = plt.axes(projection='3d')\n",
    "\n",
    "zdata = X_train_pca[:, 0]\n",
    "xdata = X_train_pca[:, 1]\n",
    "ydata = X_train_pca[:, 2]\n",
    "ax.scatter3D(xdata, ydata, zdata, c=outliers, cmap=plt.cm.prism, edgecolor='k', alpha=0.7);"
   ]
  },
  {
   "cell_type": "markdown",
   "id": "28342b88-cd85-4952-9d7c-04cde77eea65",
   "metadata": {},
   "source": [
    "## ABOD"
   ]
  },
  {
   "cell_type": "code",
   "execution_count": 87,
   "id": "e8ce4ada-3170-4466-8251-08a8369c99a1",
   "metadata": {},
   "outputs": [],
   "source": [
    "from pyod.models.abod import ABOD"
   ]
  },
  {
   "cell_type": "code",
   "execution_count": 88,
   "id": "946cf8ab-fb63-4560-a512-4f88af4d70dc",
   "metadata": {},
   "outputs": [
    {
     "data": {
      "text/plain": [
       "ABOD(contamination=0.1, method='fast', n_neighbors=5)"
      ]
     },
     "execution_count": 88,
     "metadata": {},
     "output_type": "execute_result"
    }
   ],
   "source": [
    "clf = ABOD()\n",
    "clf.fit(X)"
   ]
  },
  {
   "cell_type": "code",
   "execution_count": 89,
   "id": "64ac3f48-56aa-43e5-ab70-3f8d59a2c7bb",
   "metadata": {},
   "outputs": [
    {
     "data": {
      "text/plain": [
       "(array([0, 1]), array([1586,  242]))"
      ]
     },
     "execution_count": 89,
     "metadata": {},
     "output_type": "execute_result"
    }
   ],
   "source": [
    "outliers = clf.predict(X)\n",
    "np.unique(outliers, return_counts=True)"
   ]
  },
  {
   "cell_type": "code",
   "execution_count": 90,
   "id": "ff9a4a08-b542-4031-b074-4596323f32ab",
   "metadata": {},
   "outputs": [
    {
     "data": {
      "text/plain": [
       "\"plt.hist(clf.decision_scores_, bins=20)\\nplt.axvline(np.min(clf.decision_scores_[np.where(outliers==1)]), c='k')\\nplt.show()\""
      ]
     },
     "execution_count": 90,
     "metadata": {},
     "output_type": "execute_result"
    }
   ],
   "source": [
    "\"\"\"plt.hist(clf.decision_scores_, bins=20)\n",
    "plt.axvline(np.min(clf.decision_scores_[np.where(outliers==1)]), c='k')\n",
    "plt.show()\"\"\""
   ]
  },
  {
   "cell_type": "code",
   "execution_count": 91,
   "id": "55b3a8d3-02c1-48cc-85ef-9a9d32aa87b1",
   "metadata": {},
   "outputs": [
    {
     "name": "stdout",
     "output_type": "stream",
     "text": [
      "[-9.00933607590685e-09, -1.47762649025825e-08, -1.601094941033139e-08, -3.731213049593138e-08, -4.464337829911832e-08, -4.93710559849725e-08, -4.955434076359791e-08, -5.109279043986184e-08, -5.695892786222238e-08, -5.874611040462735e-08, -8.085418753355862e-08, -9.17250026530679e-08, -1.0170313016575454e-07, -1.0715810196099671e-07, -1.0807457344225286e-07, -1.1255060593238045e-07, -1.1317968356329525e-07, -1.3533514252680764e-07]\n"
     ]
    }
   ],
   "source": [
    "dec_score= clf.decision_scores_\n",
    "dec_score_l= list(dec_score)\n",
    "dec_score_l.sort(reverse=True)\n",
    "print(dec_score_l[:18])"
   ]
  },
  {
   "cell_type": "code",
   "execution_count": 92,
   "id": "0e115e06-9ece-4fa6-ade6-eb8670e3f690",
   "metadata": {},
   "outputs": [
    {
     "name": "stdout",
     "output_type": "stream",
     "text": [
      "[-9.00933607590685e-09, -1.47762649025825e-08, -1.601094941033139e-08, -3.731213049593138e-08, -4.464337829911832e-08, -4.93710559849725e-08, -4.955434076359791e-08, -5.109279043986184e-08, -5.695892786222238e-08, -5.874611040462735e-08, -8.085418753355862e-08, -9.17250026530679e-08, -1.0170313016575454e-07, -1.0715810196099671e-07, -1.0807457344225286e-07, -1.1255060593238045e-07, -1.1317968356329525e-07, -1.3533514252680764e-07, -1.408631020532639e-07, -1.5779914584824507e-07, -1.616827419817446e-07, -1.716374956999853e-07, -1.9220853559204504e-07, -1.9243393416512628e-07, -2.2459786371665273e-07, -2.3769694451023809e-07, -2.4085662635063346e-07, -2.505087252315087e-07, -2.7473347823320097e-07, -2.84662362270425e-07, -2.8899218703568067e-07, -2.924785137298215e-07, -3.009621834161668e-07, -3.1290302306525135e-07, -3.202620556949507e-07, -3.2365195718276024e-07, -3.301864341749027e-07, -3.428398657606139e-07, -3.4589711424791676e-07, -3.493781025040166e-07, -3.589755882075041e-07, -3.6097786583214495e-07, -3.64005551844911e-07, -3.6980332947330035e-07, -3.701439279509166e-07, -3.761659721294142e-07, -3.8409454612388266e-07, -3.9402375968670275e-07, -4.014178397445617e-07, -4.0349099540285515e-07, -4.2277268361108934e-07, -4.426944684703198e-07, -4.5260935074889026e-07, -4.533016477089056e-07, -4.7200727846279517e-07, -4.741300199201449e-07, -4.829884017323225e-07, -4.909775489633312e-07, -5.039320344042194e-07, -5.06908960252436e-07, -5.086680730632486e-07, -5.182666830456756e-07, -5.245817770815034e-07, -5.280887944806761e-07, -5.325605087615215e-07, -5.377479837296199e-07, -5.396821376446405e-07, -5.574436175394636e-07, -5.69895902850249e-07, -5.72765453030113e-07, -5.754792442405665e-07, -5.827611037460293e-07, -5.8435926630329e-07, -5.920347655497234e-07, -6.071917936341844e-07, -6.225370422631576e-07, -6.410342253457403e-07, -6.535229441795606e-07, -6.744028435258095e-07, -6.978959263020593e-07, -6.982428348609586e-07, -6.987136951243145e-07, -7.141369863154546e-07, -7.180484632796652e-07, -7.184787500632066e-07, -7.329596529434461e-07, -7.445695245500702e-07, -7.489264809594338e-07, -7.820278787935544e-07, -7.829818762146841e-07, -7.909273811301073e-07, -8.065209223114445e-07, -8.088626502264939e-07, -8.100308656627005e-07, -8.140559712197147e-07, -8.142864309291939e-07, -8.149107748905619e-07, -8.1509747288995e-07, -8.190401829594778e-07, -8.219828116500392e-07, -8.23709475734324e-07, -8.284111987587529e-07, -8.37976954976807e-07, -8.432857280043259e-07, -8.529502298961093e-07, -8.567480967783233e-07]\n"
     ]
    }
   ],
   "source": [
    "print(dec_score_l[:106])"
   ]
  },
  {
   "cell_type": "code",
   "execution_count": 93,
   "id": "4a11f892-96eb-410e-8b35-12b6a54c8371",
   "metadata": {},
   "outputs": [],
   "source": [
    "index_list3 =[]\n",
    "dec_score= clf.decision_scores_\n",
    "dec_score_l= list(dec_score)\n",
    "for e in dec_score_l:\n",
    "    if e> -8.567480967783233e-07:\n",
    "        ind=dec_score_l.index(e)\n",
    "        index_list3.append(ind)"
   ]
  },
  {
   "cell_type": "code",
   "execution_count": 94,
   "id": "33d7bc4d-c251-44c3-844f-e8cb0035546b",
   "metadata": {},
   "outputs": [
    {
     "name": "stdout",
     "output_type": "stream",
     "text": [
      "[0, 8, 32, 35, 40, 122, 124, 148, 223, 229, 235, 248, 253, 256, 258, 292, 352, 356, 361, 460, 467, 546, 565, 589, 653, 656, 657, 659, 668, 683, 698, 708, 741, 757, 768, 771, 784, 820, 826, 841, 842, 843, 856, 860, 878, 927, 942, 970, 982, 983, 1012, 1031, 1047, 1048, 1058, 1083, 1160, 1186, 1194, 1228, 1241, 1247, 1281, 1296, 1352, 1358, 1360, 1372, 1396, 1398, 1409, 1410, 1454, 1480, 1488, 1492, 1496, 1505, 1512, 1540, 1553, 1556, 1579, 1580, 1583, 1596, 1599, 1604, 1701, 1703, 1704, 1707, 1714, 1717, 1719, 1738, 1756, 1757, 1758, 1766, 1775, 1796, 1801, 1816, 1819]\n"
     ]
    }
   ],
   "source": [
    "print(index_list3)"
   ]
  },
  {
   "cell_type": "code",
   "execution_count": 95,
   "id": "3b47cf81-753f-4018-8842-3c09a6bfaf02",
   "metadata": {},
   "outputs": [],
   "source": [
    "pca = PCA(n_components=2)\n",
    "pca.fit(train_sel_norm)\n",
    "X_train_pca = pca.transform(train_sel_norm)"
   ]
  },
  {
   "cell_type": "code",
   "execution_count": 96,
   "id": "c61dfea9-16ee-486f-9271-64b1cb28469c",
   "metadata": {},
   "outputs": [
    {
     "data": {
      "text/plain": [
       "\"plt.scatter(X_train_pca[:, 0], X_train_pca[:, 1], c=outliers,\\n            cmap=plt.cm.prism, edgecolor='k', alpha=0.7)\\nplt.show()\""
      ]
     },
     "execution_count": 96,
     "metadata": {},
     "output_type": "execute_result"
    }
   ],
   "source": [
    "\"\"\"plt.scatter(X_train_pca[:, 0], X_train_pca[:, 1], c=outliers,\n",
    "            cmap=plt.cm.prism, edgecolor='k', alpha=0.7)\n",
    "plt.show()\"\"\""
   ]
  },
  {
   "cell_type": "code",
   "execution_count": 97,
   "id": "fa89ea38-7dd9-467e-bad1-481ccd51deca",
   "metadata": {},
   "outputs": [],
   "source": [
    "pca = PCA(n_components=3)\n",
    "pca.fit(train_sel_norm)\n",
    "X_train_pca = pca.transform(train_sel_norm)"
   ]
  },
  {
   "cell_type": "code",
   "execution_count": 98,
   "id": "bbd2b8bd-94ea-49a6-9e28-8ffa8c7bd0c4",
   "metadata": {},
   "outputs": [
    {
     "data": {
      "text/plain": [
       "<Figure size 432x288 with 0 Axes>"
      ]
     },
     "metadata": {},
     "output_type": "display_data"
    },
    {
     "data": {
      "image/png": "[encoded data removed]",
      "text/plain": [
       "<Figure size 576x432 with 1 Axes>"
      ]
     },
     "metadata": {
      "needs_background": "light"
     },
     "output_type": "display_data"
    }
   ],
   "source": [
    "fig = plt.figure()\n",
    "figure(figsize=(8, 6))\n",
    "ax = plt.axes(projection='3d')\n",
    "\n",
    "zdata = X_train_pca[:, 0]\n",
    "xdata = X_train_pca[:, 1]\n",
    "ydata = X_train_pca[:, 2]\n",
    "ax.scatter3D(xdata, ydata, zdata, c=outliers, cmap=plt.cm.prism, edgecolor='k', alpha=0.7);"
   ]
  },
  {
   "cell_type": "markdown",
   "id": "fb0b454f-9d65-46b4-80ca-1db8167bf69d",
   "metadata": {},
   "source": [
    "## Now we remove the most common outliers among the three methods implemented"
   ]
  },
  {
   "cell_type": "code",
   "execution_count": 99,
   "id": "06ad4eef-fe8b-4924-ba1a-fdd38bb0ae4f",
   "metadata": {},
   "outputs": [],
   "source": [
    "set1 = set(index_list1)\n",
    "set2 = set(index_list2)\n",
    "set3 = set(index_list3)"
   ]
  },
  {
   "cell_type": "code",
   "execution_count": 100,
   "id": "c488f5ef-8652-49f0-be97-ceb89191aac8",
   "metadata": {},
   "outputs": [],
   "source": [
    "set4=set1.intersection(set2).intersection(set3)"
   ]
  },
  {
   "cell_type": "code",
   "execution_count": 101,
   "id": "7cbd2966-7031-4ec8-bef5-2415fa4ed6ed",
   "metadata": {},
   "outputs": [
    {
     "data": {
      "text/plain": [
       "18"
      ]
     },
     "execution_count": 101,
     "metadata": {},
     "output_type": "execute_result"
    }
   ],
   "source": [
    "len(set4)"
   ]
  },
  {
   "cell_type": "code",
   "execution_count": 102,
   "id": "9563047e-9858-45cc-8c7f-d4de6a4e29e1",
   "metadata": {},
   "outputs": [
    {
     "data": {
      "text/plain": [
       "{0,\n",
       " 8,\n",
       " 352,\n",
       " 460,\n",
       " 589,\n",
       " 656,\n",
       " 1083,\n",
       " 1352,\n",
       " 1358,\n",
       " 1360,\n",
       " 1480,\n",
       " 1703,\n",
       " 1704,\n",
       " 1707,\n",
       " 1738,\n",
       " 1757,\n",
       " 1758,\n",
       " 1801}"
      ]
     },
     "execution_count": 102,
     "metadata": {},
     "output_type": "execute_result"
    }
   ],
   "source": [
    "set4"
   ]
  },
  {
   "cell_type": "code",
   "execution_count": 103,
   "id": "9059009e-ec9b-40fe-adf2-34201e7987b9",
   "metadata": {},
   "outputs": [],
   "source": [
    "train_sel.drop(set4, inplace=True)"
   ]
  },
  {
   "cell_type": "code",
   "execution_count": 104,
   "id": "4d2838c1-9b3b-4b00-8bd9-969e6427bfff",
   "metadata": {},
   "outputs": [
    {
     "data": {
      "text/html": [
       "<div>\n",
       "<style scoped>\n",
       "    .dataframe tbody tr th:only-of-type {\n",
       "        vertical-align: middle;\n",
       "    }\n",
       "\n",
       "    .dataframe tbody tr th {\n",
       "        vertical-align: top;\n",
       "    }\n",
       "\n",
       "    .dataframe thead th {\n",
       "        text-align: right;\n",
       "    }\n",
       "</style>\n",
       "<table border=\"1\" class=\"dataframe\">\n",
       "  <thead>\n",
       "    <tr style=\"text-align: right;\">\n",
       "      <th></th>\n",
       "      <th>actor</th>\n",
       "      <th>frame_count</th>\n",
       "      <th>sum</th>\n",
       "      <th>kur</th>\n",
       "      <th>lag1_kur</th>\n",
       "      <th>zc_sum</th>\n",
       "      <th>mfcc_sum</th>\n",
       "      <th>mfcc_mean</th>\n",
       "      <th>mfcc_std</th>\n",
       "      <th>mfcc_max</th>\n",
       "      <th>...</th>\n",
       "      <th>sc_q05_w4</th>\n",
       "      <th>sc_q25_w4</th>\n",
       "      <th>sc_q50_w4</th>\n",
       "      <th>sc_q75_w4</th>\n",
       "      <th>sc_q95_w4</th>\n",
       "      <th>sc_q99_w4</th>\n",
       "      <th>sc_kur_w4</th>\n",
       "      <th>sc_skew_w4</th>\n",
       "      <th>stft_sum_w4</th>\n",
       "      <th>stft_kur_w4</th>\n",
       "    </tr>\n",
       "  </thead>\n",
       "  <tbody>\n",
       "    <tr>\n",
       "      <th>1</th>\n",
       "      <td>1.0</td>\n",
       "      <td>160160.0</td>\n",
       "      <td>0.114319</td>\n",
       "      <td>16.488415</td>\n",
       "      <td>42.127435</td>\n",
       "      <td>8491.0</td>\n",
       "      <td>-196963.570413</td>\n",
       "      <td>-31.463829</td>\n",
       "      <td>163.853142</td>\n",
       "      <td>218.363733</td>\n",
       "      <td>...</td>\n",
       "      <td>7328.169993</td>\n",
       "      <td>9721.736881</td>\n",
       "      <td>11278.935139</td>\n",
       "      <td>11806.006801</td>\n",
       "      <td>12000.329080</td>\n",
       "      <td>12030.975508</td>\n",
       "      <td>-0.096686</td>\n",
       "      <td>-1.100390</td>\n",
       "      <td>705.975006</td>\n",
       "      <td>-0.700420</td>\n",
       "    </tr>\n",
       "    <tr>\n",
       "      <th>2</th>\n",
       "      <td>1.0</td>\n",
       "      <td>156956.0</td>\n",
       "      <td>0.149963</td>\n",
       "      <td>17.035218</td>\n",
       "      <td>54.529269</td>\n",
       "      <td>7384.0</td>\n",
       "      <td>-193866.638041</td>\n",
       "      <td>-31.574371</td>\n",
       "      <td>163.238841</td>\n",
       "      <td>229.029214</td>\n",
       "      <td>...</td>\n",
       "      <td>8117.809961</td>\n",
       "      <td>9711.644575</td>\n",
       "      <td>10827.840288</td>\n",
       "      <td>11775.554003</td>\n",
       "      <td>12050.192845</td>\n",
       "      <td>12110.642050</td>\n",
       "      <td>16.082550</td>\n",
       "      <td>-3.120218</td>\n",
       "      <td>694.365924</td>\n",
       "      <td>1.688986</td>\n",
       "    </tr>\n",
       "    <tr>\n",
       "      <th>3</th>\n",
       "      <td>1.0</td>\n",
       "      <td>152152.0</td>\n",
       "      <td>0.139618</td>\n",
       "      <td>21.824521</td>\n",
       "      <td>53.008445</td>\n",
       "      <td>8237.0</td>\n",
       "      <td>-184150.973286</td>\n",
       "      <td>-30.897814</td>\n",
       "      <td>162.217347</td>\n",
       "      <td>216.240664</td>\n",
       "      <td>...</td>\n",
       "      <td>6943.991628</td>\n",
       "      <td>8998.702287</td>\n",
       "      <td>10469.485907</td>\n",
       "      <td>11101.756609</td>\n",
       "      <td>11585.803219</td>\n",
       "      <td>11866.485679</td>\n",
       "      <td>-0.332682</td>\n",
       "      <td>-0.880988</td>\n",
       "      <td>663.205667</td>\n",
       "      <td>-0.594111</td>\n",
       "    </tr>\n",
       "    <tr>\n",
       "      <th>4</th>\n",
       "      <td>1.0</td>\n",
       "      <td>169769.0</td>\n",
       "      <td>0.137665</td>\n",
       "      <td>13.236022</td>\n",
       "      <td>44.373537</td>\n",
       "      <td>7839.0</td>\n",
       "      <td>-218952.728640</td>\n",
       "      <td>-32.974809</td>\n",
       "      <td>172.859991</td>\n",
       "      <td>230.432203</td>\n",
       "      <td>...</td>\n",
       "      <td>7045.094766</td>\n",
       "      <td>9178.275961</td>\n",
       "      <td>10995.412094</td>\n",
       "      <td>11527.428532</td>\n",
       "      <td>11991.767348</td>\n",
       "      <td>12098.967760</td>\n",
       "      <td>0.054656</td>\n",
       "      <td>-1.071109</td>\n",
       "      <td>741.412796</td>\n",
       "      <td>0.126535</td>\n",
       "    </tr>\n",
       "    <tr>\n",
       "      <th>5</th>\n",
       "      <td>1.0</td>\n",
       "      <td>172972.0</td>\n",
       "      <td>0.140289</td>\n",
       "      <td>19.658058</td>\n",
       "      <td>43.496743</td>\n",
       "      <td>5747.0</td>\n",
       "      <td>-214042.246890</td>\n",
       "      <td>-31.663054</td>\n",
       "      <td>167.015657</td>\n",
       "      <td>234.713732</td>\n",
       "      <td>...</td>\n",
       "      <td>3767.842932</td>\n",
       "      <td>8141.840119</td>\n",
       "      <td>11273.058219</td>\n",
       "      <td>11992.237735</td>\n",
       "      <td>12015.317805</td>\n",
       "      <td>12113.314691</td>\n",
       "      <td>1.573901</td>\n",
       "      <td>-1.512306</td>\n",
       "      <td>755.905381</td>\n",
       "      <td>1.823902</td>\n",
       "    </tr>\n",
       "    <tr>\n",
       "      <th>...</th>\n",
       "      <td>...</td>\n",
       "      <td>...</td>\n",
       "      <td>...</td>\n",
       "      <td>...</td>\n",
       "      <td>...</td>\n",
       "      <td>...</td>\n",
       "      <td>...</td>\n",
       "      <td>...</td>\n",
       "      <td>...</td>\n",
       "      <td>...</td>\n",
       "      <td>...</td>\n",
       "      <td>...</td>\n",
       "      <td>...</td>\n",
       "      <td>...</td>\n",
       "      <td>...</td>\n",
       "      <td>...</td>\n",
       "      <td>...</td>\n",
       "      <td>...</td>\n",
       "      <td>...</td>\n",
       "      <td>...</td>\n",
       "      <td>...</td>\n",
       "    </tr>\n",
       "    <tr>\n",
       "      <th>1823</th>\n",
       "      <td>18.0</td>\n",
       "      <td>168168.0</td>\n",
       "      <td>-0.154480</td>\n",
       "      <td>6.504521</td>\n",
       "      <td>41.185338</td>\n",
       "      <td>8349.0</td>\n",
       "      <td>-227313.337694</td>\n",
       "      <td>-34.546100</td>\n",
       "      <td>159.099528</td>\n",
       "      <td>184.163537</td>\n",
       "      <td>...</td>\n",
       "      <td>0.000000</td>\n",
       "      <td>8504.050807</td>\n",
       "      <td>10398.483268</td>\n",
       "      <td>11981.322435</td>\n",
       "      <td>12000.000000</td>\n",
       "      <td>12001.776389</td>\n",
       "      <td>0.904699</td>\n",
       "      <td>-1.472070</td>\n",
       "      <td>660.790616</td>\n",
       "      <td>0.262900</td>\n",
       "    </tr>\n",
       "    <tr>\n",
       "      <th>1824</th>\n",
       "      <td>18.0</td>\n",
       "      <td>174575.0</td>\n",
       "      <td>-0.139679</td>\n",
       "      <td>9.706586</td>\n",
       "      <td>65.761796</td>\n",
       "      <td>10439.0</td>\n",
       "      <td>-212587.010178</td>\n",
       "      <td>-31.171116</td>\n",
       "      <td>143.246956</td>\n",
       "      <td>159.600309</td>\n",
       "      <td>...</td>\n",
       "      <td>0.000000</td>\n",
       "      <td>7511.014887</td>\n",
       "      <td>9096.162496</td>\n",
       "      <td>11983.643068</td>\n",
       "      <td>12005.137708</td>\n",
       "      <td>12121.501758</td>\n",
       "      <td>0.947101</td>\n",
       "      <td>-1.301303</td>\n",
       "      <td>634.120979</td>\n",
       "      <td>-0.857759</td>\n",
       "    </tr>\n",
       "    <tr>\n",
       "      <th>1825</th>\n",
       "      <td>18.0</td>\n",
       "      <td>169770.0</td>\n",
       "      <td>-0.210968</td>\n",
       "      <td>5.874582</td>\n",
       "      <td>57.209661</td>\n",
       "      <td>7439.0</td>\n",
       "      <td>-213371.196654</td>\n",
       "      <td>-32.134216</td>\n",
       "      <td>143.883952</td>\n",
       "      <td>161.279633</td>\n",
       "      <td>...</td>\n",
       "      <td>5496.940032</td>\n",
       "      <td>7559.625245</td>\n",
       "      <td>9989.188322</td>\n",
       "      <td>11390.153616</td>\n",
       "      <td>12006.516678</td>\n",
       "      <td>12189.000574</td>\n",
       "      <td>2.505409</td>\n",
       "      <td>-1.472613</td>\n",
       "      <td>631.801688</td>\n",
       "      <td>-0.656632</td>\n",
       "    </tr>\n",
       "    <tr>\n",
       "      <th>1826</th>\n",
       "      <td>18.0</td>\n",
       "      <td>185786.0</td>\n",
       "      <td>-0.085876</td>\n",
       "      <td>4.482247</td>\n",
       "      <td>35.742894</td>\n",
       "      <td>12605.0</td>\n",
       "      <td>-228990.432092</td>\n",
       "      <td>-31.541382</td>\n",
       "      <td>138.269051</td>\n",
       "      <td>162.661713</td>\n",
       "      <td>...</td>\n",
       "      <td>0.000000</td>\n",
       "      <td>7603.873380</td>\n",
       "      <td>9677.603883</td>\n",
       "      <td>11149.816263</td>\n",
       "      <td>12000.000000</td>\n",
       "      <td>12015.176166</td>\n",
       "      <td>-0.020476</td>\n",
       "      <td>-1.160818</td>\n",
       "      <td>680.117724</td>\n",
       "      <td>-0.499022</td>\n",
       "    </tr>\n",
       "    <tr>\n",
       "      <th>1827</th>\n",
       "      <td>18.0</td>\n",
       "      <td>174574.0</td>\n",
       "      <td>-0.195312</td>\n",
       "      <td>4.534792</td>\n",
       "      <td>46.023531</td>\n",
       "      <td>10961.0</td>\n",
       "      <td>-212031.267508</td>\n",
       "      <td>-31.089629</td>\n",
       "      <td>142.022767</td>\n",
       "      <td>154.041391</td>\n",
       "      <td>...</td>\n",
       "      <td>5110.140749</td>\n",
       "      <td>6566.209110</td>\n",
       "      <td>8781.776101</td>\n",
       "      <td>11437.991911</td>\n",
       "      <td>11999.987245</td>\n",
       "      <td>12000.000000</td>\n",
       "      <td>-0.369996</td>\n",
       "      <td>-0.454012</td>\n",
       "      <td>641.287028</td>\n",
       "      <td>-0.962943</td>\n",
       "    </tr>\n",
       "  </tbody>\n",
       "</table>\n",
       "<p>1810 rows × 174 columns</p>\n",
       "</div>"
      ],
      "text/plain": [
       "      actor  frame_count       sum        kur   lag1_kur   zc_sum  \\\n",
       "1       1.0     160160.0  0.114319  16.488415  42.127435   8491.0   \n",
       "2       1.0     156956.0  0.149963  17.035218  54.529269   7384.0   \n",
       "3       1.0     152152.0  0.139618  21.824521  53.008445   8237.0   \n",
       "4       1.0     169769.0  0.137665  13.236022  44.373537   7839.0   \n",
       "5       1.0     172972.0  0.140289  19.658058  43.496743   5747.0   \n",
       "...     ...          ...       ...        ...        ...      ...   \n",
       "1823   18.0     168168.0 -0.154480   6.504521  41.185338   8349.0   \n",
       "1824   18.0     174575.0 -0.139679   9.706586  65.761796  10439.0   \n",
       "1825   18.0     169770.0 -0.210968   5.874582  57.209661   7439.0   \n",
       "1826   18.0     185786.0 -0.085876   4.482247  35.742894  12605.0   \n",
       "1827   18.0     174574.0 -0.195312   4.534792  46.023531  10961.0   \n",
       "\n",
       "           mfcc_sum  mfcc_mean    mfcc_std    mfcc_max  ...    sc_q05_w4  \\\n",
       "1    -196963.570413 -31.463829  163.853142  218.363733  ...  7328.169993   \n",
       "2    -193866.638041 -31.574371  163.238841  229.029214  ...  8117.809961   \n",
       "3    -184150.973286 -30.897814  162.217347  216.240664  ...  6943.991628   \n",
       "4    -218952.728640 -32.974809  172.859991  230.432203  ...  7045.094766   \n",
       "5    -214042.246890 -31.663054  167.015657  234.713732  ...  3767.842932   \n",
       "...             ...        ...         ...         ...  ...          ...   \n",
       "1823 -227313.337694 -34.546100  159.099528  184.163537  ...     0.000000   \n",
       "1824 -212587.010178 -31.171116  143.246956  159.600309  ...     0.000000   \n",
       "1825 -213371.196654 -32.134216  143.883952  161.279633  ...  5496.940032   \n",
       "1826 -228990.432092 -31.541382  138.269051  162.661713  ...     0.000000   \n",
       "1827 -212031.267508 -31.089629  142.022767  154.041391  ...  5110.140749   \n",
       "\n",
       "        sc_q25_w4     sc_q50_w4     sc_q75_w4     sc_q95_w4     sc_q99_w4  \\\n",
       "1     9721.736881  11278.935139  11806.006801  12000.329080  12030.975508   \n",
       "2     9711.644575  10827.840288  11775.554003  12050.192845  12110.642050   \n",
       "3     8998.702287  10469.485907  11101.756609  11585.803219  11866.485679   \n",
       "4     9178.275961  10995.412094  11527.428532  11991.767348  12098.967760   \n",
       "5     8141.840119  11273.058219  11992.237735  12015.317805  12113.314691   \n",
       "...           ...           ...           ...           ...           ...   \n",
       "1823  8504.050807  10398.483268  11981.322435  12000.000000  12001.776389   \n",
       "1824  7511.014887   9096.162496  11983.643068  12005.137708  12121.501758   \n",
       "1825  7559.625245   9989.188322  11390.153616  12006.516678  12189.000574   \n",
       "1826  7603.873380   9677.603883  11149.816263  12000.000000  12015.176166   \n",
       "1827  6566.209110   8781.776101  11437.991911  11999.987245  12000.000000   \n",
       "\n",
       "      sc_kur_w4  sc_skew_w4  stft_sum_w4  stft_kur_w4  \n",
       "1     -0.096686   -1.100390   705.975006    -0.700420  \n",
       "2     16.082550   -3.120218   694.365924     1.688986  \n",
       "3     -0.332682   -0.880988   663.205667    -0.594111  \n",
       "4      0.054656   -1.071109   741.412796     0.126535  \n",
       "5      1.573901   -1.512306   755.905381     1.823902  \n",
       "...         ...         ...          ...          ...  \n",
       "1823   0.904699   -1.472070   660.790616     0.262900  \n",
       "1824   0.947101   -1.301303   634.120979    -0.857759  \n",
       "1825   2.505409   -1.472613   631.801688    -0.656632  \n",
       "1826  -0.020476   -1.160818   680.117724    -0.499022  \n",
       "1827  -0.369996   -0.454012   641.287028    -0.962943  \n",
       "\n",
       "[1810 rows x 174 columns]"
      ]
     },
     "execution_count": 104,
     "metadata": {},
     "output_type": "execute_result"
    }
   ],
   "source": [
    "train_sel"
   ]
  },
  {
   "cell_type": "code",
   "execution_count": 105,
   "id": "20af88ff-4cfb-4740-9f39-c9651c6cffe6",
   "metadata": {},
   "outputs": [
    {
     "data": {
      "text/html": [
       "<div>\n",
       "<style scoped>\n",
       "    .dataframe tbody tr th:only-of-type {\n",
       "        vertical-align: middle;\n",
       "    }\n",
       "\n",
       "    .dataframe tbody tr th {\n",
       "        vertical-align: top;\n",
       "    }\n",
       "\n",
       "    .dataframe thead th {\n",
       "        text-align: right;\n",
       "    }\n",
       "</style>\n",
       "<table border=\"1\" class=\"dataframe\">\n",
       "  <thead>\n",
       "    <tr style=\"text-align: right;\">\n",
       "      <th></th>\n",
       "      <th>actor</th>\n",
       "      <th>frame_count</th>\n",
       "      <th>sum</th>\n",
       "      <th>kur</th>\n",
       "      <th>lag1_kur</th>\n",
       "      <th>zc_sum</th>\n",
       "      <th>mfcc_sum</th>\n",
       "      <th>mfcc_mean</th>\n",
       "      <th>mfcc_std</th>\n",
       "      <th>mfcc_max</th>\n",
       "      <th>...</th>\n",
       "      <th>sc_q05_w4</th>\n",
       "      <th>sc_q25_w4</th>\n",
       "      <th>sc_q50_w4</th>\n",
       "      <th>sc_q75_w4</th>\n",
       "      <th>sc_q95_w4</th>\n",
       "      <th>sc_q99_w4</th>\n",
       "      <th>sc_kur_w4</th>\n",
       "      <th>sc_skew_w4</th>\n",
       "      <th>stft_sum_w4</th>\n",
       "      <th>stft_kur_w4</th>\n",
       "    </tr>\n",
       "  </thead>\n",
       "  <tbody>\n",
       "    <tr>\n",
       "      <th>0</th>\n",
       "      <td>19</td>\n",
       "      <td>161762</td>\n",
       "      <td>0.475616</td>\n",
       "      <td>11.392131</td>\n",
       "      <td>27.908376</td>\n",
       "      <td>6914</td>\n",
       "      <td>-185091.597475</td>\n",
       "      <td>-29.286645</td>\n",
       "      <td>172.090423</td>\n",
       "      <td>238.067483</td>\n",
       "      <td>...</td>\n",
       "      <td>5972.243167</td>\n",
       "      <td>8195.778271</td>\n",
       "      <td>9121.554218</td>\n",
       "      <td>10041.725010</td>\n",
       "      <td>11120.746102</td>\n",
       "      <td>11704.526728</td>\n",
       "      <td>-0.389589</td>\n",
       "      <td>-0.476916</td>\n",
       "      <td>727.157574</td>\n",
       "      <td>-0.260279</td>\n",
       "    </tr>\n",
       "    <tr>\n",
       "      <th>1</th>\n",
       "      <td>19</td>\n",
       "      <td>155355</td>\n",
       "      <td>0.120148</td>\n",
       "      <td>13.621589</td>\n",
       "      <td>42.184398</td>\n",
       "      <td>6932</td>\n",
       "      <td>-177839.591263</td>\n",
       "      <td>-29.249933</td>\n",
       "      <td>171.375407</td>\n",
       "      <td>228.448708</td>\n",
       "      <td>...</td>\n",
       "      <td>5908.247494</td>\n",
       "      <td>7170.967974</td>\n",
       "      <td>9561.173331</td>\n",
       "      <td>11186.861414</td>\n",
       "      <td>11582.523798</td>\n",
       "      <td>11856.402666</td>\n",
       "      <td>-1.261399</td>\n",
       "      <td>-0.396969</td>\n",
       "      <td>637.658102</td>\n",
       "      <td>-0.428900</td>\n",
       "    </tr>\n",
       "    <tr>\n",
       "      <th>2</th>\n",
       "      <td>19</td>\n",
       "      <td>160160</td>\n",
       "      <td>-0.599304</td>\n",
       "      <td>7.678162</td>\n",
       "      <td>59.173624</td>\n",
       "      <td>9418</td>\n",
       "      <td>-181697.868716</td>\n",
       "      <td>-29.025219</td>\n",
       "      <td>170.958988</td>\n",
       "      <td>227.401299</td>\n",
       "      <td>...</td>\n",
       "      <td>6298.587809</td>\n",
       "      <td>7466.224410</td>\n",
       "      <td>9177.280207</td>\n",
       "      <td>9794.040046</td>\n",
       "      <td>11227.823275</td>\n",
       "      <td>11965.987675</td>\n",
       "      <td>-0.548618</td>\n",
       "      <td>-0.212367</td>\n",
       "      <td>672.592436</td>\n",
       "      <td>0.626916</td>\n",
       "    </tr>\n",
       "    <tr>\n",
       "      <th>3</th>\n",
       "      <td>19</td>\n",
       "      <td>158558</td>\n",
       "      <td>-0.080383</td>\n",
       "      <td>14.511231</td>\n",
       "      <td>43.718458</td>\n",
       "      <td>8686</td>\n",
       "      <td>-183699.720428</td>\n",
       "      <td>-29.628987</td>\n",
       "      <td>168.719126</td>\n",
       "      <td>224.906515</td>\n",
       "      <td>...</td>\n",
       "      <td>7212.387125</td>\n",
       "      <td>7969.218641</td>\n",
       "      <td>8762.907534</td>\n",
       "      <td>9882.683892</td>\n",
       "      <td>10745.314501</td>\n",
       "      <td>11495.219384</td>\n",
       "      <td>-0.966908</td>\n",
       "      <td>0.173125</td>\n",
       "      <td>704.158385</td>\n",
       "      <td>-0.825144</td>\n",
       "    </tr>\n",
       "    <tr>\n",
       "      <th>4</th>\n",
       "      <td>19</td>\n",
       "      <td>176176</td>\n",
       "      <td>0.152222</td>\n",
       "      <td>8.944732</td>\n",
       "      <td>139.907840</td>\n",
       "      <td>9674</td>\n",
       "      <td>-204624.188622</td>\n",
       "      <td>-29.655680</td>\n",
       "      <td>179.013415</td>\n",
       "      <td>204.603472</td>\n",
       "      <td>...</td>\n",
       "      <td>3936.366435</td>\n",
       "      <td>8493.923917</td>\n",
       "      <td>9926.499570</td>\n",
       "      <td>10780.217065</td>\n",
       "      <td>11572.842210</td>\n",
       "      <td>11777.983822</td>\n",
       "      <td>2.327035</td>\n",
       "      <td>-1.593457</td>\n",
       "      <td>780.167518</td>\n",
       "      <td>-0.536669</td>\n",
       "    </tr>\n",
       "    <tr>\n",
       "      <th>...</th>\n",
       "      <td>...</td>\n",
       "      <td>...</td>\n",
       "      <td>...</td>\n",
       "      <td>...</td>\n",
       "      <td>...</td>\n",
       "      <td>...</td>\n",
       "      <td>...</td>\n",
       "      <td>...</td>\n",
       "      <td>...</td>\n",
       "      <td>...</td>\n",
       "      <td>...</td>\n",
       "      <td>...</td>\n",
       "      <td>...</td>\n",
       "      <td>...</td>\n",
       "      <td>...</td>\n",
       "      <td>...</td>\n",
       "      <td>...</td>\n",
       "      <td>...</td>\n",
       "      <td>...</td>\n",
       "      <td>...</td>\n",
       "      <td>...</td>\n",
       "    </tr>\n",
       "    <tr>\n",
       "      <th>619</th>\n",
       "      <td>24</td>\n",
       "      <td>219419</td>\n",
       "      <td>0.423157</td>\n",
       "      <td>6.520678</td>\n",
       "      <td>80.379368</td>\n",
       "      <td>15787</td>\n",
       "      <td>-264009.939482</td>\n",
       "      <td>-30.770389</td>\n",
       "      <td>131.174261</td>\n",
       "      <td>181.801757</td>\n",
       "      <td>...</td>\n",
       "      <td>2426.159633</td>\n",
       "      <td>7124.124853</td>\n",
       "      <td>9465.933074</td>\n",
       "      <td>9825.431365</td>\n",
       "      <td>10034.042184</td>\n",
       "      <td>10145.507697</td>\n",
       "      <td>-0.230367</td>\n",
       "      <td>-1.213402</td>\n",
       "      <td>791.637319</td>\n",
       "      <td>-0.495689</td>\n",
       "    </tr>\n",
       "    <tr>\n",
       "      <th>620</th>\n",
       "      <td>24</td>\n",
       "      <td>217817</td>\n",
       "      <td>-1.375854</td>\n",
       "      <td>14.590263</td>\n",
       "      <td>40.644555</td>\n",
       "      <td>17053</td>\n",
       "      <td>-245411.449442</td>\n",
       "      <td>-28.804161</td>\n",
       "      <td>116.716024</td>\n",
       "      <td>186.612589</td>\n",
       "      <td>...</td>\n",
       "      <td>2503.120563</td>\n",
       "      <td>4776.274447</td>\n",
       "      <td>5662.021516</td>\n",
       "      <td>6717.846923</td>\n",
       "      <td>9569.567182</td>\n",
       "      <td>10099.677098</td>\n",
       "      <td>-0.207094</td>\n",
       "      <td>0.289277</td>\n",
       "      <td>688.266594</td>\n",
       "      <td>-0.877851</td>\n",
       "    </tr>\n",
       "    <tr>\n",
       "      <th>621</th>\n",
       "      <td>24</td>\n",
       "      <td>206606</td>\n",
       "      <td>0.573761</td>\n",
       "      <td>6.947965</td>\n",
       "      <td>30.113873</td>\n",
       "      <td>15855</td>\n",
       "      <td>-225213.091603</td>\n",
       "      <td>-27.872907</td>\n",
       "      <td>118.957076</td>\n",
       "      <td>175.597276</td>\n",
       "      <td>...</td>\n",
       "      <td>2519.017778</td>\n",
       "      <td>5151.407589</td>\n",
       "      <td>6873.031650</td>\n",
       "      <td>7647.269820</td>\n",
       "      <td>9177.984373</td>\n",
       "      <td>9627.394302</td>\n",
       "      <td>-0.550877</td>\n",
       "      <td>-0.536569</td>\n",
       "      <td>619.688792</td>\n",
       "      <td>-0.997740</td>\n",
       "    </tr>\n",
       "    <tr>\n",
       "      <th>622</th>\n",
       "      <td>24</td>\n",
       "      <td>203404</td>\n",
       "      <td>0.792572</td>\n",
       "      <td>6.107496</td>\n",
       "      <td>38.211619</td>\n",
       "      <td>17077</td>\n",
       "      <td>-211833.281301</td>\n",
       "      <td>-26.612221</td>\n",
       "      <td>114.252079</td>\n",
       "      <td>178.413828</td>\n",
       "      <td>...</td>\n",
       "      <td>2459.783919</td>\n",
       "      <td>5306.555431</td>\n",
       "      <td>6433.235498</td>\n",
       "      <td>8246.142830</td>\n",
       "      <td>9243.660055</td>\n",
       "      <td>9564.758914</td>\n",
       "      <td>-0.646994</td>\n",
       "      <td>-0.421549</td>\n",
       "      <td>714.314900</td>\n",
       "      <td>-0.670500</td>\n",
       "    </tr>\n",
       "    <tr>\n",
       "      <th>623</th>\n",
       "      <td>24</td>\n",
       "      <td>213013</td>\n",
       "      <td>0.355530</td>\n",
       "      <td>7.179805</td>\n",
       "      <td>23.609656</td>\n",
       "      <td>18477</td>\n",
       "      <td>-230264.382933</td>\n",
       "      <td>-27.609638</td>\n",
       "      <td>112.912761</td>\n",
       "      <td>175.514072</td>\n",
       "      <td>...</td>\n",
       "      <td>2882.912727</td>\n",
       "      <td>6084.628091</td>\n",
       "      <td>8724.756435</td>\n",
       "      <td>9349.331172</td>\n",
       "      <td>9961.628930</td>\n",
       "      <td>10331.511169</td>\n",
       "      <td>-0.724733</td>\n",
       "      <td>-0.922053</td>\n",
       "      <td>764.619208</td>\n",
       "      <td>-0.538011</td>\n",
       "    </tr>\n",
       "  </tbody>\n",
       "</table>\n",
       "<p>624 rows × 174 columns</p>\n",
       "</div>"
      ],
      "text/plain": [
       "     actor  frame_count       sum        kur    lag1_kur  zc_sum  \\\n",
       "0       19       161762  0.475616  11.392131   27.908376    6914   \n",
       "1       19       155355  0.120148  13.621589   42.184398    6932   \n",
       "2       19       160160 -0.599304   7.678162   59.173624    9418   \n",
       "3       19       158558 -0.080383  14.511231   43.718458    8686   \n",
       "4       19       176176  0.152222   8.944732  139.907840    9674   \n",
       "..     ...          ...       ...        ...         ...     ...   \n",
       "619     24       219419  0.423157   6.520678   80.379368   15787   \n",
       "620     24       217817 -1.375854  14.590263   40.644555   17053   \n",
       "621     24       206606  0.573761   6.947965   30.113873   15855   \n",
       "622     24       203404  0.792572   6.107496   38.211619   17077   \n",
       "623     24       213013  0.355530   7.179805   23.609656   18477   \n",
       "\n",
       "          mfcc_sum  mfcc_mean    mfcc_std    mfcc_max  ...    sc_q05_w4  \\\n",
       "0   -185091.597475 -29.286645  172.090423  238.067483  ...  5972.243167   \n",
       "1   -177839.591263 -29.249933  171.375407  228.448708  ...  5908.247494   \n",
       "2   -181697.868716 -29.025219  170.958988  227.401299  ...  6298.587809   \n",
       "3   -183699.720428 -29.628987  168.719126  224.906515  ...  7212.387125   \n",
       "4   -204624.188622 -29.655680  179.013415  204.603472  ...  3936.366435   \n",
       "..             ...        ...         ...         ...  ...          ...   \n",
       "619 -264009.939482 -30.770389  131.174261  181.801757  ...  2426.159633   \n",
       "620 -245411.449442 -28.804161  116.716024  186.612589  ...  2503.120563   \n",
       "621 -225213.091603 -27.872907  118.957076  175.597276  ...  2519.017778   \n",
       "622 -211833.281301 -26.612221  114.252079  178.413828  ...  2459.783919   \n",
       "623 -230264.382933 -27.609638  112.912761  175.514072  ...  2882.912727   \n",
       "\n",
       "       sc_q25_w4    sc_q50_w4     sc_q75_w4     sc_q95_w4     sc_q99_w4  \\\n",
       "0    8195.778271  9121.554218  10041.725010  11120.746102  11704.526728   \n",
       "1    7170.967974  9561.173331  11186.861414  11582.523798  11856.402666   \n",
       "2    7466.224410  9177.280207   9794.040046  11227.823275  11965.987675   \n",
       "3    7969.218641  8762.907534   9882.683892  10745.314501  11495.219384   \n",
       "4    8493.923917  9926.499570  10780.217065  11572.842210  11777.983822   \n",
       "..           ...          ...           ...           ...           ...   \n",
       "619  7124.124853  9465.933074   9825.431365  10034.042184  10145.507697   \n",
       "620  4776.274447  5662.021516   6717.846923   9569.567182  10099.677098   \n",
       "621  5151.407589  6873.031650   7647.269820   9177.984373   9627.394302   \n",
       "622  5306.555431  6433.235498   8246.142830   9243.660055   9564.758914   \n",
       "623  6084.628091  8724.756435   9349.331172   9961.628930  10331.511169   \n",
       "\n",
       "     sc_kur_w4  sc_skew_w4  stft_sum_w4  stft_kur_w4  \n",
       "0    -0.389589   -0.476916   727.157574    -0.260279  \n",
       "1    -1.261399   -0.396969   637.658102    -0.428900  \n",
       "2    -0.548618   -0.212367   672.592436     0.626916  \n",
       "3    -0.966908    0.173125   704.158385    -0.825144  \n",
       "4     2.327035   -1.593457   780.167518    -0.536669  \n",
       "..         ...         ...          ...          ...  \n",
       "619  -0.230367   -1.213402   791.637319    -0.495689  \n",
       "620  -0.207094    0.289277   688.266594    -0.877851  \n",
       "621  -0.550877   -0.536569   619.688792    -0.997740  \n",
       "622  -0.646994   -0.421549   714.314900    -0.670500  \n",
       "623  -0.724733   -0.922053   764.619208    -0.538011  \n",
       "\n",
       "[624 rows x 174 columns]"
      ]
     },
     "execution_count": 105,
     "metadata": {},
     "output_type": "execute_result"
    }
   ],
   "source": [
    "test_sel"
   ]
  },
  {
   "cell_type": "markdown",
   "id": "c0c5eec0",
   "metadata": {},
   "source": [
    "## support vector machine"
   ]
  },
  {
   "cell_type": "code",
   "execution_count": 106,
   "id": "7c30f42b",
   "metadata": {},
   "outputs": [],
   "source": [
    "scaler = MinMaxScaler()\n",
    "train_final_norm = scaler.fit_transform(train_final)\n",
    "train_final_norm=pd.DataFrame(train_final_norm, columns=train_final.columns)"
   ]
  },
  {
   "cell_type": "code",
   "execution_count": 107,
   "id": "a6c20c13",
   "metadata": {},
   "outputs": [
    {
     "data": {
      "text/plain": [
       "0       1\n",
       "1       1\n",
       "2       1\n",
       "3       1\n",
       "4       1\n",
       "       ..\n",
       "1823    1\n",
       "1824    1\n",
       "1825    1\n",
       "1826    1\n",
       "1827    1\n",
       "Name: vocal_channel, Length: 1828, dtype: int64"
      ]
     },
     "execution_count": 107,
     "metadata": {},
     "output_type": "execute_result"
    }
   ],
   "source": [
    "train_final[\"vocal_channel\"]"
   ]
  },
  {
   "cell_type": "code",
   "execution_count": 108,
   "id": "7716c346",
   "metadata": {},
   "outputs": [],
   "source": [
    "X_train, X_test, y_train, y_test = train_test_split(train_final_norm, y, test_size=0.3, \n",
    "                                                    random_state=100, stratify=y)"
   ]
  },
  {
   "cell_type": "code",
   "execution_count": 109,
   "id": "205583ac",
   "metadata": {},
   "outputs": [],
   "source": [
    "pca = PCA(n_components=2)\n",
    "pca.fit(X_train)\n",
    "X_train_pca = pca.transform(X_train)"
   ]
  },
  {
   "cell_type": "code",
   "execution_count": 110,
   "id": "53d4bd34",
   "metadata": {},
   "outputs": [],
   "source": [
    "y_train_ohe=le.fit_transform(y_train)"
   ]
  },
  {
   "cell_type": "code",
   "execution_count": 111,
   "id": "d5bfcaa8",
   "metadata": {},
   "outputs": [
    {
     "data": {
      "text/plain": [
       "\"plt.scatter(X_train_pca[:, 0], X_train_pca[:, 1], c= y_train_ohe, \\n            cmap=plt.cm.prism, edgecolor='k', alpha=0.7)\\nplt.show()\""
      ]
     },
     "execution_count": 111,
     "metadata": {},
     "output_type": "execute_result"
    }
   ],
   "source": [
    "\"\"\"plt.scatter(X_train_pca[:, 0], X_train_pca[:, 1], c= y_train_ohe, \n",
    "            cmap=plt.cm.prism, edgecolor='k', alpha=0.7)\n",
    "plt.show()\"\"\""
   ]
  },
  {
   "cell_type": "code",
   "execution_count": 112,
   "id": "7e9269af",
   "metadata": {},
   "outputs": [],
   "source": [
    "from sklearn.svm import LinearSVC"
   ]
  },
  {
   "cell_type": "code",
   "execution_count": 113,
   "id": "9726aaeb",
   "metadata": {},
   "outputs": [
    {
     "name": "stdout",
     "output_type": "stream",
     "text": [
      "Accuracy 0.604735883424408\n",
      "F1-score [0.84662577 0.59649123 0.50632911 0.67065868 0.60465116 0.46511628\n",
      " 0.45882353 0.55555556]\n",
      "              precision    recall  f1-score   support\n",
      "\n",
      "       angry       0.87      0.82      0.85        84\n",
      "        calm       0.59      0.61      0.60        84\n",
      "     disgust       0.57      0.45      0.51        44\n",
      "     fearful       0.67      0.67      0.67        84\n",
      "       happy       0.59      0.62      0.60        84\n",
      "     neutral       0.45      0.48      0.47        42\n",
      "         sad       0.45      0.46      0.46        84\n",
      "   surprised       0.53      0.58      0.56        43\n",
      "\n",
      "    accuracy                           0.60       549\n",
      "   macro avg       0.59      0.59      0.59       549\n",
      "weighted avg       0.61      0.60      0.61       549\n",
      "\n"
     ]
    },
    {
     "name": "stderr",
     "output_type": "stream",
     "text": [
      "/opt/anaconda3/lib/python3.9/site-packages/sklearn/svm/_base.py:1206: ConvergenceWarning: Liblinear failed to converge, increase the number of iterations.\n",
      "  warnings.warn(\n"
     ]
    }
   ],
   "source": [
    "clf = LinearSVC(C=1.0, random_state=42)\n",
    "clf.fit(X_train, y_train)\n",
    "\n",
    "y_pred = clf.predict(X_test)\n",
    "\n",
    "print('Accuracy %s' % accuracy_score(y_test, y_pred))\n",
    "print('F1-score %s' % f1_score(y_test, y_pred, average=None))\n",
    "print(classification_report(y_test, y_pred))"
   ]
  },
  {
   "cell_type": "code",
   "execution_count": 114,
   "id": "3f171b68",
   "metadata": {},
   "outputs": [
    {
     "name": "stdout",
     "output_type": "stream",
     "text": [
      "Accuracy 0.5519125683060109\n",
      "F1-score [0.7826087  0.57364341 0.44117647 0.67073171 0.42735043 0.47368421\n",
      " 0.31007752 0.528     ]\n",
      "              precision    recall  f1-score   support\n",
      "\n",
      "       angry       0.82      0.75      0.78        84\n",
      "        calm       0.43      0.88      0.57        84\n",
      "     disgust       0.62      0.34      0.44        44\n",
      "     fearful       0.69      0.65      0.67        84\n",
      "       happy       0.76      0.30      0.43        84\n",
      "     neutral       0.53      0.43      0.47        42\n",
      "         sad       0.44      0.24      0.31        84\n",
      "   surprised       0.40      0.77      0.53        43\n",
      "\n",
      "    accuracy                           0.55       549\n",
      "   macro avg       0.59      0.54      0.53       549\n",
      "weighted avg       0.60      0.55      0.54       549\n",
      "\n"
     ]
    },
    {
     "name": "stderr",
     "output_type": "stream",
     "text": [
      "/opt/anaconda3/lib/python3.9/site-packages/sklearn/svm/_base.py:1206: ConvergenceWarning: Liblinear failed to converge, increase the number of iterations.\n",
      "  warnings.warn(\n"
     ]
    }
   ],
   "source": [
    "clf = LinearSVC(C=100.0, random_state=42)\n",
    "clf.fit(X_train, y_train)\n",
    "\n",
    "y_pred = clf.predict(X_test)\n",
    "\n",
    "print('Accuracy %s' % accuracy_score(y_test, y_pred))\n",
    "print('F1-score %s' % f1_score(y_test, y_pred, average=None))\n",
    "print(classification_report(y_test, y_pred))"
   ]
  },
  {
   "cell_type": "code",
   "execution_count": 115,
   "id": "ed9cc569",
   "metadata": {},
   "outputs": [
    {
     "name": "stdout",
     "output_type": "stream",
     "text": [
      "Accuracy 0.40255009107468126\n",
      "F1-score [0.67619048 0.51405622 0.04347826 0.39772727 0.32214765 0.\n",
      " 0.12765957 0.4       ]\n",
      "              precision    recall  f1-score   support\n",
      "\n",
      "       angry       0.56      0.85      0.68        84\n",
      "        calm       0.39      0.76      0.51        84\n",
      "     disgust       0.50      0.02      0.04        44\n",
      "     fearful       0.38      0.42      0.40        84\n",
      "       happy       0.37      0.29      0.32        84\n",
      "     neutral       0.00      0.00      0.00        42\n",
      "         sad       0.16      0.11      0.13        84\n",
      "   surprised       0.40      0.40      0.40        43\n",
      "\n",
      "    accuracy                           0.40       549\n",
      "   macro avg       0.35      0.35      0.31       549\n",
      "weighted avg       0.36      0.40      0.35       549\n",
      "\n"
     ]
    },
    {
     "name": "stderr",
     "output_type": "stream",
     "text": [
      "/opt/anaconda3/lib/python3.9/site-packages/sklearn/metrics/_classification.py:1318: UndefinedMetricWarning: Precision and F-score are ill-defined and being set to 0.0 in labels with no predicted samples. Use `zero_division` parameter to control this behavior.\n",
      "  _warn_prf(average, modifier, msg_start, len(result))\n",
      "/opt/anaconda3/lib/python3.9/site-packages/sklearn/metrics/_classification.py:1318: UndefinedMetricWarning: Precision and F-score are ill-defined and being set to 0.0 in labels with no predicted samples. Use `zero_division` parameter to control this behavior.\n",
      "  _warn_prf(average, modifier, msg_start, len(result))\n",
      "/opt/anaconda3/lib/python3.9/site-packages/sklearn/metrics/_classification.py:1318: UndefinedMetricWarning: Precision and F-score are ill-defined and being set to 0.0 in labels with no predicted samples. Use `zero_division` parameter to control this behavior.\n",
      "  _warn_prf(average, modifier, msg_start, len(result))\n"
     ]
    }
   ],
   "source": [
    "clf = LinearSVC(C=0.001, random_state=42)\n",
    "clf.fit(X_train, y_train)\n",
    "\n",
    "y_pred = clf.predict(X_test)\n",
    "\n",
    "print('Accuracy %s' % accuracy_score(y_test, y_pred))\n",
    "print('F1-score %s' % f1_score(y_test, y_pred, average=None))\n",
    "print(classification_report(y_test, y_pred))"
   ]
  },
  {
   "cell_type": "code",
   "execution_count": 116,
   "id": "70adbfcc",
   "metadata": {},
   "outputs": [
    {
     "data": {
      "text/plain": [
       "'decision_function = clf.decision_function(X_train)\\nsupport_vector_indices = np.where((2 * y_train - 1) * decision_function <= 1)[0]\\nsupport_vectors = X_train[support_vector_indices]'"
      ]
     },
     "execution_count": 116,
     "metadata": {},
     "output_type": "execute_result"
    }
   ],
   "source": [
    "\"\"\"decision_function = clf.decision_function(X_train)\n",
    "support_vector_indices = np.where((2 * y_train - 1) * decision_function <= 1)[0]\n",
    "support_vectors = X_train[support_vector_indices]\"\"\""
   ]
  },
  {
   "cell_type": "markdown",
   "id": "3206c57b",
   "metadata": {},
   "source": [
    "## non linear svm"
   ]
  },
  {
   "cell_type": "code",
   "execution_count": 117,
   "id": "4a8a3dc7",
   "metadata": {},
   "outputs": [],
   "source": [
    "from sklearn.svm import SVC"
   ]
  },
  {
   "cell_type": "code",
   "execution_count": 118,
   "id": "ef2c804e",
   "metadata": {},
   "outputs": [
    {
     "name": "stdout",
     "output_type": "stream",
     "text": [
      "Accuracy 0.6083788706739527\n",
      "F1-score [0.83229814 0.64242424 0.65957447 0.63414634 0.57803468 0.48351648\n",
      " 0.41463415 0.58139535]\n",
      "              precision    recall  f1-score   support\n",
      "\n",
      "       angry       0.87      0.80      0.83        84\n",
      "        calm       0.65      0.63      0.64        84\n",
      "     disgust       0.62      0.70      0.66        44\n",
      "     fearful       0.65      0.62      0.63        84\n",
      "       happy       0.56      0.60      0.58        84\n",
      "     neutral       0.45      0.52      0.48        42\n",
      "         sad       0.42      0.40      0.41        84\n",
      "   surprised       0.58      0.58      0.58        43\n",
      "\n",
      "    accuracy                           0.61       549\n",
      "   macro avg       0.60      0.61      0.60       549\n",
      "weighted avg       0.61      0.61      0.61       549\n",
      "\n"
     ]
    }
   ],
   "source": [
    "clf = SVC(gamma='auto', C=54, kernel='rbf', random_state=42)\n",
    "clf.fit(X_train, y_train)\n",
    "\n",
    "y_pred = clf.predict(X_test)\n",
    "\n",
    "print('Accuracy %s' % accuracy_score(y_test, y_pred))\n",
    "print('F1-score %s' % f1_score(y_test, y_pred, average=None))\n",
    "print(classification_report(y_test, y_pred))"
   ]
  },
  {
   "cell_type": "code",
   "execution_count": 119,
   "id": "a83fd339",
   "metadata": {},
   "outputs": [
    {
     "name": "stdout",
     "output_type": "stream",
     "text": [
      "Accuracy 0.6265938069216758\n",
      "F1-score [0.82716049 0.69461078 0.62222222 0.63953488 0.63492063 0.41463415\n",
      " 0.4969697  0.50704225]\n",
      "              precision    recall  f1-score   support\n",
      "\n",
      "       angry       0.86      0.80      0.83        84\n",
      "        calm       0.70      0.69      0.69        84\n",
      "     disgust       0.61      0.64      0.62        44\n",
      "     fearful       0.62      0.65      0.64        84\n",
      "       happy       0.57      0.71      0.63        84\n",
      "     neutral       0.42      0.40      0.41        42\n",
      "         sad       0.51      0.49      0.50        84\n",
      "   surprised       0.64      0.42      0.51        43\n",
      "\n",
      "    accuracy                           0.63       549\n",
      "   macro avg       0.62      0.60      0.60       549\n",
      "weighted avg       0.63      0.63      0.63       549\n",
      "\n"
     ]
    }
   ],
   "source": [
    "clf = SVC(gamma='auto', C=10000, kernel='rbf', random_state=42)\n",
    "clf.fit(X_train, y_train)\n",
    "\n",
    "y_pred = clf.predict(X_test)\n",
    "\n",
    "print('Accuracy %s' % accuracy_score(y_test, y_pred))\n",
    "print('F1-score %s' % f1_score(y_test, y_pred, average=None))\n",
    "print(classification_report(y_test, y_pred))"
   ]
  },
  {
   "cell_type": "code",
   "execution_count": 120,
   "id": "8f49be17",
   "metadata": {},
   "outputs": [
    {
     "name": "stdout",
     "output_type": "stream",
     "text": [
      "Accuracy 0.6156648451730419\n",
      "F1-score [0.83435583 0.64634146 0.65934066 0.625      0.57923497 0.42352941\n",
      " 0.4939759  0.57142857]\n",
      "              precision    recall  f1-score   support\n",
      "\n",
      "       angry       0.86      0.81      0.83        84\n",
      "        calm       0.66      0.63      0.65        84\n",
      "     disgust       0.64      0.68      0.66        44\n",
      "     fearful       0.60      0.65      0.62        84\n",
      "       happy       0.54      0.63      0.58        84\n",
      "     neutral       0.42      0.43      0.42        42\n",
      "         sad       0.50      0.49      0.49        84\n",
      "   surprised       0.74      0.47      0.57        43\n",
      "\n",
      "    accuracy                           0.62       549\n",
      "   macro avg       0.62      0.60      0.60       549\n",
      "weighted avg       0.62      0.62      0.62       549\n",
      "\n"
     ]
    }
   ],
   "source": [
    "clf = SVC(gamma='auto', C=54, kernel='linear', random_state=42)\n",
    "clf.fit(X_train, y_train)\n",
    "\n",
    "y_pred = clf.predict(X_test)\n",
    "\n",
    "print('Accuracy %s' % accuracy_score(y_test, y_pred))\n",
    "print('F1-score %s' % f1_score(y_test, y_pred, average=None))\n",
    "print(classification_report(y_test, y_pred))"
   ]
  },
  {
   "cell_type": "code",
   "execution_count": 121,
   "id": "77d13899",
   "metadata": {},
   "outputs": [
    {
     "name": "stdout",
     "output_type": "stream",
     "text": [
      "Accuracy 0.6156648451730419\n",
      "F1-score [0.83435583 0.64634146 0.65934066 0.625      0.57923497 0.42352941\n",
      " 0.4939759  0.57142857]\n",
      "              precision    recall  f1-score   support\n",
      "\n",
      "       angry       0.86      0.81      0.83        84\n",
      "        calm       0.66      0.63      0.65        84\n",
      "     disgust       0.64      0.68      0.66        44\n",
      "     fearful       0.60      0.65      0.62        84\n",
      "       happy       0.54      0.63      0.58        84\n",
      "     neutral       0.42      0.43      0.42        42\n",
      "         sad       0.50      0.49      0.49        84\n",
      "   surprised       0.74      0.47      0.57        43\n",
      "\n",
      "    accuracy                           0.62       549\n",
      "   macro avg       0.62      0.60      0.60       549\n",
      "weighted avg       0.62      0.62      0.62       549\n",
      "\n"
     ]
    }
   ],
   "source": [
    "clf = SVC(gamma='auto', C=10000, kernel='linear', random_state=42)\n",
    "clf.fit(X_train, y_train)\n",
    "\n",
    "y_pred = clf.predict(X_test)\n",
    "\n",
    "print('Accuracy %s' % accuracy_score(y_test, y_pred))\n",
    "print('F1-score %s' % f1_score(y_test, y_pred, average=None))\n",
    "print(classification_report(y_test, y_pred))"
   ]
  },
  {
   "cell_type": "code",
   "execution_count": 122,
   "id": "df09a6da",
   "metadata": {},
   "outputs": [
    {
     "name": "stdout",
     "output_type": "stream",
     "text": [
      "Accuracy 0.6411657559198543\n",
      "F1-score [0.86419753 0.70114943 0.68888889 0.65088757 0.62427746 0.43010753\n",
      " 0.47435897 0.59259259]\n",
      "              precision    recall  f1-score   support\n",
      "\n",
      "       angry       0.90      0.83      0.86        84\n",
      "        calm       0.68      0.73      0.70        84\n",
      "     disgust       0.67      0.70      0.69        44\n",
      "     fearful       0.65      0.65      0.65        84\n",
      "       happy       0.61      0.64      0.62        84\n",
      "     neutral       0.39      0.48      0.43        42\n",
      "         sad       0.51      0.44      0.47        84\n",
      "   surprised       0.63      0.56      0.59        43\n",
      "\n",
      "    accuracy                           0.64       549\n",
      "   macro avg       0.63      0.63      0.63       549\n",
      "weighted avg       0.64      0.64      0.64       549\n",
      "\n"
     ]
    }
   ],
   "source": [
    "clf = SVC(gamma='auto', C=1000, kernel='poly', random_state=42)\n",
    "clf.fit(X_train, y_train)\n",
    "\n",
    "y_pred = clf.predict(X_test)\n",
    "\n",
    "print('Accuracy %s' % accuracy_score(y_test, y_pred))\n",
    "print('F1-score %s' % f1_score(y_test, y_pred, average=None))\n",
    "print(classification_report(y_test, y_pred))"
   ]
  },
  {
   "cell_type": "code",
   "execution_count": 123,
   "id": "1fbaa803",
   "metadata": {},
   "outputs": [],
   "source": [
    "q= np.array(test_data['emotion'])"
   ]
  },
  {
   "cell_type": "code",
   "execution_count": 124,
   "id": "0c08cf55",
   "metadata": {},
   "outputs": [],
   "source": [
    "qt=le.fit_transform(q)"
   ]
  },
  {
   "cell_type": "code",
   "execution_count": 125,
   "id": "79c36772",
   "metadata": {},
   "outputs": [],
   "source": [
    "qe = preprocessing.LabelEncoder()\n",
    "for column_name in test_final.columns:\n",
    "    if test_final[column_name].dtype == object:\n",
    "        test_final[column_name] = qe.fit_transform(test_final[column_name])\n",
    "    else:\n",
    "        pass"
   ]
  },
  {
   "cell_type": "code",
   "execution_count": 126,
   "id": "6b56fb7b",
   "metadata": {},
   "outputs": [],
   "source": [
    "scaler = MinMaxScaler()\n",
    "test_final_norm = scaler.fit_transform(test_final)\n",
    "test_final_norm=pd.DataFrame(test_final_norm, columns=test_final.columns)"
   ]
  },
  {
   "cell_type": "code",
   "execution_count": 127,
   "id": "9a908a4e",
   "metadata": {},
   "outputs": [],
   "source": [
    "Xt_train, Xt_test, yt_train, yt_test = train_test_split(test_final, q, test_size=0.3, \n",
    "                                                    random_state=100, stratify=q)"
   ]
  },
  {
   "cell_type": "code",
   "execution_count": 132,
   "id": "1195f4fc",
   "metadata": {},
   "outputs": [
    {
     "name": "stdout",
     "output_type": "stream",
     "text": [
      "Accuracy 0.47435897435897434\n",
      "F1-score [0.56666667 0.58715596 0.475      0.36734694 0.3537415  0.40384615\n",
      " 0.38993711 0.49462366]\n",
      "              precision    recall  f1-score   support\n",
      "\n",
      "       angry       0.42      0.89      0.57        96\n",
      "        calm       0.52      0.67      0.59        96\n",
      "     disgust       0.59      0.40      0.48        48\n",
      "     fearful       0.53      0.28      0.37        96\n",
      "       happy       0.51      0.27      0.35        96\n",
      "     neutral       0.38      0.44      0.40        48\n",
      "         sad       0.49      0.32      0.39        96\n",
      "   surprised       0.51      0.48      0.49        48\n",
      "\n",
      "    accuracy                           0.47       624\n",
      "   macro avg       0.49      0.47      0.45       624\n",
      "weighted avg       0.49      0.47      0.45       624\n",
      "\n"
     ]
    }
   ],
   "source": [
    "clf = SVC(gamma='auto', C=1000, kernel='poly', random_state=42)\n",
    "clf.fit(X_train, y_train)\n",
    "\n",
    "y_pred = clf.predict(test_final_norm)\n",
    "\n",
    "print('Accuracy %s' % accuracy_score(q, y_pred))\n",
    "print('F1-score %s' % f1_score(q, y_pred, average=None))\n",
    "print(classification_report(q, y_pred))"
   ]
  },
  {
   "cell_type": "code",
   "execution_count": 133,
   "id": "ddbf8775-115d-4372-a79c-5d52296f5fa2",
   "metadata": {},
   "outputs": [
    {
     "data": {
      "text/plain": [
       "0.8647380766223612"
      ]
     },
     "execution_count": 133,
     "metadata": {},
     "output_type": "execute_result"
    }
   ],
   "source": [
    "clf.score(X_train, y_train)"
   ]
  },
  {
   "cell_type": "code",
   "execution_count": 129,
   "id": "0429778f",
   "metadata": {},
   "outputs": [
    {
     "data": {
      "text/plain": [
       "array([   0,    5,    6, ..., 1261, 1270, 1272], dtype=int32)"
      ]
     },
     "execution_count": 129,
     "metadata": {},
     "output_type": "execute_result"
    }
   ],
   "source": [
    "clf.support_"
   ]
  },
  {
   "cell_type": "code",
   "execution_count": 130,
   "id": "8c468ac3",
   "metadata": {},
   "outputs": [
    {
     "name": "stderr",
     "output_type": "stream",
     "text": [
      "/opt/anaconda3/lib/python3.9/site-packages/sklearn/base.py:450: UserWarning: X does not have valid feature names, but PCA was fitted with feature names\n",
      "  warnings.warn(\n"
     ]
    }
   ],
   "source": [
    "support_vectors_pca = pca.transform(clf.support_vectors_)"
   ]
  },
  {
   "cell_type": "code",
   "execution_count": 131,
   "id": "4f331740",
   "metadata": {},
   "outputs": [
    {
     "data": {
      "text/plain": [
       "\"plt.scatter(X_pca[:, 0], X_pca[:, 1], c=y_train_ohe, \\n            cmap=plt.cm.prism, edgecolor='none', alpha=0.7, s=30)\\nplt.scatter(support_vectors_pca[:100, 0], support_vectors_pca[:100, 1], s=100,\\n                linewidth=1, facecolors='none', edgecolors='k')\\nplt.show()\""
      ]
     },
     "execution_count": 131,
     "metadata": {},
     "output_type": "execute_result"
    }
   ],
   "source": [
    "\"\"\"plt.scatter(X_pca[:, 0], X_pca[:, 1], c=y_train_ohe, \n",
    "            cmap=plt.cm.prism, edgecolor='none', alpha=0.7, s=30)\n",
    "plt.scatter(support_vectors_pca[:100, 0], support_vectors_pca[:100, 1], s=100,\n",
    "                linewidth=1, facecolors='none', edgecolors='k')\n",
    "plt.show()\"\"\""
   ]
  }
 ],
 "metadata": {
  "kernelspec": {
   "display_name": "Python 3 (ipykernel)",
   "language": "python",
   "name": "python3"
  },
  "language_info": {
   "codemirror_mode": {
    "name": "ipython",
    "version": 3
   },
   "file_extension": ".py",
   "mimetype": "text/x-python",
   "name": "python",
   "nbconvert_exporter": "python",
   "pygments_lexer": "ipython3",
   "version": "3.9.12"
  }
 },
 "nbformat": 4,
 "nbformat_minor": 5
}
